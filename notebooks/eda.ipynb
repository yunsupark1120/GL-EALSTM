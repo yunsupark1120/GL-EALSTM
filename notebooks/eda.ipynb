{
 "cells": [
  {
   "cell_type": "markdown",
   "metadata": {},
   "source": [
    "# GAGE II Modeling - EDA\n",
    "\n",
    "-------------------\n",
    "### Author: Yunsu Park\n",
    "### Date: 2025-01-25\n",
    "---------------------\n",
    "\n",
    "This notebook explores the GAGE II dataset"
   ]
  },
  {
   "cell_type": "markdown",
   "metadata": {},
   "source": [
    "## Helper Functions"
   ]
  },
  {
   "cell_type": "code",
   "execution_count": 1,
   "metadata": {},
   "outputs": [],
   "source": [
    "import os\n",
    "import pandas as pd\n",
    "\n",
    "def get_file_names(folder_path: str) -> list:\n",
    "    \"\"\"\n",
    "    Get all file names in a folder\n",
    "    \"\"\"\n",
    "    return os.listdir(folder_path)\n",
    "\n",
    "def get_data_coverage(file_name: str, col_name: str = \"discharge\") -> float:\n",
    "    \"\"\"\n",
    "    Get the discharge coverage from the file name\n",
    "    \"\"\"\n",
    "    \n",
    "    data: pd.DataFrame = pd.read_csv(file_name)\n",
    "    \n",
    "    num_rows: int = data.shape[0]\n",
    "    \n",
    "    if num_rows == 0:\n",
    "        return 0\n",
    "    \n",
    "    if col_name == \"discharge\":\n",
    "        data[col_name] = data[col_name].apply(lambda x: x if x >= 0 else None)\n",
    "    \n",
    "    num_missing_discharge: int = data[col_name].isnull().sum()\n",
    "    \n",
    "    return 1 - num_missing_discharge / num_rows\n",
    "\n",
    "def get_column_values(file_name: str, col_name = \"discharge\") -> pd.Series:\n",
    "    \"\"\"\n",
    "    Get the discharge values from the file name\n",
    "    \"\"\"\n",
    "    \n",
    "    data: pd.DataFrame = pd.read_csv(file_name)\n",
    "    data = data.dropna(subset=[col_name])\n",
    "    \n",
    "    \n",
    "    return data[col_name]\n",
    "\n",
    "def basin_id_to_key(basins_file: list) -> dict:\n",
    "    \"\"\"\n",
    "    Convert the basin id to a key\n",
    "    \"\"\"\n",
    "    \n",
    "    key: dict = {}\n",
    "    \n",
    "    for i, basin_id in enumerate(basins_file):\n",
    "        if basin_id.endswith('.csv'):\n",
    "            basin_id = basin_id[:-4]\n",
    "        key[basin_id] = i\n",
    "    \n",
    "    return key"
   ]
  },
  {
   "cell_type": "markdown",
   "metadata": {},
   "source": [
    "# US Basins\n",
    "\n",
    "## 1. Discharge Data Coverage\n",
    "\n",
    "This section examines the coverage of discharge data in the US GAGE II dataset.\n"
   ]
  },
  {
   "cell_type": "code",
   "execution_count": 2,
   "metadata": {},
   "outputs": [
    {
     "ename": "FileNotFoundError",
     "evalue": "[WinError 3] 지정된 경로를 찾을 수 없습니다: 'US_climate_discharge_data'",
     "output_type": "error",
     "traceback": [
      "\u001b[1;31m---------------------------------------------------------------------------\u001b[0m",
      "\u001b[1;31mFileNotFoundError\u001b[0m                         Traceback (most recent call last)",
      "Cell \u001b[1;32mIn[2], line 6\u001b[0m\n\u001b[0;32m      4\u001b[0m \u001b[38;5;66;03m# Get the file names\u001b[39;00m\n\u001b[0;32m      5\u001b[0m US_folder_path: \u001b[38;5;28mstr\u001b[39m \u001b[38;5;241m=\u001b[39m \u001b[38;5;124m\"\u001b[39m\u001b[38;5;124mUS_climate_discharge_data\u001b[39m\u001b[38;5;124m\"\u001b[39m\n\u001b[1;32m----> 6\u001b[0m US_file_names: \u001b[38;5;28mlist\u001b[39m \u001b[38;5;241m=\u001b[39m \u001b[43mget_file_names\u001b[49m\u001b[43m(\u001b[49m\u001b[43mUS_folder_path\u001b[49m\u001b[43m)\u001b[49m\n\u001b[0;32m      8\u001b[0m \u001b[38;5;66;03m# Get the basin id to key\u001b[39;00m\n\u001b[0;32m      9\u001b[0m basins_dict: \u001b[38;5;28mdict\u001b[39m \u001b[38;5;241m=\u001b[39m basin_id_to_key(US_file_names)\n",
      "Cell \u001b[1;32mIn[1], line 8\u001b[0m, in \u001b[0;36mget_file_names\u001b[1;34m(folder_path)\u001b[0m\n\u001b[0;32m      4\u001b[0m \u001b[38;5;28;01mdef\u001b[39;00m \u001b[38;5;21mget_file_names\u001b[39m(folder_path: \u001b[38;5;28mstr\u001b[39m) \u001b[38;5;241m-\u001b[39m\u001b[38;5;241m>\u001b[39m \u001b[38;5;28mlist\u001b[39m:\n\u001b[0;32m      5\u001b[0m \u001b[38;5;250m    \u001b[39m\u001b[38;5;124;03m\"\"\"\u001b[39;00m\n\u001b[0;32m      6\u001b[0m \u001b[38;5;124;03m    Get all file names in a folder\u001b[39;00m\n\u001b[0;32m      7\u001b[0m \u001b[38;5;124;03m    \"\"\"\u001b[39;00m\n\u001b[1;32m----> 8\u001b[0m     \u001b[38;5;28;01mreturn\u001b[39;00m \u001b[43mos\u001b[49m\u001b[38;5;241;43m.\u001b[39;49m\u001b[43mlistdir\u001b[49m\u001b[43m(\u001b[49m\u001b[43mfolder_path\u001b[49m\u001b[43m)\u001b[49m\n",
      "\u001b[1;31mFileNotFoundError\u001b[0m: [WinError 3] 지정된 경로를 찾을 수 없습니다: 'US_climate_discharge_data'"
     ]
    }
   ],
   "source": [
    "from tqdm import tqdm\n",
    "import matplotlib.pyplot as plt\n",
    "\n",
    "# Get the file names\n",
    "US_folder_path: str = \"US_climate_discharge_data\"\n",
    "US_file_names: list = get_file_names(US_folder_path)\n",
    "\n",
    "# Get the basin id to key\n",
    "basins_dict: dict = basin_id_to_key(US_file_names)\n",
    "\n",
    "# Get the discharge coverage\n",
    "for file_name in tqdm(US_file_names):\n",
    "    discharge_coverage: float = get_data_coverage(US_folder_path + '/' + file_name)\n",
    "    \n",
    "    key_index = file_name[:-4]\n",
    "    basins_dict[key_index] = discharge_coverage\n"
   ]
  },
  {
   "cell_type": "code",
   "execution_count": 3,
   "metadata": {},
   "outputs": [
    {
     "name": "stderr",
     "output_type": "stream",
     "text": [
      " 34%|███▍      | 330/976 [00:07<00:14, 43.63it/s]C:\\Users\\ybrot\\AppData\\Local\\Temp\\ipykernel_365984\\2781563767.py:23: RuntimeWarning: invalid value encountered in scalar divide\n",
      "  discharge_coverage = (total_rows - missing_values) / total_rows\n",
      "100%|██████████| 976/976 [00:23<00:00, 42.26it/s]\n"
     ]
    }
   ],
   "source": [
    "import os\n",
    "import pandas as pd\n",
    "from tqdm import tqdm\n",
    "\n",
    "# Define the directory containing the CSV files\n",
    "data_folder = 'data/csv_files'\n",
    "\n",
    "# Initialize a list to store the results\n",
    "results = []\n",
    "\n",
    "# Iterate over all CSV files in the directory\n",
    "for file_name in tqdm(os.listdir(data_folder)):\n",
    "    if file_name.endswith('.csv'):\n",
    "        file_path = os.path.join(data_folder, file_name)\n",
    "        df = pd.read_csv(file_path, index_col='date', parse_dates=['date'])\n",
    "        \n",
    "        # Filter the data to include only the date range from 1980-01-01 to 2022-12-31\n",
    "        df = df.loc['1980-01-01':'2022-12-31']\n",
    "        \n",
    "        # Calculate the data coverage for the \"discharge\" column\n",
    "        total_rows = len(df)\n",
    "        missing_values = df['discharge'].isna().sum()\n",
    "        discharge_coverage = (total_rows - missing_values) / total_rows\n",
    "        \n",
    "        # Append the results to the list\n",
    "        basin_id = os.path.splitext(file_name)[0]\n",
    "        results.append({'basin_id': basin_id, 'discharge_coverage': discharge_coverage})\n",
    "\n",
    "# Create a DataFrame from the results\n",
    "results_df = pd.DataFrame(results)\n",
    "\n",
    "# Save the results to an output CSV file\n",
    "output_file_path = 'discharge_coverage.csv'\n",
    "results_df.to_csv(output_file_path, index=False)"
   ]
  },
  {
   "cell_type": "code",
   "execution_count": null,
   "metadata": {},
   "outputs": [
    {
     "data": {
      "text/plain": [
       "0.26998754669987546"
      ]
     },
     "execution_count": 28,
     "metadata": {},
     "output_type": "execute_result"
    }
   ],
   "source": [
    "basins_dict[\"04043275\"]"
   ]
  },
  {
   "cell_type": "code",
   "execution_count": null,
   "metadata": {},
   "outputs": [],
   "source": [
    "\n",
    "# Create and write to basin_list.txt\n",
    "with open('US_basin_list.txt', 'w') as basin_list_file:\n",
    "    for key in basins_dict.keys():\n",
    "        basin_list_file.write(f\"{key}\\n\")\n",
    "\n",
    "# Create and write to full_basin_list.txt\n",
    "with open('US_full_basin_list.txt', 'w') as full_basin_list_file:\n",
    "    for key, value in basins_dict.items():\n",
    "        if value == 1.0:\n",
    "            full_basin_list_file.write(f\"{key}\\n\")"
   ]
  },
  {
   "cell_type": "code",
   "execution_count": 16,
   "metadata": {},
   "outputs": [
    {
     "name": "stdout",
     "output_type": "stream",
     "text": [
      "       discharge_coverage\n",
      "count          439.000000\n",
      "mean             0.632175\n",
      "std              0.367332\n",
      "min              0.000000\n",
      "25%              0.318929\n",
      "50%              0.712951\n",
      "75%              1.000000\n",
      "max              1.000000\n"
     ]
    },
    {
     "data": {
      "image/png": "[encoded data removed]",
      "text/plain": [
       "<Figure size 640x480 with 1 Axes>"
      ]
     },
     "metadata": {},
     "output_type": "display_data"
    },
    {
     "data": {
      "image/png": "[encoded data removed]",
      "text/plain": [
       "<Figure size 640x480 with 1 Axes>"
      ]
     },
     "metadata": {},
     "output_type": "display_data"
    }
   ],
   "source": [
    "import pandas as pd\n",
    "import matplotlib.pyplot as plt\n",
    "\n",
    "# Assuming basins_dict is already defined and contains the data\n",
    "# Convert the dictionary to a dataframe\n",
    "US_discharge_coverage_df = pd.DataFrame.from_dict(basins_dict, orient='index', columns=['discharge_coverage'])\n",
    "\n",
    "# Display summary statistics\n",
    "print(US_discharge_coverage_df.describe())\n",
    "\n",
    "# Plot the discharge coverage histogram\n",
    "plt.hist(US_discharge_coverage_df['discharge_coverage'], bins=30)\n",
    "plt.xlabel('Discharge Coverage (full coverage = 1)')\n",
    "plt.ylabel('Frequency')\n",
    "plt.title('Histogram of Discharge Coverage')\n",
    "plt.show()\n",
    "\n",
    "# Sort the discharge coverage in ascending order\n",
    "sorted_coverage = US_discharge_coverage_df['discharge_coverage'].sort_values()\n",
    "\n",
    "# Calculate the cumulative frequency\n",
    "cumulative_frequency = sorted_coverage.rank(method='first') / len(sorted_coverage)\n",
    "\n",
    "# Plot the cumulative curve\n",
    "plt.plot(sorted_coverage, cumulative_frequency)\n",
    "plt.xlabel('Discharge Coverage (full coverage = 1)')\n",
    "plt.ylabel('Cumulative Frequency (proportion)')\n",
    "plt.title('Cumulative Frequency Curve of Discharge Coverage')\n",
    "plt.show()"
   ]
  },
  {
   "cell_type": "code",
   "execution_count": 17,
   "metadata": {},
   "outputs": [
    {
     "data": {
      "text/plain": [
       "'58.09%'"
      ]
     },
     "execution_count": 17,
     "metadata": {},
     "output_type": "execute_result"
    }
   ],
   "source": [
    "def cumulative_coverage(basins_dict: dict, criterion: float) -> float:\n",
    "    \"\"\"\n",
    "    Calculate the cumulative frequency of discharge coverage values greater than the given criterion.\n",
    "    \n",
    "    Parameters:\n",
    "    basins_dict (dict): Dictionary containing basin IDs as keys and discharge coverage as values.\n",
    "    criterion (float): The discharge coverage criterion.\n",
    "    \n",
    "    Returns:\n",
    "    float: The cumulative frequency of discharge coverage values greater than the criterion.\n",
    "    \"\"\"\n",
    "    # Convert the dictionary to a DataFrame\n",
    "    US_discharge_coverage_df = pd.DataFrame.from_dict(basins_dict, orient='index', columns=['discharge_coverage'])\n",
    "    \n",
    "    # Filter the DataFrame to include only rows where discharge coverage is greater than the criterion\n",
    "    filtered_df = US_discharge_coverage_df[US_discharge_coverage_df['discharge_coverage'] > criterion]\n",
    "    \n",
    "    # Calculate the cumulative frequency\n",
    "    cumulative_frequency = len(filtered_df) / len(US_discharge_coverage_df)\n",
    "    \n",
    "    return f\"{cumulative_frequency:.2%}\"\n",
    "\n",
    "cumulative_coverage(basins_dict, 0.6)"
   ]
  },
  {
   "cell_type": "markdown",
   "metadata": {},
   "source": [
    "### Other Columns\n",
    "\n",
    "It is confirmed that the variables other than `discarge` are not missing."
   ]
  },
  {
   "cell_type": "markdown",
   "metadata": {},
   "source": [
    "## 2. Discharge Data Distribution"
   ]
  },
  {
   "cell_type": "code",
   "execution_count": 58,
   "metadata": {},
   "outputs": [
    {
     "name": "stderr",
     "output_type": "stream",
     "text": [
      "  0%|          | 0/399 [00:00<?, ?it/s]C:\\Users\\ybrot\\AppData\\Local\\Temp\\ipykernel_21612\\2163804657.py:6: FutureWarning: The behavior of array concatenation with empty entries is deprecated. In a future version, this will no longer exclude empty items when determining the result dtype. To retain the old behavior, exclude the empty entries before the concat operation.\n",
      "  US_discharge_values = pd.concat([US_discharge_values, temp_data])\n",
      "100%|██████████| 399/399 [00:10<00:00, 37.82it/s]\n"
     ]
    }
   ],
   "source": [
    "US_discharge_values: pd.Series = pd.Series()\n",
    "\n",
    "for file_name in tqdm(US_file_names):\n",
    "    temp_data: pd.Series = get_column_values(US_folder_path + '/' + file_name)\n",
    "    \n",
    "    US_discharge_values = pd.concat([US_discharge_values, temp_data])"
   ]
  },
  {
   "cell_type": "code",
   "execution_count": 59,
   "metadata": {},
   "outputs": [
    {
     "data": {
      "text/plain": [
       "count    4.458237e+06\n",
       "mean     5.720082e+02\n",
       "std      6.214572e+03\n",
       "min     -9.999990e+05\n",
       "25%      3.600000e+01\n",
       "50%      1.450000e+02\n",
       "75%      5.130000e+02\n",
       "max      1.130000e+05\n",
       "dtype: float64"
      ]
     },
     "execution_count": 59,
     "metadata": {},
     "output_type": "execute_result"
    }
   ],
   "source": [
    "discharge_summary_stats = US_discharge_values.describe()\n",
    "discharge_summary_stats"
   ]
  },
  {
   "cell_type": "code",
   "execution_count": 60,
   "metadata": {},
   "outputs": [
    {
     "data": {
      "image/png": "[encoded data removed]",
      "text/plain": [
       "<Figure size 640x480 with 1 Axes>"
      ]
     },
     "metadata": {},
     "output_type": "display_data"
    },
    {
     "data": {
      "image/png": "[encoded data removed]",
      "text/plain": [
       "<Figure size 640x480 with 1 Axes>"
      ]
     },
     "metadata": {},
     "output_type": "display_data"
    }
   ],
   "source": [
    "# Plot the discharge coverage\n",
    "import seaborn as sns\n",
    "\n",
    "# Histogram\n",
    "sns.histplot(US_discharge_values, bins=30, kde=True)\n",
    "plt.xlabel('Value')\n",
    "plt.ylabel('Frequency')\n",
    "plt.title('Distribution of Series')\n",
    "plt.show()\n",
    "\n",
    "# Boxplot\n",
    "sns.boxplot(x=US_discharge_values)\n",
    "plt.xlabel('Value')\n",
    "plt.title('Boxplot of Series')\n",
    "plt.show()"
   ]
  },
  {
   "cell_type": "markdown",
   "metadata": {},
   "source": [
    "# Canada Basins\n",
    "\n",
    "Repeat the same analysis for Canadian basins.\n",
    "\n",
    "## 1. Discharge Data Coverage"
   ]
  },
  {
   "cell_type": "code",
   "execution_count": 20,
   "metadata": {},
   "outputs": [
    {
     "name": "stderr",
     "output_type": "stream",
     "text": [
      "100%|██████████| 649/649 [00:22<00:00, 29.25it/s]\n"
     ]
    }
   ],
   "source": [
    "from tqdm import tqdm\n",
    "\n",
    "# Get the file names\n",
    "Canadian_folder_path: str = \"Canadian_climate_discharge_data\"\n",
    "Canadian_file_names: list = get_file_names(Canadian_folder_path)\n",
    "\n",
    "# Get the basin id to key\n",
    "basins_dict: dict = basin_id_to_key(Canadian_file_names)\n",
    "\n",
    "# Get the discharge coverage\n",
    "for file_name in tqdm(Canadian_file_names):\n",
    "    discharge_coverage: float = get_data_coverage(Canadian_folder_path + '/' + file_name)\n",
    "    \n",
    "    key_index = file_name[:-4]\n",
    "    basins_dict[key_index] = discharge_coverage\n"
   ]
  },
  {
   "cell_type": "code",
   "execution_count": 28,
   "metadata": {},
   "outputs": [],
   "source": [
    "# Create and write to basin_list.txt\n",
    "with open('Canada_basin_list.txt', 'w') as basin_list_file:\n",
    "    for key in basins_dict.keys():\n",
    "        basin_list_file.write(f\"{key}\\n\")\n",
    "\n",
    "# Create and write to full_basin_list.txt\n",
    "with open('Canada_full_basin_list.txt', 'w') as full_basin_list_file:\n",
    "    for key, value in basins_dict.items():\n",
    "        if value == 1.0:\n",
    "            full_basin_list_file.write(f\"{key}\\n\")"
   ]
  },
  {
   "cell_type": "code",
   "execution_count": 21,
   "metadata": {},
   "outputs": [
    {
     "name": "stdout",
     "output_type": "stream",
     "text": [
      "       discharge_coverage\n",
      "count          649.000000\n",
      "mean             0.429187\n",
      "std              0.397112\n",
      "min              0.000000\n",
      "25%              0.000000\n",
      "50%              0.346077\n",
      "75%              0.840909\n",
      "max              1.000000\n"
     ]
    },
    {
     "data": {
      "image/png": "[encoded data removed]",
      "text/plain": [
       "<Figure size 640x480 with 1 Axes>"
      ]
     },
     "metadata": {},
     "output_type": "display_data"
    },
    {
     "data": {
      "image/png": "[encoded data removed]",
      "text/plain": [
       "<Figure size 640x480 with 1 Axes>"
      ]
     },
     "metadata": {},
     "output_type": "display_data"
    }
   ],
   "source": [
    "import matplotlib.pyplot as plt\n",
    "import pandas as pd\n",
    "# Convert the dictionary to a dataframe\n",
    "Canadian_discharge_coverage_df: pd.DataFrame = pd.DataFrame.from_dict(basins_dict, orient='index', columns=['discharge_coverage'])\n",
    "\n",
    "# Display summary statistics\n",
    "print(Canadian_discharge_coverage_df.describe())\n",
    "\n",
    "# Plot the discharge coverage\n",
    "plt.hist(Canadian_discharge_coverage_df['discharge_coverage'], bins=30)\n",
    "plt.xlabel('Discharge Coverage (full coverage = 1)')\n",
    "plt.ylabel('Frequency')\n",
    "plt.title('Histogram of Discharge Coverage')\n",
    "plt.show()\n",
    "\n",
    "\n",
    "# Sort the discharge coverage in ascending order\n",
    "sorted_coverage = Canadian_discharge_coverage_df['discharge_coverage'].sort_values()\n",
    "\n",
    "# Calculate the cumulative frequency\n",
    "cumulative_frequency = sorted_coverage.rank(method='first') / len(sorted_coverage)\n",
    "\n",
    "# Plot the cumulative curve\n",
    "plt.plot(sorted_coverage, cumulative_frequency)\n",
    "plt.xlabel('Discharge Coverage (full coverage = 1)')\n",
    "plt.ylabel('Cumulative Frequency (proportion)')\n",
    "plt.title('Cumulative Frequency Curve of Discharge Coverage')\n",
    "plt.show()"
   ]
  },
  {
   "cell_type": "code",
   "execution_count": 1,
   "metadata": {},
   "outputs": [
    {
     "ename": "NameError",
     "evalue": "name 'cumulative_coverage' is not defined",
     "output_type": "error",
     "traceback": [
      "\u001b[1;31m---------------------------------------------------------------------------\u001b[0m",
      "\u001b[1;31mNameError\u001b[0m                                 Traceback (most recent call last)",
      "Cell \u001b[1;32mIn[1], line 1\u001b[0m\n\u001b[1;32m----> 1\u001b[0m \u001b[43mcumulative_coverage\u001b[49m(basins_dict, \u001b[38;5;241m0.1\u001b[39m)\n",
      "\u001b[1;31mNameError\u001b[0m: name 'cumulative_coverage' is not defined"
     ]
    }
   ],
   "source": [
    "cumulative_coverage(basins_dict, 0.1)"
   ]
  },
  {
   "cell_type": "markdown",
   "metadata": {},
   "source": [
    "### Other Columns\n",
    "\n",
    "It is also confirmed that the variables other than `discarge` are not missing."
   ]
  },
  {
   "cell_type": "code",
   "execution_count": 6,
   "metadata": {},
   "outputs": [
    {
     "ename": "NameError",
     "evalue": "name 'Canadian_file_names' is not defined",
     "output_type": "error",
     "traceback": [
      "\u001b[1;31m---------------------------------------------------------------------------\u001b[0m",
      "\u001b[1;31mNameError\u001b[0m                                 Traceback (most recent call last)",
      "Cell \u001b[1;32mIn[6], line 5\u001b[0m\n\u001b[0;32m      1\u001b[0m col_names \u001b[38;5;241m=\u001b[39m [\u001b[38;5;124m\"\u001b[39m\u001b[38;5;124mdischarge\u001b[39m\u001b[38;5;124m\"\u001b[39m, \u001b[38;5;124m\"\u001b[39m\u001b[38;5;124mdayl\u001b[39m\u001b[38;5;124m\"\u001b[39m, \u001b[38;5;124m\"\u001b[39m\u001b[38;5;124mprcp\u001b[39m\u001b[38;5;124m\"\u001b[39m, \u001b[38;5;124m\"\u001b[39m\u001b[38;5;124msrad\u001b[39m\u001b[38;5;124m\"\u001b[39m, \u001b[38;5;124m\"\u001b[39m\u001b[38;5;124mswe\u001b[39m\u001b[38;5;124m\"\u001b[39m, \u001b[38;5;124m\"\u001b[39m\u001b[38;5;124mtmax\u001b[39m\u001b[38;5;124m\"\u001b[39m, \u001b[38;5;124m\"\u001b[39m\u001b[38;5;124mtmin\u001b[39m\u001b[38;5;124m\"\u001b[39m, \u001b[38;5;124m\"\u001b[39m\u001b[38;5;124mvp\u001b[39m\u001b[38;5;124m\"\u001b[39m]\n\u001b[0;32m      3\u001b[0m \u001b[38;5;28;01mfor\u001b[39;00m col_name \u001b[38;5;129;01min\u001b[39;00m col_names:\n\u001b[1;32m----> 5\u001b[0m     basins_dict: \u001b[38;5;28mdict\u001b[39m \u001b[38;5;241m=\u001b[39m basin_id_to_key(\u001b[43mCanadian_file_names\u001b[49m)\n\u001b[0;32m      7\u001b[0m     \u001b[38;5;28;01mfor\u001b[39;00m file_name \u001b[38;5;129;01min\u001b[39;00m tqdm(Canadian_file_names):\n\u001b[0;32m      8\u001b[0m         data_coverage: \u001b[38;5;28mfloat\u001b[39m \u001b[38;5;241m=\u001b[39m get_data_coverage(Canadian_folder_path \u001b[38;5;241m+\u001b[39m \u001b[38;5;124m'\u001b[39m\u001b[38;5;124m/\u001b[39m\u001b[38;5;124m'\u001b[39m \u001b[38;5;241m+\u001b[39m file_name, col_name)\n",
      "\u001b[1;31mNameError\u001b[0m: name 'Canadian_file_names' is not defined"
     ]
    }
   ],
   "source": [
    "col_names = [\"discharge\", \"dayl\", \"prcp\", \"srad\", \"swe\", \"tmax\", \"tmin\", \"vp\"]\n",
    "\n",
    "for col_name in col_names:\n",
    "    \n",
    "    basins_dict: dict = basin_id_to_key(Canadian_file_names)\n",
    "    \n",
    "    for file_name in tqdm(Canadian_file_names):\n",
    "        data_coverage: float = get_data_coverage(Canadian_folder_path + '/' + file_name, col_name)\n",
    "        \n",
    "        key_index = file_name[:-4]\n",
    "        basins_dict[key_index] = data_coverage\n",
    "        \n",
    "    basins_df = pd.DataFrame.from_dict(basins_dict, orient='index', columns=[col_name + '_coverage'])\n",
    "    \n",
    "    print(f\"Summary statistics for {col_name}\")\n",
    "    print(basins_df.describe(), \"\\n\")"
   ]
  },
  {
   "cell_type": "markdown",
   "metadata": {},
   "source": [
    "## 2. Discharge Data Distribution"
   ]
  },
  {
   "cell_type": "code",
   "execution_count": 67,
   "metadata": {},
   "outputs": [
    {
     "name": "stderr",
     "output_type": "stream",
     "text": [
      "  0%|          | 0/577 [00:00<?, ?it/s]C:\\Users\\ybrot\\AppData\\Local\\Temp\\ipykernel_19436\\3844740279.py:6: FutureWarning: The behavior of array concatenation with empty entries is deprecated. In a future version, this will no longer exclude empty items when determining the result dtype. To retain the old behavior, exclude the empty entries before the concat operation.\n",
      "  Canadian_discharge_values = pd.concat([Canadian_discharge_values, temp_data])\n",
      "100%|██████████| 577/577 [00:17<00:00, 33.75it/s]\n"
     ]
    }
   ],
   "source": [
    "Canadian_discharge_values: pd.Series = pd.Series()\n",
    "\n",
    "for file_name in tqdm(Canadian_file_names):\n",
    "    temp_data: pd.Series = get_column_values(Canadian_folder_path + '/' + file_name)\n",
    "    \n",
    "    Canadian_discharge_values = pd.concat([Canadian_discharge_values, temp_data])"
   ]
  },
  {
   "cell_type": "code",
   "execution_count": 68,
   "metadata": {},
   "outputs": [
    {
     "data": {
      "text/plain": [
       "count    4.473397e+06\n",
       "mean     1.153141e+01\n",
       "std      3.228405e+01\n",
       "min     -8.000000e+00\n",
       "25%      4.410000e-01\n",
       "50%      1.660000e+00\n",
       "75%      7.280000e+00\n",
       "max      1.310000e+03\n",
       "dtype: float64"
      ]
     },
     "execution_count": 68,
     "metadata": {},
     "output_type": "execute_result"
    }
   ],
   "source": [
    "Canadian_discharge_summary_stats = Canadian_discharge_values.describe()\n",
    "Canadian_discharge_summary_stats"
   ]
  },
  {
   "cell_type": "code",
   "execution_count": 69,
   "metadata": {},
   "outputs": [
    {
     "data": {
      "image/png": "[encoded data removed]",
      "text/plain": [
       "<Figure size 640x480 with 1 Axes>"
      ]
     },
     "metadata": {},
     "output_type": "display_data"
    }
   ],
   "source": [
    "# Plot the discharge coverage\n",
    "import seaborn as sns\n",
    "\n",
    "sns.histplot(Canadian_discharge_values, bins=30, kde=True)\n",
    "plt.xlabel('Value')\n",
    "plt.ylabel('Frequency')\n",
    "plt.title('Distribution of Series')\n",
    "plt.show()"
   ]
  },
  {
   "cell_type": "markdown",
   "metadata": {},
   "source": [
    "# Data Imputation\n",
    "\n",
    "## 1. Purpose\n",
    "\n",
    "Eventually, we will be using the GAGE II dataset to develop a machine learning model (__LSTM__) to predict streamflow.\n",
    "In order to properly capture the sequential nature of streamflow, we need to have a complete dataset to train the model.\n",
    "\n",
    "Therefore, in this section, we will impute the missing values in the GAGE II dataset, especially US basins.\n",
    "This is because the US basins will be used to train the model.\n",
    "\n",
    "## 2. Method\n",
    "\n",
    "We will adopt the following methods to impute the missing values:\n",
    "\n",
    "1. **Multiple Linear Regression (MLR)**: Although there are many missing values in the `discharge` column, the other columns are complete. Therefore, we can use the other columns to predict the missing values in the `discharge` column. [[1]](#1) [[2]](#2)\n",
    "\n",
    "2. **K-Nearest Neighbors (KNN)**: We can use the KNN algorithm to impute the missing values in the `discharge` column. This method is based on the idea that similar data points have similar values. [[1]](#1) [[3]](#3)\n",
    "\n",
    "3. **Random Forest (RF)**: We can use the RF algorithm to impute the missing values in the `discharge` column. This method is based on the idea that the missing values can be predicted by the other columns. [[1]](#1) [[3]](#3)\n",
    "\n",
    "We will try all three methods on __complete__ data (i.e., data with no missing values) and compare the accuracy of the imputed values.\n",
    "\n",
    "\n",
    "\n",
    "## References\n",
    "<a id=\"1\">[1]</a> \n",
    "Vasker Sharma , Kezang Yuden, 2021, Imputing Missing Data in Hydrology using Machine Learning Models, INTERNATIONAL JOURNAL OF ENGINEERING RESEARCH & TECHNOLOGY (IJERT) Volume 10, Issue 01 (January 2021), 10.17577/IJERTV10IS010011\n",
    "\n",
    "<a id=\"2\">[2]</a> \n",
    "Bleidorn, M. T., Pinto, W. de, Schmidt, I. M., Mendonça, A. S., & Reis, J. A. (2022). Methodological approaches for imputing missing data into monthly flows series. Ambiente e Agua - An Interdisciplinary Journal of Applied Science, 17(2), 1–27. https://doi.org/10.4136/ambi-agua.2795 \n",
    "\n",
    "<a id=\"3\">[3]</a> \n",
    "Hamzah, F. B., Mohd Hamzah, F., Mohd Razali, S. F., & Samad, H. (2021). A comparison of multiple imputation methods for recovering missing data in Hydrological Studies. Civil Engineering Journal, 7(9), 1608–1619. https://doi.org/10.28991/cej-2021-03091747 "
   ]
  },
  {
   "cell_type": "code",
   "execution_count": 21,
   "metadata": {},
   "outputs": [
    {
     "data": {
      "text/plain": [
       "Date         0\n",
       "discharge    0\n",
       "dayl         0\n",
       "prcp         0\n",
       "srad         0\n",
       "swe          0\n",
       "tmax         0\n",
       "tmin         0\n",
       "vp           0\n",
       "dtype: int64"
      ]
     },
     "execution_count": 21,
     "metadata": {},
     "output_type": "execute_result"
    }
   ],
   "source": [
    "# load the data\n",
    "import pandas as pd\n",
    "\n",
    "data = pd.read_csv('US_climate_discharge_data/04015330.csv')\n",
    "\n",
    "data.isnull().sum() # Check for missing values"
   ]
  },
  {
   "cell_type": "code",
   "execution_count": 27,
   "metadata": {},
   "outputs": [],
   "source": [
    "import pandas as pd\n",
    "import numpy as np\n",
    "from sklearn.linear_model import LinearRegression\n",
    "from sklearn.impute import KNNImputer\n",
    "from sklearn.ensemble import RandomForestRegressor\n",
    "from sklearn.metrics import mean_absolute_error, mean_squared_error, r2_score\n",
    "\n",
    "class ImputationExperiment:\n",
    "    def __init__(self, file_path, target_col=\"discharge\", random_seed=42):\n",
    "        self.target_col = target_col\n",
    "        self.random_seed = random_seed\n",
    "        self.data = pd.read_csv(file_path)\n",
    "        self._prepare_data()\n",
    "\n",
    "    def _prepare_data(self):\n",
    "        # Drop the \"Date\" column if present\n",
    "        if \"Date\" in self.data.columns:\n",
    "            self.data = self.data.drop(columns=[\"Date\"])\n",
    "            \n",
    "        # Drop rows with missing values in the target column\n",
    "        self.data = self.data.dropna(subset=[self.target_col])\n",
    "\n",
    "        # Check dataset shape\n",
    "        self.total_rows = self.data.shape[0]\n",
    "\n",
    "        # Define the total number of missing values to introduce (30% of dataset)\n",
    "        self.num_missing = int(0.3 * self.total_rows)\n",
    "\n",
    "        # Select three random ranges for missing values\n",
    "        np.random.seed(self.random_seed)  # Ensure reproducibility\n",
    "        self.ranges = []\n",
    "        remaining = self.num_missing\n",
    "\n",
    "        while remaining > 0:\n",
    "            start = np.random.randint(0, self.total_rows - 500)  # Ensure range stays within bounds\n",
    "            length = min(np.random.randint(300, 600), remaining)  # Ensure we don't exceed 30%\n",
    "            end = start + length\n",
    "            self.ranges.append((start, end))\n",
    "            remaining -= length\n",
    "\n",
    "        # Create a copy of the dataset and introduce missing values in the target_col column\n",
    "        self.data_missing = self.data.copy()\n",
    "        for start, end in self.ranges:\n",
    "            self.data_missing.loc[start:end, self.target_col] = np.nan\n",
    "\n",
    "        # Split data into training (70% without missing values) and test (30% artificially missing values)\n",
    "        self.train_data = self.data_missing.dropna()\n",
    "        self.test_data = self.data.iloc[np.concatenate([np.arange(start, end) for start, end in self.ranges])]\n",
    "\n",
    "        # Define features and target\n",
    "        self.X_train = self.train_data.drop(columns=[self.target_col])\n",
    "        self.y_train = self.train_data[self.target_col]\n",
    "        self.X_test = self.test_data.drop(columns=[self.target_col])\n",
    "        self.y_test = self.test_data[self.target_col]\n",
    "        \n",
    "    def __mlr(self):\n",
    "        mlr = LinearRegression()\n",
    "        mlr.fit(self.X_train, self.y_train)\n",
    "        y_pred_mlr = mlr.predict(self.X_test)\n",
    "        return y_pred_mlr\n",
    "    \n",
    "    def __knn(self, n_neighbors):\n",
    "        knn_imputer = KNNImputer(n_neighbors=n_neighbors)\n",
    "        data_knn_imputed = knn_imputer.fit_transform(self.data_missing)\n",
    "        y_pred_knn = data_knn_imputed[np.concatenate([np.arange(start, end) for start, end in self.ranges]), -1]\n",
    "        return y_pred_knn\n",
    "\n",
    "    def __rf(self, n_estimators, max_depth):\n",
    "        rf = RandomForestRegressor(n_estimators=n_estimators, max_depth=max_depth, random_state=self.random_seed)\n",
    "        rf.fit(self.X_train, self.y_train)\n",
    "        y_pred_rf = rf.predict(self.X_test)\n",
    "        return y_pred_rf\n",
    "\n",
    "    def __call__(self, n_neighbors=10, n_estimators=120, max_depth=15):\n",
    "        # --- Method 1: Multiple Linear Regression (MLR) ---\n",
    "        y_pred_mlr = self.__mlr()\n",
    "\n",
    "        # --- Method 2: K-Nearest Neighbors (KNN) Imputation ---\n",
    "        y_pred_knn = self.__knn(n_neighbors)\n",
    "\n",
    "        # --- Method 3: Random Forest (RF) ---\n",
    "        y_pred_rf = self.__rf(n_estimators, max_depth)\n",
    "\n",
    "        # Compute accuracy metrics for each method\n",
    "        metrics = {\n",
    "            \"Method\": [\"MLR\", \"KNN\", \"RF\"],\n",
    "            \"MAE\": [mean_absolute_error(self.y_test, y_pred_mlr),\n",
    "                    mean_absolute_error(self.y_test, y_pred_knn),\n",
    "                    mean_absolute_error(self.y_test, y_pred_rf)],\n",
    "            \"MSE\": [mean_squared_error(self.y_test, y_pred_mlr),\n",
    "                    mean_squared_error(self.y_test, y_pred_knn),\n",
    "                    mean_squared_error(self.y_test, y_pred_rf)],\n",
    "            \"R2 Score\": [r2_score(self.y_test, y_pred_mlr),\n",
    "                         r2_score(self.y_test, y_pred_knn),\n",
    "                         r2_score(self.y_test, y_pred_rf)]\n",
    "        }\n",
    "\n",
    "        results_df = pd.DataFrame(metrics)\n",
    "        return results_df\n"
   ]
  },
  {
   "cell_type": "code",
   "execution_count": 36,
   "metadata": {},
   "outputs": [
    {
     "data": {
      "text/html": [
       "<div>\n",
       "<style scoped>\n",
       "    .dataframe tbody tr th:only-of-type {\n",
       "        vertical-align: middle;\n",
       "    }\n",
       "\n",
       "    .dataframe tbody tr th {\n",
       "        vertical-align: top;\n",
       "    }\n",
       "\n",
       "    .dataframe thead th {\n",
       "        text-align: right;\n",
       "    }\n",
       "</style>\n",
       "<table border=\"1\" class=\"dataframe\">\n",
       "  <thead>\n",
       "    <tr style=\"text-align: right;\">\n",
       "      <th></th>\n",
       "      <th>Method</th>\n",
       "      <th>MAE</th>\n",
       "      <th>MSE</th>\n",
       "      <th>R2 Score</th>\n",
       "    </tr>\n",
       "  </thead>\n",
       "  <tbody>\n",
       "    <tr>\n",
       "      <th>0</th>\n",
       "      <td>MLR</td>\n",
       "      <td>103.685138</td>\n",
       "      <td>64740.089405</td>\n",
       "      <td>0.181992</td>\n",
       "    </tr>\n",
       "    <tr>\n",
       "      <th>1</th>\n",
       "      <td>KNN</td>\n",
       "      <td>633.749518</td>\n",
       "      <td>664752.523709</td>\n",
       "      <td>-7.399318</td>\n",
       "    </tr>\n",
       "    <tr>\n",
       "      <th>2</th>\n",
       "      <td>RF</td>\n",
       "      <td>86.556077</td>\n",
       "      <td>56492.549169</td>\n",
       "      <td>0.286202</td>\n",
       "    </tr>\n",
       "  </tbody>\n",
       "</table>\n",
       "</div>"
      ],
      "text/plain": [
       "  Method         MAE            MSE  R2 Score\n",
       "0    MLR  103.685138   64740.089405  0.181992\n",
       "1    KNN  633.749518  664752.523709 -7.399318\n",
       "2     RF   86.556077   56492.549169  0.286202"
      ]
     },
     "execution_count": 36,
     "metadata": {},
     "output_type": "execute_result"
    }
   ],
   "source": [
    "experiment = ImputationExperiment('US_climate_discharge_data/04015330.csv')\n",
    "results = experiment()\n",
    "results"
   ]
  },
  {
   "cell_type": "code",
   "execution_count": 44,
   "metadata": {},
   "outputs": [
    {
     "data": {
      "text/html": [
       "<div>\n",
       "<style scoped>\n",
       "    .dataframe tbody tr th:only-of-type {\n",
       "        vertical-align: middle;\n",
       "    }\n",
       "\n",
       "    .dataframe tbody tr th {\n",
       "        vertical-align: top;\n",
       "    }\n",
       "\n",
       "    .dataframe thead th {\n",
       "        text-align: right;\n",
       "    }\n",
       "</style>\n",
       "<table border=\"1\" class=\"dataframe\">\n",
       "  <thead>\n",
       "    <tr style=\"text-align: right;\">\n",
       "      <th></th>\n",
       "      <th>Method</th>\n",
       "      <th>MAE</th>\n",
       "      <th>MSE</th>\n",
       "      <th>R2 Score</th>\n",
       "    </tr>\n",
       "  </thead>\n",
       "  <tbody>\n",
       "    <tr>\n",
       "      <th>0</th>\n",
       "      <td>MLR</td>\n",
       "      <td>238.060951</td>\n",
       "      <td>122435.611822</td>\n",
       "      <td>0.105675</td>\n",
       "    </tr>\n",
       "    <tr>\n",
       "      <th>1</th>\n",
       "      <td>KNN</td>\n",
       "      <td>549.167489</td>\n",
       "      <td>451449.225997</td>\n",
       "      <td>-2.297588</td>\n",
       "    </tr>\n",
       "    <tr>\n",
       "      <th>2</th>\n",
       "      <td>RF</td>\n",
       "      <td>239.182479</td>\n",
       "      <td>122275.792435</td>\n",
       "      <td>0.106843</td>\n",
       "    </tr>\n",
       "  </tbody>\n",
       "</table>\n",
       "</div>"
      ],
      "text/plain": [
       "  Method         MAE            MSE  R2 Score\n",
       "0    MLR  238.060951  122435.611822  0.105675\n",
       "1    KNN  549.167489  451449.225997 -2.297588\n",
       "2     RF  239.182479  122275.792435  0.106843"
      ]
     },
     "execution_count": 44,
     "metadata": {},
     "output_type": "execute_result"
    }
   ],
   "source": [
    "\n",
    "\n",
    "experiment = ImputationExperiment('US_climate_discharge_data/04258000.csv', random_seed=1)\n",
    "results = experiment()\n",
    "results"
   ]
  },
  {
   "cell_type": "markdown",
   "metadata": {},
   "source": [
    "# Checking Units for Discharge Variable\n",
    "\n",
    "Let $X_{US}, X_{CAN}$ be the discharge values in the US basins and Canadian basins respectively, and $Y_{US}, Y_{CAN}$ be the shape area of the US and Canadian basins respectively.\n",
    "\n",
    "$X_{CAN}$ is confirmed to be in $m^3/s$.\n",
    "\n",
    "If $X_{US}$ is in $ft^3/s$, then there must be a significant difference between $\\frac{E[X_{US}]}{Y_{US}}$ and $\\frac{E[X_{CAN}]}{Y_{CAN}}$.\n",
    "\n",
    "Therefore, we will test the following hypothesis:\n",
    "\n",
    "$H_0$: There is no significant difference between $\\frac{E[X_{US}]}{Y_{US}}$ and $\\frac{E[X_{CAN}]}{Y_{CAN}}$.\n",
    "\n",
    "$H_1$: There is a significant difference between $\\frac{E[X_{US}]}{Y_{US}}$ and $\\frac{E[X_{CAN}]}{Y_{CAN}}$.\n",
    "\n",
    "## US Basins"
   ]
  },
  {
   "cell_type": "code",
   "execution_count": 5,
   "metadata": {},
   "outputs": [],
   "source": [
    "import geopandas as gpd\n",
    "import pandas as pd\n",
    "\n",
    "canadian_shapefile_path = 'c:/Users/ybrot/Courses/UROP/GAGEii_modeling/shapefile/ADP02_Basin_Select.shp'\n",
    "gdf_canadian = gpd.read_file(canadian_shapefile_path)\n",
    "\n",
    "US_shapefile_path = 'c:/Users/ybrot/Courses/UROP/GAGEii_modeling/shapefile/GL_GAGE2_all.shp'\n",
    "gdf_US = gpd.read_file(US_shapefile_path)"
   ]
  },
  {
   "cell_type": "code",
   "execution_count": 8,
   "metadata": {},
   "outputs": [],
   "source": [
    "us_basins_list = gdf_US[\"GAGE_ID\"]"
   ]
  },
  {
   "cell_type": "code",
   "execution_count": 10,
   "metadata": {},
   "outputs": [],
   "source": [
    "us_basins_list = us_basins_list.tolist()"
   ]
  },
  {
   "cell_type": "code",
   "execution_count": 12,
   "metadata": {},
   "outputs": [],
   "source": [
    "import os\n",
    "import pandas as pd\n",
    "\n",
    "# Load the list of basins from US_basin_list.txt\n",
    "with open('basin_list/US_basin_list.txt', 'r') as file:\n",
    "    us_basin_list_from_file = file.read().splitlines()\n",
    "\n",
    "missing_basins = set(us_basins_list) - set(us_basin_list_from_file)\n",
    "\n",
    "# Define the directories\n",
    "climate_dir = 'GL_daymet_1980-2023'\n",
    "output_folder = 'US_climate_discharge_data'\n",
    "\n",
    "# Ensure the output directory exists\n",
    "os.makedirs(output_folder, exist_ok=True)\n",
    "\n",
    "# List of explanatory variables\n",
    "variables = ['dayl', 'prcp', 'srad', 'swe', 'tmax', 'tmin', 'vp']\n",
    "\n",
    "# Iterate over the missing basin IDs\n",
    "for basin_id in missing_basins:\n",
    "    # Initialize an empty DataFrame to store the combined data\n",
    "    combined_df = pd.DataFrame()\n",
    "\n",
    "    # Iterate over the subfolders (variables) in the climate directory\n",
    "    for variable in variables:\n",
    "        subfolder_path = os.path.join(climate_dir, f'GL_daymet_{variable}')\n",
    "        climate_file = os.path.join(subfolder_path, f'{basin_id}_daymet_{variable}.csv')\n",
    "        \n",
    "        if os.path.exists(climate_file):\n",
    "            # Read the climate data\n",
    "            climate_data = pd.read_csv(climate_file)\n",
    "            climate_data['time'] = pd.to_datetime(climate_data['time']).dt.strftime('%Y-%m-%d')\n",
    "            climate_data.rename(columns={'time': 'Date', variable: variable}, inplace=True)\n",
    "            \n",
    "            if combined_df.empty:\n",
    "                combined_df = climate_data[['Date', variable]]\n",
    "            else:\n",
    "                combined_df = pd.merge(combined_df, climate_data[['Date', variable]], on='Date', how='outer')\n",
    "\n",
    "    # Add the empty discharge column\n",
    "    combined_df['discharge'] = pd.NA\n",
    "\n",
    "    # Ensure all expected columns are present\n",
    "    expected_columns = ['Date', 'discharge'] + variables\n",
    "    combined_df = combined_df.reindex(columns=expected_columns)\n",
    "\n",
    "    # Export the combined data to the output folder\n",
    "    output_file_path = os.path.join(output_folder, f'{basin_id}.csv')\n",
    "    combined_df.to_csv(output_file_path, index=False)"
   ]
  },
  {
   "cell_type": "code",
   "execution_count": 4,
   "metadata": {},
   "outputs": [
    {
     "ename": "NameError",
     "evalue": "name 'gdf_canadian' is not defined",
     "output_type": "error",
     "traceback": [
      "\u001b[1;31m---------------------------------------------------------------------------\u001b[0m",
      "\u001b[1;31mNameError\u001b[0m                                 Traceback (most recent call last)",
      "Cell \u001b[1;32mIn[4], line 37\u001b[0m\n\u001b[0;32m     34\u001b[0m     \u001b[38;5;28;01mreturn\u001b[39;00m gdf\n\u001b[0;32m     36\u001b[0m \u001b[38;5;66;03m# Calculate mean discharge and discharge ratio for Canadian basins\u001b[39;00m\n\u001b[1;32m---> 37\u001b[0m gdf_canadian \u001b[38;5;241m=\u001b[39m calculate_mean_discharge(\u001b[38;5;124m'\u001b[39m\u001b[38;5;124mCanadian_climate_discharge_data\u001b[39m\u001b[38;5;124m'\u001b[39m, \u001b[43mgdf_canadian\u001b[49m)\n\u001b[0;32m     39\u001b[0m \u001b[38;5;66;03m# Calculate mean discharge and discharge ratio for US basins\u001b[39;00m\n\u001b[0;32m     40\u001b[0m gdf_US \u001b[38;5;241m=\u001b[39m calculate_mean_discharge(\u001b[38;5;124m'\u001b[39m\u001b[38;5;124mUS_climate_discharge_data\u001b[39m\u001b[38;5;124m'\u001b[39m, gdf_US, station_col\u001b[38;5;241m=\u001b[39m\u001b[38;5;124m'\u001b[39m\u001b[38;5;124mGAGE_ID\u001b[39m\u001b[38;5;124m'\u001b[39m)\n",
      "\u001b[1;31mNameError\u001b[0m: name 'gdf_canadian' is not defined"
     ]
    }
   ],
   "source": [
    "import os\n",
    "import pandas as pd\n",
    "from tqdm import tqdm\n",
    "\n",
    "def calculate_mean_discharge(data_folder, gdf, station_col='StationNum'):\n",
    "    # Initialize the new columns\n",
    "    gdf['Mean_discharge'] = pd.NA\n",
    "    gdf['discharge_ratio'] = pd.NA\n",
    "\n",
    "    # Iterate over the rows in the gdf DataFrame\n",
    "    for index, row in tqdm(gdf.iterrows()):\n",
    "        station_num = row[station_col]\n",
    "        csv_file = os.path.join(data_folder, f'{station_num}.csv')\n",
    "\n",
    "        if os.path.exists(csv_file):\n",
    "            # Read the CSV file\n",
    "            df = pd.read_csv(csv_file)\n",
    "\n",
    "            # Calculate the mean discharge, ignoring NaN and negative values\n",
    "            mean_discharge = df['discharge'].apply(pd.to_numeric, errors='coerce')\n",
    "            mean_discharge = mean_discharge[(mean_discharge >= 0)].mean()\n",
    "\n",
    "            # Update the gdf DataFrame with the calculated mean discharge\n",
    "            gdf.at[index, 'Mean_discharge'] = mean_discharge\n",
    "            \n",
    "            # Check if Shape_Area is 0.0\n",
    "            if row['Shape_Area'] == 0.0:\n",
    "                gdf.at[index, 'discharge_ratio'] = pd.NA\n",
    "\n",
    "            # Calculate the discharge ratio\n",
    "            elif pd.notna(mean_discharge) and pd.notna(row['Shape_Area']):\n",
    "                gdf.at[index, 'discharge_ratio'] = mean_discharge / row['Shape_Area']\n",
    "\n",
    "    return gdf\n",
    "\n",
    "# Calculate mean discharge and discharge ratio for Canadian basins\n",
    "gdf_canadian = calculate_mean_discharge('Canadian_climate_discharge_data', gdf_canadian)\n",
    "\n",
    "# Calculate mean discharge and discharge ratio for US basins\n",
    "gdf_US = calculate_mean_discharge('US_climate_discharge_data', gdf_US, station_col='GAGE_ID')\n",
    "\n",
    "# Save the updated DataFrames\n",
    "gdf_canadian.to_csv('shapefile/updated_gdf_canadian.csv', index=False)  # Replace with actual path\n",
    "gdf_US.to_csv('shapefile/updated_gdf_US.csv', index=False)  # Replace with actual path"
   ]
  },
  {
   "cell_type": "code",
   "execution_count": null,
   "metadata": {},
   "outputs": [],
   "source": []
  },
  {
   "cell_type": "code",
   "execution_count": 8,
   "metadata": {},
   "outputs": [],
   "source": [
    "gdf_canadian = pd.read_csv('shapefile/updated_gdf_canadian.csv')\n",
    "gdf_US = pd.read_csv('shapefile/updated_gdf_US.csv')"
   ]
  },
  {
   "cell_type": "code",
   "execution_count": 37,
   "metadata": {},
   "outputs": [],
   "source": [
    "canadian_ratio_summary = gdf_canadian['discharge_ratio'].describe()\n",
    "US_ratio_summary = gdf_US['discharge_ratio'].describe()"
   ]
  },
  {
   "cell_type": "code",
   "execution_count": 16,
   "metadata": {},
   "outputs": [
    {
     "data": {
      "text/plain": [
       "count    4.600000e+02\n",
       "mean     2.204098e-08\n",
       "std      1.096859e-07\n",
       "min      5.481609e-10\n",
       "25%      1.090746e-08\n",
       "50%      1.267439e-08\n",
       "75%      1.456863e-08\n",
       "max      1.906736e-06\n",
       "Name: discharge_ratio, dtype: float64"
      ]
     },
     "execution_count": 16,
     "metadata": {},
     "output_type": "execute_result"
    }
   ],
   "source": [
    "canadian_ratio_summary"
   ]
  },
  {
   "cell_type": "code",
   "execution_count": 17,
   "metadata": {},
   "outputs": [
    {
     "data": {
      "text/plain": [
       "count    3.180000e+02\n",
       "mean     4.157405e-07\n",
       "std      2.238506e-07\n",
       "min      7.402316e-08\n",
       "25%      3.173127e-07\n",
       "50%      3.765718e-07\n",
       "75%      4.540787e-07\n",
       "max      3.298911e-06\n",
       "Name: discharge_ratio, dtype: float64"
      ]
     },
     "execution_count": 17,
     "metadata": {},
     "output_type": "execute_result"
    }
   ],
   "source": [
    "US_ratio_summary"
   ]
  },
  {
   "cell_type": "code",
   "execution_count": 12,
   "metadata": {},
   "outputs": [
    {
     "name": "stdout",
     "output_type": "stream",
     "text": [
      "T-statistic: -29.045231146767527\n",
      "P-value: 8.808107254397451e-103\n",
      "Reject the null hypothesis (H0). There is a significant difference between the discharge ratios.\n"
     ]
    }
   ],
   "source": [
    "import pandas as pd\n",
    "from scipy.stats import ttest_ind\n",
    "\n",
    "# Extract the discharge_ratio columns, dropping NaN values\n",
    "discharge_ratio_canadian = gdf_canadian['discharge_ratio'].dropna()\n",
    "discharge_ratio_us = gdf_US['discharge_ratio'].dropna()\n",
    "\n",
    "# Perform the two-sample t-test\n",
    "t_stat, p_value = ttest_ind(discharge_ratio_canadian, discharge_ratio_us, equal_var=False)\n",
    "\n",
    "# Print the results\n",
    "print(f\"T-statistic: {t_stat}\")\n",
    "print(f\"P-value: {p_value}\")\n",
    "\n",
    "# Interpret the results\n",
    "alpha = 0.05\n",
    "if p_value < alpha:\n",
    "    print(\"Reject the null hypothesis (H0). There is a significant difference between the discharge ratios.\")\n",
    "else:\n",
    "    print(\"Fail to reject the null hypothesis (H0). There is no significant difference between the discharge ratios.\")"
   ]
  },
  {
   "cell_type": "code",
   "execution_count": 14,
   "metadata": {},
   "outputs": [
    {
     "data": {
      "image/png": "[encoded data removed]",
      "text/plain": [
       "<Figure size 1200x600 with 1 Axes>"
      ]
     },
     "metadata": {},
     "output_type": "display_data"
    }
   ],
   "source": [
    "import matplotlib.pyplot as plt\n",
    "import seaborn as sns\n",
    "\n",
    "# Visualize the distributions\n",
    "plt.figure(figsize=(12, 6))\n",
    "\n",
    "# Plot the distribution for Canadian basins\n",
    "sns.histplot(discharge_ratio_canadian, bins=30, kde=True, color='blue', label='Canadian Basins', stat='density')\n",
    "\n",
    "# Plot the distribution for US basins\n",
    "sns.histplot(discharge_ratio_us, bins=30, kde=True, color='red', label='US Basins', stat='density')\n",
    "\n",
    "# Add labels and title\n",
    "plt.xlabel('Discharge Ratio')\n",
    "plt.ylabel('Density')\n",
    "plt.title('Distribution of Discharge Ratios for Canadian and US Basins')\n",
    "plt.legend()\n",
    "\n",
    "# Show the plot\n",
    "plt.show()"
   ]
  },
  {
   "cell_type": "markdown",
   "metadata": {},
   "source": [
    "## Confirming Units\n",
    "\n",
    "It turned out that the discharge values in the US basins are in different units.\n",
    "\n",
    "To confirm the units are in $ft^3/s$, we will apply transformation to the discharge values in the US basins, and check the difference between $\\frac{E[X_{US}]}{Y_{US}}$ and $\\frac{E[X_{CAN}]}{Y_{CAN}}$ again.\n",
    "\n",
    "In order to transform the discharge values in the US basins to $m^3/s$, we can simply divide the values by 35.3147."
   ]
  },
  {
   "cell_type": "code",
   "execution_count": 28,
   "metadata": {},
   "outputs": [],
   "source": [
    "# Change the units to m^3/s\n",
    "gdf_US['discharge_ratio_met'] = gdf_US['discharge_ratio'] / 35.3147"
   ]
  },
  {
   "cell_type": "code",
   "execution_count": 27,
   "metadata": {},
   "outputs": [
    {
     "name": "stdout",
     "output_type": "stream",
     "text": [
      "T-statistic: 2.0033873081677616\n",
      "P-value: 0.04571746587857163\n",
      "Reject the null hypothesis (H0). There is a significant difference between the discharge ratios.\n"
     ]
    }
   ],
   "source": [
    "# Extract the discharge_ratio columns, dropping NaN values\n",
    "discharge_ratio_canadian = gdf_canadian['discharge_ratio'].dropna()\n",
    "discharge_ratio_us = gdf_US['discharge_ratio_met'].dropna()\n",
    "\n",
    "# Perform the two-sample t-test\n",
    "t_stat, p_value = ttest_ind(discharge_ratio_canadian, discharge_ratio_us, equal_var=False)\n",
    "\n",
    "# Print the results\n",
    "print(f\"T-statistic: {t_stat}\")\n",
    "print(f\"P-value: {p_value}\")\n",
    "\n",
    "# Interpret the results\n",
    "alpha = 0.05\n",
    "if p_value < alpha:\n",
    "    print(\"Reject the null hypothesis (H0). There is a significant difference between the discharge ratios.\")\n",
    "else:\n",
    "    print(\"Fail to reject the null hypothesis (H0). There is no significant difference between the discharge ratios.\")"
   ]
  },
  {
   "cell_type": "code",
   "execution_count": 22,
   "metadata": {},
   "outputs": [
    {
     "data": {
      "image/png": "[encoded data removed]",
      "text/plain": [
       "<Figure size 1200x600 with 1 Axes>"
      ]
     },
     "metadata": {},
     "output_type": "display_data"
    }
   ],
   "source": [
    "import matplotlib.pyplot as plt\n",
    "import seaborn as sns\n",
    "\n",
    "# Visualize the distributions\n",
    "plt.figure(figsize=(12, 6))\n",
    "\n",
    "# Plot the distribution for Canadian basins\n",
    "sns.histplot(discharge_ratio_canadian, bins=30, kde=True, color='blue', label='Canadian Basins', stat='density')\n",
    "\n",
    "# Plot the distribution for US basins\n",
    "sns.histplot(discharge_ratio_us, bins=30, kde=True, color='red', label='US Basins', stat='density')\n",
    "\n",
    "# Add labels and title\n",
    "plt.xlabel('Discharge Ratio')\n",
    "plt.ylabel('Density')\n",
    "plt.title('Distribution of Discharge Ratios for Canadian and US Basins')\n",
    "plt.legend()\n",
    "\n",
    "# Show the plot\n",
    "plt.show()"
   ]
  },
  {
   "cell_type": "code",
   "execution_count": 35,
   "metadata": {},
   "outputs": [],
   "source": [
    "canadian_ratio_summary = gdf_canadian['discharge_ratio'].describe()\n",
    "US_met_ratio_summary = gdf_US['discharge_ratio_met'].describe()"
   ]
  },
  {
   "cell_type": "code",
   "execution_count": 39,
   "metadata": {},
   "outputs": [
    {
     "name": "stdout",
     "output_type": "stream",
     "text": [
      "Canada:         0.0000000220\n",
      "US:             0.0000004157\n",
      "US (converted): 0.0000000118\n"
     ]
    }
   ],
   "source": [
    "print(f\"Canada:         {canadian_ratio_summary['mean']:.10f}\")\n",
    "print(f\"US:             {US_ratio_summary['mean']:.10f}\")\n",
    "print(f\"US (converted): {US_met_ratio_summary['mean']:.10f}\")"
   ]
  },
  {
   "cell_type": "code",
   "execution_count": 2,
   "metadata": {},
   "outputs": [],
   "source": [
    "import pandas as pd\n",
    "\n",
    "df = pd.read_csv(\"data/csv_files/04014500.csv\")\n"
   ]
  },
  {
   "cell_type": "code",
   "execution_count": 19,
   "metadata": {},
   "outputs": [
    {
     "data": {
      "application/vnd.microsoft.datawrangler.viewer.v0+json": {
       "columns": [
        {
         "name": "index",
         "rawType": "int64",
         "type": "integer"
        },
        {
         "name": "date",
         "rawType": "object",
         "type": "string"
        },
        {
         "name": "discharge",
         "rawType": "float64",
         "type": "float"
        },
        {
         "name": "dayl",
         "rawType": "float64",
         "type": "float"
        },
        {
         "name": "prcp",
         "rawType": "float64",
         "type": "float"
        },
        {
         "name": "srad",
         "rawType": "float64",
         "type": "float"
        },
        {
         "name": "swe",
         "rawType": "float64",
         "type": "float"
        },
        {
         "name": "tmax",
         "rawType": "float64",
         "type": "float"
        },
        {
         "name": "tmin",
         "rawType": "float64",
         "type": "float"
        },
        {
         "name": "vp",
         "rawType": "float64",
         "type": "float"
        }
       ],
       "conversionMethod": "pd.DataFrame",
       "ref": "48f095f3-390f-4251-a42d-ca651b150c14",
       "rows": [
        [
         "13071",
         "2015-10-15",
         "1.3308792297890415",
         "38104.613",
         "1.3435788",
         "229.05644",
         "0.0",
         "10.2425785",
         "1.0404737",
         "659.8227"
        ],
        [
         "13072",
         "2015-10-16",
         "1.3308792297890415",
         "37903.496",
         "0.0",
         "203.95992",
         "0.0",
         "3.610763",
         "-4.1293154",
         "450.98224"
        ],
        [
         "13073",
         "2015-10-17",
         "1.3308792297890415",
         "37703.27",
         "0.0",
         "272.911",
         "0.0",
         "5.93871",
         "-6.3806047",
         "380.27365"
        ],
        [
         "13074",
         "2015-10-18",
         "1.3308792297890415",
         "37503.973",
         "0.0",
         "290.56046",
         "0.0",
         "8.885974",
         "-6.0332627",
         "389.8329"
        ],
        [
         "13075",
         "2015-10-19",
         "1.3308792297890415",
         "37305.656",
         "0.0",
         "290.66678",
         "0.0",
         "18.096079",
         "1.0735791",
         "660.16516"
        ],
        [
         "13076",
         "2015-10-20",
         "1.3308792297890415",
         "37108.367",
         "1.665579",
         "150.25436",
         "0.0",
         "7.898658",
         "1.9046843",
         "702.9758"
        ],
        [
         "13077",
         "2015-10-21",
         "1.3308792297890415",
         "36912.164",
         "0.0",
         "128.40466",
         "0.0",
         "8.057211",
         "3.052763",
         "760.4569"
        ],
        [
         "13078",
         "2015-10-22",
         "1.3308792297890415",
         "36717.086",
         "0.0",
         "255.6653",
         "0.0",
         "11.37179",
         "-1.2257369",
         "559.73444"
        ],
        [
         "13079",
         "2015-10-23",
         "1.3308792297890415",
         "36523.195",
         "13.494159",
         "100.63692",
         "0.0",
         "6.419737",
         "1.009421",
         "657.4969"
        ],
        [
         "13080",
         "2015-10-24",
         "1.3308792297890415",
         "36330.535",
         "3.8464475",
         "118.604",
         "0.0",
         "10.21692",
         "3.4537892",
         "782.7375"
        ],
        [
         "13081",
         "2015-10-25",
         "1.3308792297890415",
         "36139.176",
         "0.0",
         "218.36559",
         "0.0",
         "8.396027",
         "-1.9678159",
         "529.03845"
        ],
        [
         "13082",
         "2015-10-26",
         "1.3308792297890415",
         "35949.164",
         "0.0",
         "218.70622",
         "0.0",
         "8.748238",
         "-1.8622104",
         "533.27374"
        ],
        [
         "13083",
         "2015-10-27",
         "1.3308792297890415",
         "35760.555",
         "9.087341",
         "108.30244",
         "0.0",
         "7.655553",
         "1.3411052",
         "673.1156"
        ],
        [
         "13084",
         "2015-10-28",
         "1.3308792297890415",
         "35573.42",
         "17.10442",
         "60.49921",
         "0.0",
         "5.968789",
         "2.6592894",
         "740.15546"
        ],
        [
         "13085",
         "2015-10-29",
         "1.3308792297890415",
         "35387.812",
         "0.0",
         "143.1749",
         "0.0",
         "6.318474",
         "0.20978947",
         "620.5782"
        ],
        [
         "13086",
         "2015-10-30",
         "1.3308792297890415",
         "35203.8",
         "3.9261317",
         "115.72024",
         "0.0",
         "5.4431577",
         "-1.1412895",
         "562.0744"
        ],
        [
         "13087",
         "2015-10-31",
         "1.3308792297890415",
         "35021.44",
         "6.917632",
         "62.200237",
         "0.0",
         "6.2600527",
         "2.9421053",
         "754.65155"
        ],
        [
         "13088",
         "2015-11-01",
         "1.3308792297890415",
         "34840.805",
         "2.9221053",
         "90.725655",
         "0.0",
         "8.195184",
         "3.2999473",
         "774.70874"
        ],
        [
         "13089",
         "2015-11-02",
         "1.3308792297890415",
         "34661.957",
         "0.0",
         "231.59753",
         "0.0",
         "14.4871855",
         "1.3568949",
         "673.8223"
        ],
        [
         "13090",
         "2015-11-03",
         "1.3308792297890415",
         "34484.97",
         "0.0",
         "206.27975",
         "0.0",
         "12.019106",
         "1.4672107",
         "679.7351"
        ],
        [
         "13091",
         "2015-11-04",
         "1.3308792297890415",
         "34309.906",
         "1.2042894",
         "133.96217",
         "0.0",
         "10.800027",
         "4.8637633",
         "863.80634"
        ],
        [
         "13092",
         "2015-11-05",
         "1.3308792297890415",
         "34136.84",
         "4.014579",
         "128.16374",
         "0.0",
         "12.889341",
         "4.7435",
         "857.7188"
        ],
        [
         "13093",
         "2015-11-06",
         "1.3308792297890415",
         "33965.844",
         "0.0",
         "101.93924",
         "0.0",
         "4.913605",
         "0.7078157",
         "643.6704"
        ],
        [
         "13094",
         "2015-11-07",
         "1.3308792297890415",
         "33796.99",
         "0.0",
         "145.06783",
         "0.0",
         "4.1630526",
         "-2.1153948",
         "523.28125"
        ],
        [
         "13095",
         "2015-11-08",
         "1.3308792297890415",
         "33630.355",
         "0.0",
         "226.10353",
         "0.0",
         "13.688894",
         "-1.1297631",
         "562.43445"
        ],
        [
         "13096",
         "2015-11-09",
         "1.3308792297890415",
         "33466.016",
         "0.0",
         "210.45406",
         "0.0",
         "14.47771",
         "1.8449736",
         "697.8243"
        ],
        [
         "13097",
         "2015-11-10",
         "1.3308792297890415",
         "33304.05",
         "0.0",
         "180.18178",
         "0.0",
         "12.450869",
         "3.2947636",
         "773.52454"
        ],
        [
         "13098",
         "2015-11-11",
         "1.3308792297890415",
         "33144.527",
         "2.944605",
         "96.95877",
         "0.0",
         "9.165342",
         "3.266237",
         "772.0322"
        ],
        [
         "13099",
         "2015-11-12",
         "1.3308792297890415",
         "32987.535",
         "8.220869",
         "72.63728",
         "0.0",
         "5.0099473",
         "0.8066316",
         "649.0256"
        ],
        [
         "13100",
         "2015-11-13",
         "1.3308792297890415",
         "32833.156",
         "2.7320263",
         "74.84502",
         "0.0",
         "-0.6381316",
         "-4.5174475",
         "437.99277"
        ],
        [
         "13101",
         "2015-11-14",
         "1.3308792297890415",
         "32681.46",
         "0.0",
         "204.78734",
         "0.0",
         "6.261369",
         "-5.825815",
         "395.95682"
        ],
        [
         "13102",
         "2015-11-15",
         "1.3308792297890415",
         "32532.535",
         "0.0",
         "192.91579",
         "0.0",
         "8.976526",
         "-2.148263",
         "521.72424"
        ],
        [
         "13103",
         "2015-11-16",
         "1.3308792297890415",
         "32386.463",
         "30.697525",
         "76.06061",
         "0.0",
         "6.965105",
         "2.4011052",
         "726.05896"
        ],
        [
         "13104",
         "2015-11-17",
         "1.3308792297890415",
         "32243.32",
         "31.96058",
         "51.91561",
         "0.0",
         "8.789289",
         "5.7922106",
         "921.3777"
        ],
        [
         "13105",
         "2015-11-18",
         "1.3308792297890415",
         "32103.195",
         "11.282659",
         "114.748024",
         "0.0",
         "11.958552",
         "4.380842",
         "836.60626"
        ],
        [
         "13106",
         "2015-11-19",
         "1.3308792297890415",
         "31966.168",
         "0.0",
         "124.48846",
         "0.0",
         "0.4456579",
         "-5.0012894",
         "422.52844"
        ],
        [
         "13107",
         "2015-11-20",
         "1.3308792297890415",
         "31832.324",
         "0.0",
         "111.20448",
         "0.0",
         "-4.045",
         "-8.812552",
         "314.91156"
        ],
        [
         "13108",
         "2015-11-21",
         "1.3308792297890415",
         "31701.744",
         "0.0",
         "161.40659",
         "0.0",
         "-5.4919477",
         "-13.184604",
         "222.03964"
        ],
        [
         "13109",
         "2015-11-22",
         "1.3308792297890415",
         "31574.514",
         "1.164658",
         "213.34814",
         "1.164658",
         "-3.820421",
         "-15.489842",
         "183.87013"
        ],
        [
         "13110",
         "2015-11-23",
         "1.3308792297890415",
         "31450.705",
         "0.0",
         "160.59016",
         "1.164658",
         "-0.48126313",
         "-7.582264",
         "345.60287"
        ],
        [
         "13111",
         "2015-11-24",
         "1.3308792297890415",
         "31330.414",
         "0.0",
         "138.38385",
         "0.36349997",
         "1.7475525",
         "-4.093158",
         "451.1617"
        ],
        [
         "13112",
         "2015-11-25",
         "1.3308792297890415",
         "31213.707",
         "0.0",
         "115.868614",
         "0.0",
         "3.7909734",
         "-1.5655526",
         "544.62256"
        ],
        [
         "13113",
         "2015-11-26",
         "1.3308792297890415",
         "31100.682",
         "1.2353421",
         "123.73814",
         "0.8988158",
         "-1.2420527",
         "-6.482289",
         "377.73105"
        ],
        [
         "13114",
         "2015-11-27",
         "1.3308792297890415",
         "30991.4",
         "0.0",
         "167.11453",
         "0.8988158",
         "-5.130158",
         "-13.227211",
         "220.87366"
        ],
        [
         "13115",
         "2015-11-28",
         "1.3308792297890415",
         "30885.95",
         "0.0",
         "199.25182",
         "0.8988158",
         "0.7638684",
         "-12.720263",
         "230.1632"
        ],
        [
         "13116",
         "2015-11-29",
         "1.3308792297890415",
         "30784.404",
         "0.0",
         "187.2125",
         "0.8988158",
         "0.5861579",
         "-10.803079",
         "268.72543"
        ],
        [
         "13117",
         "2015-11-30",
         "1.3308792297890415",
         "30686.84",
         "6.0868154",
         "143.92252",
         "6.9857893",
         "2.4481578",
         "-9.441263",
         "299.15466"
        ],
        [
         "13118",
         "2015-12-01",
         "1.3308792297890415",
         "30593.328",
         "13.815948",
         "73.68129",
         "5.8527894",
         "1.2054211",
         "-3.3023157",
         "478.72168"
        ],
        [
         "13119",
         "2015-12-02",
         "1.3308792297890415",
         "30503.938",
         "0.0",
         "75.78074",
         "4.0626845",
         "1.6039735",
         "-1.7383423",
         "538.163"
        ],
        [
         "13120",
         "2015-12-03",
         "1.3308792297890415",
         "30418.752",
         "0.0",
         "115.72465",
         "3.068684",
         "1.6598947",
         "-3.6330264",
         "467.6534"
        ]
       ],
       "shape": {
        "columns": 9,
        "rows": 3000
       }
      },
      "text/html": [
       "<div>\n",
       "<style scoped>\n",
       "    .dataframe tbody tr th:only-of-type {\n",
       "        vertical-align: middle;\n",
       "    }\n",
       "\n",
       "    .dataframe tbody tr th {\n",
       "        vertical-align: top;\n",
       "    }\n",
       "\n",
       "    .dataframe thead th {\n",
       "        text-align: right;\n",
       "    }\n",
       "</style>\n",
       "<table border=\"1\" class=\"dataframe\">\n",
       "  <thead>\n",
       "    <tr style=\"text-align: right;\">\n",
       "      <th></th>\n",
       "      <th>date</th>\n",
       "      <th>discharge</th>\n",
       "      <th>dayl</th>\n",
       "      <th>prcp</th>\n",
       "      <th>srad</th>\n",
       "      <th>swe</th>\n",
       "      <th>tmax</th>\n",
       "      <th>tmin</th>\n",
       "      <th>vp</th>\n",
       "    </tr>\n",
       "  </thead>\n",
       "  <tbody>\n",
       "    <tr>\n",
       "      <th>13071</th>\n",
       "      <td>2015-10-15</td>\n",
       "      <td>1.330879</td>\n",
       "      <td>38104.613</td>\n",
       "      <td>1.343579</td>\n",
       "      <td>229.056440</td>\n",
       "      <td>0.000000</td>\n",
       "      <td>10.242579</td>\n",
       "      <td>1.040474</td>\n",
       "      <td>659.82270</td>\n",
       "    </tr>\n",
       "    <tr>\n",
       "      <th>13072</th>\n",
       "      <td>2015-10-16</td>\n",
       "      <td>1.330879</td>\n",
       "      <td>37903.496</td>\n",
       "      <td>0.000000</td>\n",
       "      <td>203.959920</td>\n",
       "      <td>0.000000</td>\n",
       "      <td>3.610763</td>\n",
       "      <td>-4.129315</td>\n",
       "      <td>450.98224</td>\n",
       "    </tr>\n",
       "    <tr>\n",
       "      <th>13073</th>\n",
       "      <td>2015-10-17</td>\n",
       "      <td>1.330879</td>\n",
       "      <td>37703.270</td>\n",
       "      <td>0.000000</td>\n",
       "      <td>272.911000</td>\n",
       "      <td>0.000000</td>\n",
       "      <td>5.938710</td>\n",
       "      <td>-6.380605</td>\n",
       "      <td>380.27365</td>\n",
       "    </tr>\n",
       "    <tr>\n",
       "      <th>13074</th>\n",
       "      <td>2015-10-18</td>\n",
       "      <td>1.330879</td>\n",
       "      <td>37503.973</td>\n",
       "      <td>0.000000</td>\n",
       "      <td>290.560460</td>\n",
       "      <td>0.000000</td>\n",
       "      <td>8.885974</td>\n",
       "      <td>-6.033263</td>\n",
       "      <td>389.83290</td>\n",
       "    </tr>\n",
       "    <tr>\n",
       "      <th>13075</th>\n",
       "      <td>2015-10-19</td>\n",
       "      <td>1.330879</td>\n",
       "      <td>37305.656</td>\n",
       "      <td>0.000000</td>\n",
       "      <td>290.666780</td>\n",
       "      <td>0.000000</td>\n",
       "      <td>18.096079</td>\n",
       "      <td>1.073579</td>\n",
       "      <td>660.16516</td>\n",
       "    </tr>\n",
       "    <tr>\n",
       "      <th>...</th>\n",
       "      <td>...</td>\n",
       "      <td>...</td>\n",
       "      <td>...</td>\n",
       "      <td>...</td>\n",
       "      <td>...</td>\n",
       "      <td>...</td>\n",
       "      <td>...</td>\n",
       "      <td>...</td>\n",
       "      <td>...</td>\n",
       "    </tr>\n",
       "    <tr>\n",
       "      <th>16066</th>\n",
       "      <td>2023-12-27</td>\n",
       "      <td>1.330879</td>\n",
       "      <td>29759.559</td>\n",
       "      <td>0.125947</td>\n",
       "      <td>65.866160</td>\n",
       "      <td>0.000000</td>\n",
       "      <td>2.156974</td>\n",
       "      <td>-1.155737</td>\n",
       "      <td>562.09454</td>\n",
       "    </tr>\n",
       "    <tr>\n",
       "      <th>16067</th>\n",
       "      <td>2023-12-28</td>\n",
       "      <td>1.330879</td>\n",
       "      <td>29792.377</td>\n",
       "      <td>0.000000</td>\n",
       "      <td>109.936970</td>\n",
       "      <td>0.000000</td>\n",
       "      <td>1.864684</td>\n",
       "      <td>-3.849684</td>\n",
       "      <td>459.78560</td>\n",
       "    </tr>\n",
       "    <tr>\n",
       "      <th>16068</th>\n",
       "      <td>2023-12-29</td>\n",
       "      <td>1.330879</td>\n",
       "      <td>29829.982</td>\n",
       "      <td>0.000000</td>\n",
       "      <td>161.503340</td>\n",
       "      <td>0.000000</td>\n",
       "      <td>5.101211</td>\n",
       "      <td>-6.615869</td>\n",
       "      <td>372.83508</td>\n",
       "    </tr>\n",
       "    <tr>\n",
       "      <th>16069</th>\n",
       "      <td>2023-12-30</td>\n",
       "      <td>1.330879</td>\n",
       "      <td>29872.340</td>\n",
       "      <td>0.875553</td>\n",
       "      <td>126.727325</td>\n",
       "      <td>0.824658</td>\n",
       "      <td>-1.328053</td>\n",
       "      <td>-7.090079</td>\n",
       "      <td>359.40790</td>\n",
       "    </tr>\n",
       "    <tr>\n",
       "      <th>16070</th>\n",
       "      <td>2023-12-31</td>\n",
       "      <td>1.330879</td>\n",
       "      <td>29919.408</td>\n",
       "      <td>0.000000</td>\n",
       "      <td>99.680450</td>\n",
       "      <td>0.824658</td>\n",
       "      <td>-5.652421</td>\n",
       "      <td>-9.781315</td>\n",
       "      <td>291.56586</td>\n",
       "    </tr>\n",
       "  </tbody>\n",
       "</table>\n",
       "<p>3000 rows × 9 columns</p>\n",
       "</div>"
      ],
      "text/plain": [
       "             date  discharge       dayl      prcp        srad       swe  \\\n",
       "13071  2015-10-15   1.330879  38104.613  1.343579  229.056440  0.000000   \n",
       "13072  2015-10-16   1.330879  37903.496  0.000000  203.959920  0.000000   \n",
       "13073  2015-10-17   1.330879  37703.270  0.000000  272.911000  0.000000   \n",
       "13074  2015-10-18   1.330879  37503.973  0.000000  290.560460  0.000000   \n",
       "13075  2015-10-19   1.330879  37305.656  0.000000  290.666780  0.000000   \n",
       "...           ...        ...        ...       ...         ...       ...   \n",
       "16066  2023-12-27   1.330879  29759.559  0.125947   65.866160  0.000000   \n",
       "16067  2023-12-28   1.330879  29792.377  0.000000  109.936970  0.000000   \n",
       "16068  2023-12-29   1.330879  29829.982  0.000000  161.503340  0.000000   \n",
       "16069  2023-12-30   1.330879  29872.340  0.875553  126.727325  0.824658   \n",
       "16070  2023-12-31   1.330879  29919.408  0.000000   99.680450  0.824658   \n",
       "\n",
       "            tmax      tmin         vp  \n",
       "13071  10.242579  1.040474  659.82270  \n",
       "13072   3.610763 -4.129315  450.98224  \n",
       "13073   5.938710 -6.380605  380.27365  \n",
       "13074   8.885974 -6.033263  389.83290  \n",
       "13075  18.096079  1.073579  660.16516  \n",
       "...          ...       ...        ...  \n",
       "16066   2.156974 -1.155737  562.09454  \n",
       "16067   1.864684 -3.849684  459.78560  \n",
       "16068   5.101211 -6.615869  372.83508  \n",
       "16069  -1.328053 -7.090079  359.40790  \n",
       "16070  -5.652421 -9.781315  291.56586  \n",
       "\n",
       "[3000 rows x 9 columns]"
      ]
     },
     "execution_count": 19,
     "metadata": {},
     "output_type": "execute_result"
    }
   ],
   "source": [
    "df[df['discharge'] == val.values[0]].tail(3000)"
   ]
  },
  {
   "cell_type": "code",
   "execution_count": 8,
   "metadata": {},
   "outputs": [],
   "source": [
    "val = df[df['date'] == \"2023-12-27\"]['discharge']"
   ]
  },
  {
   "cell_type": "code",
   "execution_count": 21,
   "metadata": {},
   "outputs": [
    {
     "data": {
      "application/vnd.microsoft.datawrangler.viewer.v0+json": {
       "columns": [
        {
         "name": "index",
         "rawType": "int64",
         "type": "integer"
        },
        {
         "name": "date",
         "rawType": "object",
         "type": "string"
        },
        {
         "name": "discharge",
         "rawType": "float64",
         "type": "float"
        },
        {
         "name": "dayl",
         "rawType": "float64",
         "type": "float"
        },
        {
         "name": "prcp",
         "rawType": "float64",
         "type": "float"
        },
        {
         "name": "srad",
         "rawType": "float64",
         "type": "float"
        },
        {
         "name": "swe",
         "rawType": "float64",
         "type": "float"
        },
        {
         "name": "tmax",
         "rawType": "float64",
         "type": "float"
        },
        {
         "name": "tmin",
         "rawType": "float64",
         "type": "float"
        },
        {
         "name": "vp",
         "rawType": "float64",
         "type": "float"
        }
       ],
       "conversionMethod": "pd.DataFrame",
       "ref": "0745de2c-95de-4a02-b6c1-8e27688acc55",
       "rows": [
        [
         "0",
         "1980-01-01",
         "0.7362310632875549",
         "29971.389",
         "0.0",
         "85.395454",
         "21.339184",
         "-4.211342",
         "-9.449368",
         "299.31354"
        ],
        [
         "1",
         "1980-01-02",
         "0.7079144839303413",
         "30027.78",
         "0.0",
         "126.37995",
         "21.339184",
         "-7.899421",
         "-15.972132",
         "176.30363"
        ],
        [
         "2",
         "1980-01-03",
         "0.7079144839303413",
         "30088.756",
         "0.0",
         "156.8686",
         "21.339184",
         "-5.9595003",
         "-16.885366",
         "163.55623"
        ],
        [
         "3",
         "1980-01-04",
         "0.7079144839303413",
         "30154.264",
         "0.0",
         "91.728226",
         "21.339184",
         "-7.196816",
         "-12.690789",
         "230.44211"
        ],
        [
         "4",
         "1980-01-05",
         "0.7079144839303413",
         "30224.244",
         "0.0",
         "139.60196",
         "21.339184",
         "-5.3507633",
         "-14.331816",
         "202.09375"
        ],
        [
         "5",
         "1980-01-06",
         "0.7079144839303413",
         "30298.639",
         "7.8904734",
         "92.39544",
         "29.229553",
         "-4.8873944",
         "-12.433526",
         "235.35703"
        ],
        [
         "6",
         "1980-01-07",
         "0.6795979045731276",
         "30377.395",
         "4.8052106",
         "135.64345",
         "34.034924",
         "-5.5065265",
         "-18.63",
         "140.81287"
        ],
        [
         "7",
         "1980-01-08",
         "0.6795979045731276",
         "30460.447",
         "0.0",
         "163.26898",
         "34.034924",
         "-17.175552",
         "-27.661686",
         "62.95361"
        ],
        [
         "8",
         "1980-01-09",
         "0.6795979045731276",
         "30547.719",
         "0.0",
         "184.56303",
         "34.034924",
         "-20.83134",
         "-33.62948",
         "35.671394"
        ],
        [
         "9",
         "1980-01-10",
         "0.6795979045731276",
         "30639.16",
         "0.0",
         "210.84575",
         "34.034924",
         "-7.459027",
         "-26.3055",
         "71.472946"
        ],
        [
         "10",
         "1980-01-11",
         "0.6795979045731276",
         "30734.697",
         "3.5563686",
         "163.09988",
         "37.591446",
         "-0.64102626",
         "-22.064077",
         "104.38868"
        ],
        [
         "11",
         "1980-01-12",
         "0.6795979045731276",
         "30834.24",
         "0.0",
         "211.05331",
         "37.591446",
         "-9.504264",
         "-26.640448",
         "69.14466"
        ],
        [
         "12",
         "1980-01-13",
         "0.651281325215914",
         "30937.732",
         "0.0",
         "205.86353",
         "37.591446",
         "2.5797105",
         "-13.452658",
         "217.0204"
        ],
        [
         "13",
         "1980-01-14",
         "0.651281325215914",
         "31045.086",
         "0.0",
         "209.41193",
         "37.591446",
         "0.45757896",
         "-15.62608",
         "181.56216"
        ],
        [
         "14",
         "1980-01-15",
         "0.651281325215914",
         "31156.236",
         "6.8839216",
         "85.40389",
         "43.30708",
         "0.18213157",
         "-6.0554996",
         "388.70856"
        ],
        [
         "15",
         "1980-01-16",
         "0.6229647458587003",
         "31271.098",
         "0.0",
         "60.593235",
         "41.966263",
         "0.281",
         "-2.8073158",
         "497.2375"
        ],
        [
         "16",
         "1980-01-17",
         "0.6229647458587003",
         "31389.59",
         "0.0",
         "68.819244",
         "41.50763",
         "-1.4012368",
         "-4.9079733",
         "424.83154"
        ],
        [
         "17",
         "1980-01-18",
         "0.6229647458587003",
         "31511.635",
         "0.0",
         "105.70771",
         "41.507263",
         "-1.8255001",
         "-7.329",
         "352.62338"
        ],
        [
         "18",
         "1980-01-19",
         "0.5946481665014867",
         "31637.145",
         "0.0",
         "169.43939",
         "41.507263",
         "-3.554789",
         "-13.019421",
         "224.69785"
        ],
        [
         "19",
         "1980-01-20",
         "0.566331587144273",
         "31766.055",
         "0.0",
         "204.04262",
         "41.507263",
         "-4.005842",
         "-16.570263",
         "167.6953"
        ],
        [
         "20",
         "1980-01-21",
         "0.566331587144273",
         "31898.26",
         "0.0",
         "221.21039",
         "41.507263",
         "-0.80018425",
         "-15.621868",
         "181.38525"
        ],
        [
         "21",
         "1980-01-22",
         "0.5380150077870594",
         "32033.695",
         "0.0",
         "218.22578",
         "41.507263",
         "-2.6976578",
         "-16.470367",
         "168.80887"
        ],
        [
         "22",
         "1980-01-23",
         "0.5096984284298457",
         "32172.266",
         "0.0",
         "197.93488",
         "41.507263",
         "-15.266711",
         "-26.174026",
         "72.38023"
        ],
        [
         "23",
         "1980-01-24",
         "0.5096984284298457",
         "32313.895",
         "0.85047376",
         "221.35477",
         "42.35792",
         "-9.342473",
         "-22.548342",
         "100.18376"
        ],
        [
         "24",
         "1980-01-25",
         "0.481381849072632",
         "32458.5",
         "0.0",
         "229.59708",
         "42.35792",
         "-10.186658",
         "-24.089869",
         "87.55"
        ],
        [
         "25",
         "1980-01-26",
         "0.481381849072632",
         "32605.994",
         "0.0",
         "186.83444",
         "42.35792",
         "-16.616264",
         "-25.988264",
         "73.53321"
        ],
        [
         "26",
         "1980-01-27",
         "0.4530652697154184",
         "32756.303",
         "0.0",
         "128.35942",
         "42.35792",
         "-15.1540785",
         "-21.005816",
         "114.66144"
        ],
        [
         "27",
         "1980-01-28",
         "0.4530652697154184",
         "32909.344",
         "0.0",
         "199.23341",
         "42.35792",
         "-13.401815",
         "-23.351156",
         "93.448235"
        ],
        [
         "28",
         "1980-01-29",
         "0.4530652697154184",
         "33065.027",
         "0.0",
         "222.01993",
         "42.35792",
         "-14.268972",
         "-25.854053",
         "74.474075"
        ],
        [
         "29",
         "1980-01-30",
         "0.4247486903582048",
         "33223.277",
         "0.0",
         "243.14748",
         "42.35792",
         "-12.761316",
         "-26.33479",
         "71.273994"
        ],
        [
         "30",
         "1980-01-31",
         "0.4247486903582048",
         "33384.02",
         "0.0",
         "249.94296",
         "42.35792",
         "-11.395344",
         "-25.813423",
         "74.88674"
        ],
        [
         "31",
         "1980-02-01",
         "0.4247486903582048",
         "33547.18",
         "0.0",
         "248.65033",
         "42.35792",
         "-8.608185",
         "-22.735922",
         "98.57292"
        ],
        [
         "32",
         "1980-02-02",
         "0.4247486903582048",
         "33712.664",
         "0.0",
         "265.4717",
         "42.35792",
         "-7.9830523",
         "-24.261156",
         "85.906265"
        ],
        [
         "33",
         "1980-02-03",
         "0.4247486903582048",
         "33880.402",
         "0.0",
         "264.44434",
         "42.35792",
         "-9.07",
         "-24.968868",
         "80.75642"
        ],
        [
         "34",
         "1980-02-04",
         "0.4247486903582048",
         "34050.33",
         "0.0",
         "273.20908",
         "42.35792",
         "-7.1296844",
         "-24.28508",
         "85.53979"
        ],
        [
         "35",
         "1980-02-05",
         "0.4247486903582048",
         "34222.363",
         "0.0",
         "189.5118",
         "42.35792",
         "-4.977395",
         "-14.006025",
         "207.1092"
        ],
        [
         "36",
         "1980-02-06",
         "0.4247486903582048",
         "34396.42",
         "0.0",
         "226.72743",
         "42.35792",
         "-4.5067897",
         "-15.796394",
         "178.97342"
        ],
        [
         "37",
         "1980-02-07",
         "0.4247486903582048",
         "34572.453",
         "0.0",
         "220.43275",
         "42.35792",
         "-5.0733685",
         "-15.666027",
         "180.578"
        ],
        [
         "38",
         "1980-02-08",
         "0.4247486903582048",
         "34750.37",
         "0.0",
         "216.70296",
         "42.35792",
         "-5.2708154",
         "-15.363263",
         "185.19778"
        ],
        [
         "39",
         "1980-02-09",
         "0.4247486903582048",
         "34930.113",
         "0.0",
         "233.11537",
         "42.35792",
         "-4.463789",
         "-15.261289",
         "186.92459"
        ],
        [
         "40",
         "1980-02-10",
         "0.4247486903582048",
         "35111.61",
         "2.872895",
         "133.6307",
         "45.23087",
         "-5.210684",
         "-12.329447",
         "237.46646"
        ],
        [
         "41",
         "1980-02-11",
         "0.4247486903582048",
         "35294.8",
         "0.0",
         "201.95892",
         "45.23087",
         "-4.443763",
         "-12.484079",
         "234.5461"
        ],
        [
         "42",
         "1980-02-12",
         "0.4247486903582048",
         "35479.61",
         "0.0",
         "241.88765",
         "45.23087",
         "-5.4162893",
         "-15.287604",
         "186.72195"
        ],
        [
         "43",
         "1980-02-13",
         "0.4247486903582048",
         "35665.98",
         "0.0",
         "268.60345",
         "45.23087",
         "-6.4255524",
         "-17.66129",
         "153.10298"
        ],
        [
         "44",
         "1980-02-14",
         "0.4247486903582048",
         "35853.85",
         "0.0",
         "299.00552",
         "45.23087",
         "-6.714237",
         "-20.500341",
         "119.660355"
        ],
        [
         "45",
         "1980-02-15",
         "0.4247486903582048",
         "36043.164",
         "0.0",
         "273.2019",
         "45.23087",
         "-8.482868",
         "-19.975973",
         "125.45529"
        ],
        [
         "46",
         "1980-02-16",
         "0.4247486903582048",
         "36233.85",
         "0.0",
         "250.85866",
         "45.23087",
         "-11.623948",
         "-21.613289",
         "108.53428"
        ],
        [
         "47",
         "1980-02-17",
         "0.4247486903582048",
         "36425.86",
         "0.0",
         "318.98157",
         "45.23087",
         "-6.056395",
         "-21.730318",
         "107.460526"
        ],
        [
         "48",
         "1980-02-18",
         "0.4247486903582048",
         "36619.133",
         "0.0",
         "256.86734",
         "45.23087",
         "-2.6566842",
         "-13.068738",
         "223.5296"
        ],
        [
         "49",
         "1980-02-19",
         "0.4247486903582048",
         "36813.63",
         "0.0",
         "200.1688",
         "45.229446",
         "-1.4127895",
         "-8.822659",
         "314.75647"
        ]
       ],
       "shape": {
        "columns": 9,
        "rows": 16071
       }
      },
      "text/html": [
       "<div>\n",
       "<style scoped>\n",
       "    .dataframe tbody tr th:only-of-type {\n",
       "        vertical-align: middle;\n",
       "    }\n",
       "\n",
       "    .dataframe tbody tr th {\n",
       "        vertical-align: top;\n",
       "    }\n",
       "\n",
       "    .dataframe thead th {\n",
       "        text-align: right;\n",
       "    }\n",
       "</style>\n",
       "<table border=\"1\" class=\"dataframe\">\n",
       "  <thead>\n",
       "    <tr style=\"text-align: right;\">\n",
       "      <th></th>\n",
       "      <th>date</th>\n",
       "      <th>discharge</th>\n",
       "      <th>dayl</th>\n",
       "      <th>prcp</th>\n",
       "      <th>srad</th>\n",
       "      <th>swe</th>\n",
       "      <th>tmax</th>\n",
       "      <th>tmin</th>\n",
       "      <th>vp</th>\n",
       "    </tr>\n",
       "  </thead>\n",
       "  <tbody>\n",
       "    <tr>\n",
       "      <th>0</th>\n",
       "      <td>1980-01-01</td>\n",
       "      <td>0.736231</td>\n",
       "      <td>29971.389</td>\n",
       "      <td>0.000000</td>\n",
       "      <td>85.395454</td>\n",
       "      <td>21.339184</td>\n",
       "      <td>-4.211342</td>\n",
       "      <td>-9.449368</td>\n",
       "      <td>299.31354</td>\n",
       "    </tr>\n",
       "    <tr>\n",
       "      <th>1</th>\n",
       "      <td>1980-01-02</td>\n",
       "      <td>0.707914</td>\n",
       "      <td>30027.780</td>\n",
       "      <td>0.000000</td>\n",
       "      <td>126.379950</td>\n",
       "      <td>21.339184</td>\n",
       "      <td>-7.899421</td>\n",
       "      <td>-15.972132</td>\n",
       "      <td>176.30363</td>\n",
       "    </tr>\n",
       "    <tr>\n",
       "      <th>2</th>\n",
       "      <td>1980-01-03</td>\n",
       "      <td>0.707914</td>\n",
       "      <td>30088.756</td>\n",
       "      <td>0.000000</td>\n",
       "      <td>156.868600</td>\n",
       "      <td>21.339184</td>\n",
       "      <td>-5.959500</td>\n",
       "      <td>-16.885366</td>\n",
       "      <td>163.55623</td>\n",
       "    </tr>\n",
       "    <tr>\n",
       "      <th>3</th>\n",
       "      <td>1980-01-04</td>\n",
       "      <td>0.707914</td>\n",
       "      <td>30154.264</td>\n",
       "      <td>0.000000</td>\n",
       "      <td>91.728226</td>\n",
       "      <td>21.339184</td>\n",
       "      <td>-7.196816</td>\n",
       "      <td>-12.690789</td>\n",
       "      <td>230.44211</td>\n",
       "    </tr>\n",
       "    <tr>\n",
       "      <th>4</th>\n",
       "      <td>1980-01-05</td>\n",
       "      <td>0.707914</td>\n",
       "      <td>30224.244</td>\n",
       "      <td>0.000000</td>\n",
       "      <td>139.601960</td>\n",
       "      <td>21.339184</td>\n",
       "      <td>-5.350763</td>\n",
       "      <td>-14.331816</td>\n",
       "      <td>202.09375</td>\n",
       "    </tr>\n",
       "    <tr>\n",
       "      <th>...</th>\n",
       "      <td>...</td>\n",
       "      <td>...</td>\n",
       "      <td>...</td>\n",
       "      <td>...</td>\n",
       "      <td>...</td>\n",
       "      <td>...</td>\n",
       "      <td>...</td>\n",
       "      <td>...</td>\n",
       "      <td>...</td>\n",
       "    </tr>\n",
       "    <tr>\n",
       "      <th>16066</th>\n",
       "      <td>2023-12-27</td>\n",
       "      <td>1.330879</td>\n",
       "      <td>29759.559</td>\n",
       "      <td>0.125947</td>\n",
       "      <td>65.866160</td>\n",
       "      <td>0.000000</td>\n",
       "      <td>2.156974</td>\n",
       "      <td>-1.155737</td>\n",
       "      <td>562.09454</td>\n",
       "    </tr>\n",
       "    <tr>\n",
       "      <th>16067</th>\n",
       "      <td>2023-12-28</td>\n",
       "      <td>1.330879</td>\n",
       "      <td>29792.377</td>\n",
       "      <td>0.000000</td>\n",
       "      <td>109.936970</td>\n",
       "      <td>0.000000</td>\n",
       "      <td>1.864684</td>\n",
       "      <td>-3.849684</td>\n",
       "      <td>459.78560</td>\n",
       "    </tr>\n",
       "    <tr>\n",
       "      <th>16068</th>\n",
       "      <td>2023-12-29</td>\n",
       "      <td>1.330879</td>\n",
       "      <td>29829.982</td>\n",
       "      <td>0.000000</td>\n",
       "      <td>161.503340</td>\n",
       "      <td>0.000000</td>\n",
       "      <td>5.101211</td>\n",
       "      <td>-6.615869</td>\n",
       "      <td>372.83508</td>\n",
       "    </tr>\n",
       "    <tr>\n",
       "      <th>16069</th>\n",
       "      <td>2023-12-30</td>\n",
       "      <td>1.330879</td>\n",
       "      <td>29872.340</td>\n",
       "      <td>0.875553</td>\n",
       "      <td>126.727325</td>\n",
       "      <td>0.824658</td>\n",
       "      <td>-1.328053</td>\n",
       "      <td>-7.090079</td>\n",
       "      <td>359.40790</td>\n",
       "    </tr>\n",
       "    <tr>\n",
       "      <th>16070</th>\n",
       "      <td>2023-12-31</td>\n",
       "      <td>1.330879</td>\n",
       "      <td>29919.408</td>\n",
       "      <td>0.000000</td>\n",
       "      <td>99.680450</td>\n",
       "      <td>0.824658</td>\n",
       "      <td>-5.652421</td>\n",
       "      <td>-9.781315</td>\n",
       "      <td>291.56586</td>\n",
       "    </tr>\n",
       "  </tbody>\n",
       "</table>\n",
       "<p>16071 rows × 9 columns</p>\n",
       "</div>"
      ],
      "text/plain": [
       "             date  discharge       dayl      prcp        srad        swe  \\\n",
       "0      1980-01-01   0.736231  29971.389  0.000000   85.395454  21.339184   \n",
       "1      1980-01-02   0.707914  30027.780  0.000000  126.379950  21.339184   \n",
       "2      1980-01-03   0.707914  30088.756  0.000000  156.868600  21.339184   \n",
       "3      1980-01-04   0.707914  30154.264  0.000000   91.728226  21.339184   \n",
       "4      1980-01-05   0.707914  30224.244  0.000000  139.601960  21.339184   \n",
       "...           ...        ...        ...       ...         ...        ...   \n",
       "16066  2023-12-27   1.330879  29759.559  0.125947   65.866160   0.000000   \n",
       "16067  2023-12-28   1.330879  29792.377  0.000000  109.936970   0.000000   \n",
       "16068  2023-12-29   1.330879  29829.982  0.000000  161.503340   0.000000   \n",
       "16069  2023-12-30   1.330879  29872.340  0.875553  126.727325   0.824658   \n",
       "16070  2023-12-31   1.330879  29919.408  0.000000   99.680450   0.824658   \n",
       "\n",
       "           tmax       tmin         vp  \n",
       "0     -4.211342  -9.449368  299.31354  \n",
       "1     -7.899421 -15.972132  176.30363  \n",
       "2     -5.959500 -16.885366  163.55623  \n",
       "3     -7.196816 -12.690789  230.44211  \n",
       "4     -5.350763 -14.331816  202.09375  \n",
       "...         ...        ...        ...  \n",
       "16066  2.156974  -1.155737  562.09454  \n",
       "16067  1.864684  -3.849684  459.78560  \n",
       "16068  5.101211  -6.615869  372.83508  \n",
       "16069 -1.328053  -7.090079  359.40790  \n",
       "16070 -5.652421  -9.781315  291.56586  \n",
       "\n",
       "[16071 rows x 9 columns]"
      ]
     },
     "execution_count": 21,
     "metadata": {},
     "output_type": "execute_result"
    }
   ],
   "source": [
    "df"
   ]
  },
  {
   "cell_type": "code",
   "execution_count": 26,
   "metadata": {},
   "outputs": [
    {
     "data": {
      "text/plain": [
       "1"
      ]
     },
     "execution_count": 26,
     "metadata": {},
     "output_type": "execute_result"
    }
   ],
   "source": [
    "# Convert the 'date' column to datetime format\n",
    "df['date'] = pd.to_datetime(df['date'])\n",
    "\n",
    "# Filter the dataframe for the target date range\n",
    "filtered_df = df[(df['date'] >= \"2011-01-01\") & (df['date'] <= \"2022-12-31\")]\n",
    "\n",
    "# Get the unique values in the 'discharge' column\n",
    "unique_discharge_values = filtered_df['discharge'].unique()\n",
    "unique_discharge_values.shape[0]"
   ]
  },
  {
   "cell_type": "code",
   "execution_count": 27,
   "metadata": {},
   "outputs": [
    {
     "name": "stderr",
     "output_type": "stream",
     "text": [
      "100%|██████████| 976/976 [01:17<00:00, 12.59it/s]"
     ]
    },
    {
     "name": "stdout",
     "output_type": "stream",
     "text": [
      "     basin_id  unique_discharge_count\n",
      "0     02AA001                       1\n",
      "1     02AA002                       1\n",
      "2     02AB001                       1\n",
      "3     02AB002                       1\n",
      "4     02AB004                       1\n",
      "..        ...                     ...\n",
      "971  04257000                       1\n",
      "972  04258000                     908\n",
      "973  04260500                    1046\n",
      "974  04263000                    1277\n",
      "975  05535070                    1578\n",
      "\n",
      "[976 rows x 2 columns]\n"
     ]
    },
    {
     "name": "stderr",
     "output_type": "stream",
     "text": [
      "\n"
     ]
    }
   ],
   "source": [
    "import os\n",
    "import pandas as pd\n",
    "from tqdm import tqdm\n",
    "\n",
    "# Define the directory containing the CSV files\n",
    "data_folder = 'data/csv_files'\n",
    "\n",
    "# Initialize a list to store the results\n",
    "results = []\n",
    "\n",
    "# Iterate over all CSV files in the directory\n",
    "for file_name in tqdm(os.listdir(data_folder)):\n",
    "    if file_name.endswith('.csv'):\n",
    "        file_path = os.path.join(data_folder, file_name)\n",
    "        df = pd.read_csv(file_path)\n",
    "        \n",
    "        # Convert the 'date' column to datetime format\n",
    "        df['date'] = pd.to_datetime(df['date'])\n",
    "        \n",
    "        # Filter the dataframe for the target date range\n",
    "        filtered_df = df[(df['date'] >= \"2011-01-01\") & (df['date'] <= \"2022-12-31\")]\n",
    "        \n",
    "        # Get the unique values in the 'discharge' column\n",
    "        unique_discharge_values = filtered_df['discharge'].unique()\n",
    "        unique_count = unique_discharge_values.shape[0]\n",
    "        \n",
    "        # Append the results to the list\n",
    "        basin_id = os.path.splitext(file_name)[0]\n",
    "        results.append({'basin_id': basin_id, 'unique_discharge_count': unique_count})\n",
    "\n",
    "# Create a DataFrame from the results\n",
    "result_df = pd.DataFrame(results)\n",
    "\n",
    "# Display the result DataFrame\n",
    "print(result_df)"
   ]
  },
  {
   "cell_type": "code",
   "execution_count": 31,
   "metadata": {},
   "outputs": [
    {
     "data": {
      "application/vnd.microsoft.datawrangler.viewer.v0+json": {
       "columns": [
        {
         "name": "index",
         "rawType": "object",
         "type": "string"
        },
        {
         "name": "unique_discharge_count",
         "rawType": "float64",
         "type": "float"
        }
       ],
       "conversionMethod": "pd.DataFrame",
       "ref": "b3f72b05-c160-47ba-8b84-7737351f7ba3",
       "rows": [
        [
         "count",
         "976.0"
        ],
        [
         "mean",
         "825.7704918032787"
        ],
        [
         "std",
         "724.7730952371613"
        ],
        [
         "min",
         "1.0"
        ],
        [
         "25%",
         "1.0"
        ],
        [
         "50%",
         "934.0"
        ],
        [
         "75%",
         "1348.0"
        ],
        [
         "max",
         "4338.0"
        ]
       ],
       "shape": {
        "columns": 1,
        "rows": 8
       }
      },
      "text/html": [
       "<div>\n",
       "<style scoped>\n",
       "    .dataframe tbody tr th:only-of-type {\n",
       "        vertical-align: middle;\n",
       "    }\n",
       "\n",
       "    .dataframe tbody tr th {\n",
       "        vertical-align: top;\n",
       "    }\n",
       "\n",
       "    .dataframe thead th {\n",
       "        text-align: right;\n",
       "    }\n",
       "</style>\n",
       "<table border=\"1\" class=\"dataframe\">\n",
       "  <thead>\n",
       "    <tr style=\"text-align: right;\">\n",
       "      <th></th>\n",
       "      <th>unique_discharge_count</th>\n",
       "    </tr>\n",
       "  </thead>\n",
       "  <tbody>\n",
       "    <tr>\n",
       "      <th>count</th>\n",
       "      <td>976.000000</td>\n",
       "    </tr>\n",
       "    <tr>\n",
       "      <th>mean</th>\n",
       "      <td>825.770492</td>\n",
       "    </tr>\n",
       "    <tr>\n",
       "      <th>std</th>\n",
       "      <td>724.773095</td>\n",
       "    </tr>\n",
       "    <tr>\n",
       "      <th>min</th>\n",
       "      <td>1.000000</td>\n",
       "    </tr>\n",
       "    <tr>\n",
       "      <th>25%</th>\n",
       "      <td>1.000000</td>\n",
       "    </tr>\n",
       "    <tr>\n",
       "      <th>50%</th>\n",
       "      <td>934.000000</td>\n",
       "    </tr>\n",
       "    <tr>\n",
       "      <th>75%</th>\n",
       "      <td>1348.000000</td>\n",
       "    </tr>\n",
       "    <tr>\n",
       "      <th>max</th>\n",
       "      <td>4338.000000</td>\n",
       "    </tr>\n",
       "  </tbody>\n",
       "</table>\n",
       "</div>"
      ],
      "text/plain": [
       "       unique_discharge_count\n",
       "count              976.000000\n",
       "mean               825.770492\n",
       "std                724.773095\n",
       "min                  1.000000\n",
       "25%                  1.000000\n",
       "50%                934.000000\n",
       "75%               1348.000000\n",
       "max               4338.000000"
      ]
     },
     "execution_count": 31,
     "metadata": {},
     "output_type": "execute_result"
    }
   ],
   "source": [
    "result_df.describe()"
   ]
  },
  {
   "cell_type": "code",
   "execution_count": 32,
   "metadata": {},
   "outputs": [],
   "source": [
    "coverage_df = pd.read_csv(\"discharge_coverage.csv\")"
   ]
  },
  {
   "cell_type": "code",
   "execution_count": 34,
   "metadata": {},
   "outputs": [
    {
     "data": {
      "application/vnd.microsoft.datawrangler.viewer.v0+json": {
       "columns": [
        {
         "name": "index",
         "rawType": "int64",
         "type": "integer"
        },
        {
         "name": "basin_id",
         "rawType": "object",
         "type": "string"
        },
        {
         "name": "discharge_coverage",
         "rawType": "float64",
         "type": "float"
        },
        {
         "name": "unique_discharge_count",
         "rawType": "int64",
         "type": "integer"
        }
       ],
       "conversionMethod": "pd.DataFrame",
       "ref": "d7c964d9-5c80-4e2b-96a7-b7723750fb51",
       "rows": [
        [
         "0",
         "02AA001",
         "1.0",
         "1"
        ],
        [
         "1",
         "02AA002",
         "0.0",
         "1"
        ],
        [
         "2",
         "02AB001",
         "0.0",
         "1"
        ],
        [
         "3",
         "02AB002",
         "0.0",
         "1"
        ],
        [
         "4",
         "02AB004",
         "1.0",
         "1"
        ],
        [
         "5",
         "02AB005",
         "0.0",
         "1"
        ],
        [
         "6",
         "02AB006",
         "1.0",
         "938"
        ],
        [
         "7",
         "02AB007",
         "0.0",
         "1"
        ],
        [
         "8",
         "02AB008",
         "1.0",
         "1375"
        ],
        [
         "9",
         "02AB009",
         "1.0",
         "1"
        ],
        [
         "10",
         "02AB010",
         "1.0",
         "1"
        ],
        [
         "11",
         "02AB011",
         "1.0",
         "1"
        ],
        [
         "12",
         "02AB012",
         "0.9996816503247168",
         "1"
        ],
        [
         "13",
         "02AB013",
         "1.0",
         "1"
        ],
        [
         "14",
         "02AB014",
         "1.0",
         "1366"
        ],
        [
         "15",
         "02AB015",
         "1.0",
         "1"
        ],
        [
         "16",
         "02AB016",
         "1.0",
         "1"
        ],
        [
         "17",
         "02AB017",
         "1.0",
         "1560"
        ],
        [
         "18",
         "02AB019",
         "0.8644467082643575",
         "988"
        ],
        [
         "19",
         "02AB020",
         "0.8371959760601044",
         "1183"
        ],
        [
         "20",
         "02AB021",
         "0.7906532535336814",
         "1635"
        ],
        [
         "21",
         "02AB022",
         "0.4584872023430536",
         "750"
        ],
        [
         "22",
         "02AB023",
         "0.3639373487839042",
         "1264"
        ],
        [
         "23",
         "02AB024",
         "0.3608175219661276",
         "1042"
        ],
        [
         "24",
         "02AB025",
         "0.3555329173564243",
         "3086"
        ],
        [
         "25",
         "02AC001",
         "1.0",
         "1470"
        ],
        [
         "26",
         "02AC002",
         "1.0",
         "1355"
        ],
        [
         "27",
         "02AD010",
         "1.0",
         "1309"
        ],
        [
         "28",
         "02AD011",
         "0.8184133452183878",
         "1"
        ],
        [
         "29",
         "02AE001",
         "1.0",
         "1414"
        ],
        [
         "30",
         "02BA002",
         "1.0",
         "1"
        ],
        [
         "31",
         "02BA003",
         "1.0",
         "1323"
        ],
        [
         "32",
         "02BA005",
         "0.7882337960015281",
         "704"
        ],
        [
         "33",
         "02BA006",
         "0.4602062905895836",
         "1315"
        ],
        [
         "34",
         "02BB002",
         "1.0",
         "1"
        ],
        [
         "35",
         "02BB003",
         "1.0",
         "1335"
        ],
        [
         "36",
         "02BB004",
         "0.886667515599134",
         "1274"
        ],
        [
         "37",
         "02BC002",
         "0.0",
         "1"
        ],
        [
         "38",
         "02BC003",
         "0.0",
         "1"
        ],
        [
         "39",
         "02BC004",
         "1.0",
         "765"
        ],
        [
         "40",
         "02BC005",
         "0.6743919521202089",
         "1"
        ],
        [
         "41",
         "02BC006",
         "0.3720871004711575",
         "1384"
        ],
        [
         "42",
         "02BC008",
         "0.0930217751177893",
         "512"
        ],
        [
         "43",
         "02BD001",
         "0.0",
         "1"
        ],
        [
         "44",
         "02BD002",
         "1.0",
         "858"
        ],
        [
         "45",
         "02BD003",
         "1.0",
         "1"
        ],
        [
         "46",
         "02BD006",
         "0.7674137272379982",
         "970"
        ],
        [
         "47",
         "02BD007",
         "0.4883484018846301",
         "788"
        ],
        [
         "48",
         "02BE001",
         "0.0",
         "1"
        ],
        [
         "49",
         "02BE002",
         "1.0",
         "954"
        ]
       ],
       "shape": {
        "columns": 3,
        "rows": 976
       }
      },
      "text/html": [
       "<div>\n",
       "<style scoped>\n",
       "    .dataframe tbody tr th:only-of-type {\n",
       "        vertical-align: middle;\n",
       "    }\n",
       "\n",
       "    .dataframe tbody tr th {\n",
       "        vertical-align: top;\n",
       "    }\n",
       "\n",
       "    .dataframe thead th {\n",
       "        text-align: right;\n",
       "    }\n",
       "</style>\n",
       "<table border=\"1\" class=\"dataframe\">\n",
       "  <thead>\n",
       "    <tr style=\"text-align: right;\">\n",
       "      <th></th>\n",
       "      <th>basin_id</th>\n",
       "      <th>discharge_coverage</th>\n",
       "      <th>unique_discharge_count</th>\n",
       "    </tr>\n",
       "  </thead>\n",
       "  <tbody>\n",
       "    <tr>\n",
       "      <th>0</th>\n",
       "      <td>02AA001</td>\n",
       "      <td>1.0</td>\n",
       "      <td>1</td>\n",
       "    </tr>\n",
       "    <tr>\n",
       "      <th>1</th>\n",
       "      <td>02AA002</td>\n",
       "      <td>0.0</td>\n",
       "      <td>1</td>\n",
       "    </tr>\n",
       "    <tr>\n",
       "      <th>2</th>\n",
       "      <td>02AB001</td>\n",
       "      <td>0.0</td>\n",
       "      <td>1</td>\n",
       "    </tr>\n",
       "    <tr>\n",
       "      <th>3</th>\n",
       "      <td>02AB002</td>\n",
       "      <td>0.0</td>\n",
       "      <td>1</td>\n",
       "    </tr>\n",
       "    <tr>\n",
       "      <th>4</th>\n",
       "      <td>02AB004</td>\n",
       "      <td>1.0</td>\n",
       "      <td>1</td>\n",
       "    </tr>\n",
       "    <tr>\n",
       "      <th>...</th>\n",
       "      <td>...</td>\n",
       "      <td>...</td>\n",
       "      <td>...</td>\n",
       "    </tr>\n",
       "    <tr>\n",
       "      <th>971</th>\n",
       "      <td>04257000</td>\n",
       "      <td>1.0</td>\n",
       "      <td>1</td>\n",
       "    </tr>\n",
       "    <tr>\n",
       "      <th>972</th>\n",
       "      <td>04258000</td>\n",
       "      <td>1.0</td>\n",
       "      <td>908</td>\n",
       "    </tr>\n",
       "    <tr>\n",
       "      <th>973</th>\n",
       "      <td>04260500</td>\n",
       "      <td>1.0</td>\n",
       "      <td>1046</td>\n",
       "    </tr>\n",
       "    <tr>\n",
       "      <th>974</th>\n",
       "      <td>04263000</td>\n",
       "      <td>1.0</td>\n",
       "      <td>1277</td>\n",
       "    </tr>\n",
       "    <tr>\n",
       "      <th>975</th>\n",
       "      <td>05535070</td>\n",
       "      <td>1.0</td>\n",
       "      <td>1578</td>\n",
       "    </tr>\n",
       "  </tbody>\n",
       "</table>\n",
       "<p>976 rows × 3 columns</p>\n",
       "</div>"
      ],
      "text/plain": [
       "     basin_id  discharge_coverage  unique_discharge_count\n",
       "0     02AA001                 1.0                       1\n",
       "1     02AA002                 0.0                       1\n",
       "2     02AB001                 0.0                       1\n",
       "3     02AB002                 0.0                       1\n",
       "4     02AB004                 1.0                       1\n",
       "..        ...                 ...                     ...\n",
       "971  04257000                 1.0                       1\n",
       "972  04258000                 1.0                     908\n",
       "973  04260500                 1.0                    1046\n",
       "974  04263000                 1.0                    1277\n",
       "975  05535070                 1.0                    1578\n",
       "\n",
       "[976 rows x 3 columns]"
      ]
     },
     "execution_count": 34,
     "metadata": {},
     "output_type": "execute_result"
    }
   ],
   "source": [
    "merged_df = pd.merge(coverage_df, result_df, on='basin_id')\n",
    "merged_df"
   ]
  },
  {
   "cell_type": "code",
   "execution_count": 41,
   "metadata": {},
   "outputs": [
    {
     "data": {
      "application/vnd.microsoft.datawrangler.viewer.v0+json": {
       "columns": [
        {
         "name": "index",
         "rawType": "int64",
         "type": "integer"
        },
        {
         "name": "basin_id",
         "rawType": "object",
         "type": "string"
        },
        {
         "name": "discharge_coverage",
         "rawType": "float64",
         "type": "float"
        },
        {
         "name": "unique_discharge_count",
         "rawType": "int64",
         "type": "integer"
        }
       ],
       "conversionMethod": "pd.DataFrame",
       "ref": "532a139a-b2f0-415b-be8e-97606f2f477b",
       "rows": [
        [
         "0",
         "02AA001",
         "0.0",
         "1"
        ],
        [
         "1",
         "02AA002",
         "0.0",
         "1"
        ],
        [
         "2",
         "02AB001",
         "0.0",
         "1"
        ],
        [
         "3",
         "02AB002",
         "0.0",
         "1"
        ],
        [
         "4",
         "02AB004",
         "0.0",
         "1"
        ],
        [
         "5",
         "02AB005",
         "0.0",
         "1"
        ],
        [
         "6",
         "02AB006",
         "1.0",
         "938"
        ],
        [
         "7",
         "02AB007",
         "0.0",
         "1"
        ],
        [
         "8",
         "02AB008",
         "1.0",
         "1375"
        ],
        [
         "9",
         "02AB009",
         "0.0",
         "1"
        ],
        [
         "10",
         "02AB010",
         "0.0",
         "1"
        ],
        [
         "11",
         "02AB011",
         "0.0",
         "1"
        ],
        [
         "12",
         "02AB012",
         "0.9996816503247168",
         "1"
        ],
        [
         "13",
         "02AB013",
         "0.0",
         "1"
        ],
        [
         "14",
         "02AB014",
         "1.0",
         "1366"
        ],
        [
         "15",
         "02AB015",
         "0.0",
         "1"
        ],
        [
         "16",
         "02AB016",
         "0.0",
         "1"
        ],
        [
         "17",
         "02AB017",
         "1.0",
         "1560"
        ],
        [
         "18",
         "02AB019",
         "0.8644467082643575",
         "988"
        ],
        [
         "19",
         "02AB020",
         "0.8371959760601044",
         "1183"
        ],
        [
         "20",
         "02AB021",
         "0.7906532535336814",
         "1635"
        ],
        [
         "21",
         "02AB022",
         "0.4584872023430536",
         "750"
        ],
        [
         "22",
         "02AB023",
         "0.3639373487839042",
         "1264"
        ],
        [
         "23",
         "02AB024",
         "0.3608175219661276",
         "1042"
        ],
        [
         "24",
         "02AB025",
         "0.3555329173564243",
         "3086"
        ],
        [
         "25",
         "02AC001",
         "1.0",
         "1470"
        ],
        [
         "26",
         "02AC002",
         "1.0",
         "1355"
        ],
        [
         "27",
         "02AD010",
         "1.0",
         "1309"
        ],
        [
         "28",
         "02AD011",
         "0.8184133452183878",
         "1"
        ],
        [
         "29",
         "02AE001",
         "1.0",
         "1414"
        ],
        [
         "30",
         "02BA002",
         "0.0",
         "1"
        ],
        [
         "31",
         "02BA003",
         "1.0",
         "1323"
        ],
        [
         "32",
         "02BA005",
         "0.7882337960015281",
         "704"
        ],
        [
         "33",
         "02BA006",
         "0.4602062905895836",
         "1315"
        ],
        [
         "34",
         "02BB002",
         "0.0",
         "1"
        ],
        [
         "35",
         "02BB003",
         "1.0",
         "1335"
        ],
        [
         "36",
         "02BB004",
         "0.886667515599134",
         "1274"
        ],
        [
         "37",
         "02BC002",
         "0.0",
         "1"
        ],
        [
         "38",
         "02BC003",
         "0.0",
         "1"
        ],
        [
         "39",
         "02BC004",
         "1.0",
         "765"
        ],
        [
         "40",
         "02BC005",
         "0.6743919521202089",
         "1"
        ],
        [
         "41",
         "02BC006",
         "0.3720871004711575",
         "1384"
        ],
        [
         "42",
         "02BC008",
         "0.0930217751177893",
         "512"
        ],
        [
         "43",
         "02BD001",
         "0.0",
         "1"
        ],
        [
         "44",
         "02BD002",
         "1.0",
         "858"
        ],
        [
         "45",
         "02BD003",
         "0.0",
         "1"
        ],
        [
         "46",
         "02BD006",
         "0.7674137272379982",
         "970"
        ],
        [
         "47",
         "02BD007",
         "0.4883484018846301",
         "788"
        ],
        [
         "48",
         "02BE001",
         "0.0",
         "1"
        ],
        [
         "49",
         "02BE002",
         "1.0",
         "954"
        ]
       ],
       "shape": {
        "columns": 3,
        "rows": 976
       }
      },
      "text/html": [
       "<div>\n",
       "<style scoped>\n",
       "    .dataframe tbody tr th:only-of-type {\n",
       "        vertical-align: middle;\n",
       "    }\n",
       "\n",
       "    .dataframe tbody tr th {\n",
       "        vertical-align: top;\n",
       "    }\n",
       "\n",
       "    .dataframe thead th {\n",
       "        text-align: right;\n",
       "    }\n",
       "</style>\n",
       "<table border=\"1\" class=\"dataframe\">\n",
       "  <thead>\n",
       "    <tr style=\"text-align: right;\">\n",
       "      <th></th>\n",
       "      <th>basin_id</th>\n",
       "      <th>discharge_coverage</th>\n",
       "      <th>unique_discharge_count</th>\n",
       "    </tr>\n",
       "  </thead>\n",
       "  <tbody>\n",
       "    <tr>\n",
       "      <th>0</th>\n",
       "      <td>02AA001</td>\n",
       "      <td>0.0</td>\n",
       "      <td>1</td>\n",
       "    </tr>\n",
       "    <tr>\n",
       "      <th>1</th>\n",
       "      <td>02AA002</td>\n",
       "      <td>0.0</td>\n",
       "      <td>1</td>\n",
       "    </tr>\n",
       "    <tr>\n",
       "      <th>2</th>\n",
       "      <td>02AB001</td>\n",
       "      <td>0.0</td>\n",
       "      <td>1</td>\n",
       "    </tr>\n",
       "    <tr>\n",
       "      <th>3</th>\n",
       "      <td>02AB002</td>\n",
       "      <td>0.0</td>\n",
       "      <td>1</td>\n",
       "    </tr>\n",
       "    <tr>\n",
       "      <th>4</th>\n",
       "      <td>02AB004</td>\n",
       "      <td>0.0</td>\n",
       "      <td>1</td>\n",
       "    </tr>\n",
       "    <tr>\n",
       "      <th>...</th>\n",
       "      <td>...</td>\n",
       "      <td>...</td>\n",
       "      <td>...</td>\n",
       "    </tr>\n",
       "    <tr>\n",
       "      <th>971</th>\n",
       "      <td>04257000</td>\n",
       "      <td>0.0</td>\n",
       "      <td>1</td>\n",
       "    </tr>\n",
       "    <tr>\n",
       "      <th>972</th>\n",
       "      <td>04258000</td>\n",
       "      <td>1.0</td>\n",
       "      <td>908</td>\n",
       "    </tr>\n",
       "    <tr>\n",
       "      <th>973</th>\n",
       "      <td>04260500</td>\n",
       "      <td>1.0</td>\n",
       "      <td>1046</td>\n",
       "    </tr>\n",
       "    <tr>\n",
       "      <th>974</th>\n",
       "      <td>04263000</td>\n",
       "      <td>1.0</td>\n",
       "      <td>1277</td>\n",
       "    </tr>\n",
       "    <tr>\n",
       "      <th>975</th>\n",
       "      <td>05535070</td>\n",
       "      <td>1.0</td>\n",
       "      <td>1578</td>\n",
       "    </tr>\n",
       "  </tbody>\n",
       "</table>\n",
       "<p>976 rows × 3 columns</p>\n",
       "</div>"
      ],
      "text/plain": [
       "     basin_id  discharge_coverage  unique_discharge_count\n",
       "0     02AA001                 0.0                       1\n",
       "1     02AA002                 0.0                       1\n",
       "2     02AB001                 0.0                       1\n",
       "3     02AB002                 0.0                       1\n",
       "4     02AB004                 0.0                       1\n",
       "..        ...                 ...                     ...\n",
       "971  04257000                 0.0                       1\n",
       "972  04258000                 1.0                     908\n",
       "973  04260500                 1.0                    1046\n",
       "974  04263000                 1.0                    1277\n",
       "975  05535070                 1.0                    1578\n",
       "\n",
       "[976 rows x 3 columns]"
      ]
     },
     "execution_count": 41,
     "metadata": {},
     "output_type": "execute_result"
    }
   ],
   "source": [
    "merged_df.loc[(merged_df['discharge_coverage'] == 1) & (merged_df['unique_discharge_count'] == 1), 'discharge_coverage'] = 0\n",
    "merged_df"
   ]
  },
  {
   "cell_type": "code",
   "execution_count": 42,
   "metadata": {},
   "outputs": [],
   "source": [
    "merged_df.to_csv(\"coverage.csv\")"
   ]
  }
 ],
 "metadata": {
  "kernelspec": {
   "display_name": "Python 3",
   "language": "python",
   "name": "python3"
  },
  "language_info": {
   "codemirror_mode": {
    "name": "ipython",
    "version": 3
   },
   "file_extension": ".py",
   "mimetype": "text/x-python",
   "name": "python",
   "nbconvert_exporter": "python",
   "pygments_lexer": "ipython3",
   "version": "3.12.9"
  }
 },
 "nbformat": 4,
 "nbformat_minor": 2
}
