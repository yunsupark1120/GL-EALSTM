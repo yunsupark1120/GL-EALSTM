{
 "cells": [
  {
   "cell_type": "markdown",
   "metadata": {},
   "source": [
    "## Filter Out Suspicious Basins"
   ]
  },
  {
   "cell_type": "code",
   "execution_count": 1,
   "metadata": {},
   "outputs": [
    {
     "name": "stderr",
     "output_type": "stream",
     "text": [
      "100%|██████████| 976/976 [00:19<00:00, 51.24it/s]"
     ]
    },
    {
     "name": "stdout",
     "output_type": "stream",
     "text": [
      "Check complete. Suspicious file names saved to 'suspicious_files.txt'.\n"
     ]
    },
    {
     "name": "stderr",
     "output_type": "stream",
     "text": [
      "\n"
     ]
    }
   ],
   "source": [
    "import os\n",
    "import pandas as pd\n",
    "from tqdm import tqdm\n",
    "\n",
    "# Path to folder with CSVs\n",
    "data_dir = \"data/csv_files\"\n",
    "\n",
    "# Parameters for detecting suspicious data\n",
    "window_size = 14               # Rolling window length (days)\n",
    "std_threshold = 1e-5           # If rolling std is below this threshold, call it \"constant\"\n",
    "\n",
    "suspicious_files = []\n",
    "\n",
    "# Loop over each CSV file in the directory\n",
    "for filename in tqdm(os.listdir(data_dir)):\n",
    "    # Only process .csv files\n",
    "    if not filename.endswith(\".csv\"):\n",
    "        continue\n",
    "    \n",
    "    csv_path = os.path.join(data_dir, filename)\n",
    "    \n",
    "    # Read the CSV into a DataFrame\n",
    "    df = pd.read_csv(csv_path)\n",
    "    \n",
    "    # Make sure the 'discharge' column exists\n",
    "    if \"discharge\" not in df.columns:\n",
    "        continue\n",
    "    \n",
    "    # Compute the rolling standard deviation of 'discharge'\n",
    "    rolling_std = df[\"discharge\"].rolling(window_size).std()\n",
    "    \n",
    "    # If any segment’s std is below our threshold, flag as suspicious\n",
    "    if (rolling_std < std_threshold).any():\n",
    "        # Strip off the .csv extension and store just the base filename\n",
    "        base_name = os.path.splitext(filename)[0]\n",
    "        suspicious_files.append(base_name)\n",
    "\n",
    "# Write out the suspicious file names to a txt file\n",
    "with open(\"suspicious_files.txt\", \"w\") as f:\n",
    "    for name in suspicious_files:\n",
    "        f.write(name + \"\\n\")\n",
    "\n",
    "print(\"Check complete. Suspicious file names saved to 'suspicious_files.txt'.\")\n"
   ]
  },
  {
   "cell_type": "markdown",
   "metadata": {},
   "source": [
    "### Filter Out separately for each time period"
   ]
  },
  {
   "cell_type": "code",
   "execution_count": 4,
   "metadata": {},
   "outputs": [
    {
     "name": "stderr",
     "output_type": "stream",
     "text": [
      "100%|██████████| 976/976 [00:18<00:00, 52.57it/s]"
     ]
    },
    {
     "name": "stdout",
     "output_type": "stream",
     "text": [
      "Check complete. Suspicious file names saved in:\n",
      "  - suspicious_files_train.txt\n",
      "  - suspicious_files_val.txt\n",
      "  - suspicious_files_test.txt\n"
     ]
    },
    {
     "name": "stderr",
     "output_type": "stream",
     "text": [
      "\n"
     ]
    }
   ],
   "source": [
    "import os\n",
    "import pandas as pd\n",
    "from tqdm import tqdm\n",
    "\n",
    "# Path to folder with CSVs\n",
    "data_dir = \"data/csv_files\"\n",
    "\n",
    "# Define date ranges\n",
    "train_start_date = '1981-01-01'\n",
    "train_end_date   = '2000-12-31'\n",
    "val_start_date   = '2001-01-01'\n",
    "val_end_date     = '2010-12-31'\n",
    "test_start_date  = '2011-01-01'\n",
    "test_end_date    = '2022-12-31'\n",
    "\n",
    "# Parameters for detecting suspicious data\n",
    "window_size = 14               # Rolling window length (days)\n",
    "std_threshold = 1e-5           # If rolling std is below this threshold => suspicious\n",
    "\n",
    "# Lists to store suspicious files\n",
    "suspicious_train = []\n",
    "suspicious_val   = []\n",
    "suspicious_test  = []\n",
    "\n",
    "# Loop over each CSV file in the directory\n",
    "for filename in tqdm(os.listdir(data_dir)):\n",
    "    # Only process .csv files\n",
    "    if not filename.endswith(\".csv\"):\n",
    "        continue\n",
    "    \n",
    "    csv_path = os.path.join(data_dir, filename)\n",
    "    \n",
    "    # Read the CSV into a DataFrame\n",
    "    # Make sure the first column \"date\" gets parsed as datetime\n",
    "    df = pd.read_csv(csv_path, parse_dates=[\"date\"])\n",
    "    \n",
    "    # Check if the 'discharge' column exists\n",
    "    if \"discharge\" not in df.columns:\n",
    "        continue\n",
    "    \n",
    "    # -----------------------\n",
    "    # Training period check\n",
    "    # -----------------------\n",
    "    # Subset DataFrame to train date range\n",
    "    df_train = df[(df[\"date\"] >= train_start_date) & (df[\"date\"] <= train_end_date)].copy()\n",
    "    if not df_train.empty:\n",
    "        rolling_std_train = df_train[\"discharge\"].rolling(window_size).std()\n",
    "        if (rolling_std_train < std_threshold).any():\n",
    "            base_name = os.path.splitext(filename)[0]\n",
    "            suspicious_train.append(base_name)\n",
    "    \n",
    "    # -----------------------\n",
    "    # Validation period check\n",
    "    # -----------------------\n",
    "    # Subset DataFrame to validation date range\n",
    "    df_val = df[(df[\"date\"] >= val_start_date) & (df[\"date\"] <= val_end_date)].copy()\n",
    "    if not df_val.empty:\n",
    "        rolling_std_val = df_val[\"discharge\"].rolling(window_size).std()\n",
    "        if (rolling_std_val < std_threshold).any():\n",
    "            base_name = os.path.splitext(filename)[0]\n",
    "            suspicious_val.append(base_name)\n",
    "    \n",
    "    # -----------------------\n",
    "    # Test period check\n",
    "    # -----------------------\n",
    "    # Subset DataFrame to test date range\n",
    "    df_test = df[(df[\"date\"] >= test_start_date) & (df[\"date\"] <= test_end_date)].copy()\n",
    "    if not df_test.empty:\n",
    "        rolling_std_test = df_test[\"discharge\"].rolling(window_size).std()\n",
    "        if (rolling_std_test < std_threshold).any():\n",
    "            base_name = os.path.splitext(filename)[0]\n",
    "            suspicious_test.append(base_name)\n",
    "\n",
    "# ---------------------------------------------------\n",
    "# Write out suspicious file names to text files\n",
    "# ---------------------------------------------------\n",
    "with open(\"suspicious_files_train.txt\", \"w\") as f:\n",
    "    for name in suspicious_train:\n",
    "        f.write(name + \"\\n\")\n",
    "\n",
    "with open(\"suspicious_files_val.txt\", \"w\") as f:\n",
    "    for name in suspicious_val:\n",
    "        f.write(name + \"\\n\")\n",
    "\n",
    "with open(\"suspicious_files_test.txt\", \"w\") as f:\n",
    "    for name in suspicious_test:\n",
    "        f.write(name + \"\\n\")\n",
    "\n",
    "print(\"Check complete. Suspicious file names saved in:\")\n",
    "print(\"  - suspicious_files_train.txt\")\n",
    "print(\"  - suspicious_files_val.txt\")\n",
    "print(\"  - suspicious_files_test.txt\")\n"
   ]
  },
  {
   "cell_type": "code",
   "execution_count": 5,
   "metadata": {},
   "outputs": [
    {
     "name": "stdout",
     "output_type": "stream",
     "text": [
      "Non-suspicious filename lists saved to train.txt, validate.txt, and test.txt.\n"
     ]
    }
   ],
   "source": [
    "import os\n",
    "\n",
    "data_dir = \"data/csv_files\"\n",
    "\n",
    "# Read suspicious file lists\n",
    "with open(\"suspicious_files_train.txt\", \"r\") as f:\n",
    "    suspicious_train = set(line.strip() for line in f if line.strip())\n",
    "\n",
    "with open(\"suspicious_files_val.txt\", \"r\") as f:\n",
    "    suspicious_val = set(line.strip() for line in f if line.strip())\n",
    "\n",
    "with open(\"suspicious_files_test.txt\", \"r\") as f:\n",
    "    suspicious_test = set(line.strip() for line in f if line.strip())\n",
    "\n",
    "# Prepare lists to store the final (non-suspicious) filenames\n",
    "train_files = []\n",
    "val_files = []\n",
    "test_files = []\n",
    "\n",
    "# Loop over all CSVs in data_dir\n",
    "for filename in os.listdir(data_dir):\n",
    "    if not filename.endswith(\".csv\"):\n",
    "        continue\n",
    "    base_name = os.path.splitext(filename)[0]\n",
    "    \n",
    "    # If it's not suspicious for the training set, add to train_files\n",
    "    if base_name not in suspicious_train:\n",
    "        train_files.append(base_name)\n",
    "\n",
    "    # If it's not suspicious for the validation set, add to val_files\n",
    "    if base_name not in suspicious_val:\n",
    "        val_files.append(base_name)\n",
    "\n",
    "    # If it's not suspicious for the test set, add to test_files\n",
    "    if base_name not in suspicious_test:\n",
    "        test_files.append(base_name)\n",
    "\n",
    "# Write the final lists out to text files\n",
    "with open(\"train.txt\", \"w\") as f:\n",
    "    for name in train_files:\n",
    "        f.write(name + \"\\n\")\n",
    "\n",
    "with open(\"validate.txt\", \"w\") as f:\n",
    "    for name in val_files:\n",
    "        f.write(name + \"\\n\")\n",
    "\n",
    "with open(\"test.txt\", \"w\") as f:\n",
    "    for name in test_files:\n",
    "        f.write(name + \"\\n\")\n",
    "\n",
    "print(\"Non-suspicious filename lists saved to train.txt, validate.txt, and test.txt.\")\n"
   ]
  },
  {
   "cell_type": "markdown",
   "metadata": {},
   "source": [
    "### Confirm graphically"
   ]
  },
  {
   "cell_type": "code",
   "execution_count": 11,
   "metadata": {},
   "outputs": [
    {
     "data": {
      "image/png": "[encoded data removed]",
      "text/plain": [
       "<Figure size 1200x600 with 1 Axes>"
      ]
     },
     "metadata": {},
     "output_type": "display_data"
    }
   ],
   "source": [
    "import matplotlib.pyplot as plt\n",
    "\n",
    "def get_file_name(basin_id: str):\n",
    "    file_name = str(basin_id) + \".csv\"\n",
    "\n",
    "    return \"data/csv_files/\" + file_name \n",
    "\n",
    "csv_path = get_file_name(\"04176605\")\n",
    "\n",
    "# Read the CSV file with \"date\" as an index\n",
    "df = pd.read_csv(csv_path, index_col='date', parse_dates=True)\n",
    "\n",
    "# Plot the \"discharge\" column\n",
    "plt.figure(figsize=(12, 6))\n",
    "plt.plot(df['discharge'], label='Discharge')\n",
    "plt.xlabel('Date')\n",
    "plt.ylabel('Discharge')\n",
    "plt.title('Discharge Over Time')\n",
    "plt.legend()\n",
    "plt.grid(True)\n",
    "plt.show()"
   ]
  }
 ],
 "metadata": {
  "kernelspec": {
   "display_name": "Python 3",
   "language": "python",
   "name": "python3"
  },
  "language_info": {
   "codemirror_mode": {
    "name": "ipython",
    "version": 3
   },
   "file_extension": ".py",
   "mimetype": "text/x-python",
   "name": "python",
   "nbconvert_exporter": "python",
   "pygments_lexer": "ipython3",
   "version": "3.12.9"
  }
 },
 "nbformat": 4,
 "nbformat_minor": 2
}
