{
 "cells": [
  {
   "cell_type": "markdown",
   "metadata": {},
   "source": [
    "# Model Training"
   ]
  },
  {
   "cell_type": "code",
   "execution_count": 1,
   "metadata": {},
   "outputs": [],
   "source": [
    "import pickle\n",
    "from pathlib import Path\n",
    "\n",
    "import matplotlib.pyplot as plt\n",
    "import torch\n",
    "from neuralhydrology.evaluation import metrics\n",
    "from neuralhydrology.nh_run import start_run, eval_run\n",
    "import numpy as np"
   ]
  },
  {
   "cell_type": "code",
   "execution_count": null,
   "metadata": {},
   "outputs": [
    {
     "data": {
      "text/plain": [
       "'c:\\\\Users\\\\ybrot\\\\Desktop\\\\course\\\\UROP\\\\GAGEii_modeling'"
      ]
     },
     "execution_count": 2,
     "metadata": {},
     "output_type": "execute_result"
    }
   ],
   "source": [
    "import os\n",
    "\n",
    "os.getcwd()"
   ]
  },
  {
   "cell_type": "code",
   "execution_count": null,
   "metadata": {},
   "outputs": [
    {
     "name": "stdout",
     "output_type": "stream",
     "text": [
      "2025-02-18 10:49:22,317: Logging to c:\\Users\\ybrot\\Desktop\\course\\UROP\\GAGEii_modeling\\runs\\GAGEii-ALL_US_with_static_minmax_standardized_1802_104922\\output.log initialized.\n",
      "2025-02-18 10:49:22,318: ### Folder structure created at c:\\Users\\ybrot\\Desktop\\course\\UROP\\GAGEii_modeling\\runs\\GAGEii-ALL_US_with_static_minmax_standardized_1802_104922\n",
      "2025-02-18 10:49:22,318: ### Run configurations for GAGEii-ALL_US_with_static_minmax_standardized\n",
      "2025-02-18 10:49:22,319: experiment_name: GAGEii-ALL_US_with_static_minmax_standardized\n",
      "2025-02-18 10:49:22,319: run_dir: c:\\Users\\ybrot\\Desktop\\course\\UROP\\GAGEii_modeling\\runs\\GAGEii-ALL_US_with_static_minmax_standardized_1802_104922\n",
      "2025-02-18 10:49:22,319: train_basin_file: C:\\Users\\ybrot\\Desktop\\course\\UROP\\GAGEii_modeling\\basin_list\\US_basin_list.txt\n",
      "2025-02-18 10:49:22,320: validation_basin_file: C:\\Users\\ybrot\\Desktop\\course\\UROP\\GAGEii_modeling\\basin_list\\US_basin_list.txt\n",
      "2025-02-18 10:49:22,320: test_basin_file: C:\\Users\\ybrot\\Desktop\\course\\UROP\\GAGEii_modeling\\basin_list\\US_basin_list.txt\n",
      "2025-02-18 10:49:22,320: train_start_date: 1981-01-01 00:00:00\n",
      "2025-02-18 10:49:22,321: train_end_date: 2000-12-31 00:00:00\n",
      "2025-02-18 10:49:22,321: validation_start_date: 2001-01-01 00:00:00\n",
      "2025-02-18 10:49:22,321: validation_end_date: 2010-12-31 00:00:00\n",
      "2025-02-18 10:49:22,322: test_start_date: 2011-01-01 00:00:00\n",
      "2025-02-18 10:49:22,322: test_end_date: 2022-12-31 00:00:00\n",
      "2025-02-18 10:49:22,323: seed: None\n",
      "2025-02-18 10:49:22,323: device: cuda:0\n",
      "2025-02-18 10:49:22,324: validate_every: 1\n",
      "2025-02-18 10:49:22,324: validate_n_random_basins: 200\n",
      "2025-02-18 10:49:22,325: metrics: ['NSE']\n",
      "2025-02-18 10:49:22,325: model: cudalstm\n",
      "2025-02-18 10:49:22,325: head: regression\n",
      "2025-02-18 10:49:22,326: hidden_size: 256\n",
      "2025-02-18 10:49:22,326: initial_forget_bias: 3\n",
      "2025-02-18 10:49:22,327: output_dropout: 0.2\n",
      "2025-02-18 10:49:22,327: output_activation: linear\n",
      "2025-02-18 10:49:22,327: optimizer: Adam\n",
      "2025-02-18 10:49:22,328: loss: MSE\n",
      "2025-02-18 10:49:22,328: learning_rate: {0: 0.001, 50: 0.0005}\n",
      "2025-02-18 10:49:22,328: batch_size: 256\n",
      "2025-02-18 10:49:22,329: epochs: 100\n",
      "2025-02-18 10:49:22,329: clip_gradient_norm: 1\n",
      "2025-02-18 10:49:22,329: predict_last_n: 1\n",
      "2025-02-18 10:49:22,330: seq_length: 365\n",
      "2025-02-18 10:49:22,330: num_workers: 8\n",
      "2025-02-18 10:49:22,331: log_interval: 5\n",
      "2025-02-18 10:49:22,331: log_tensorboard: True\n",
      "2025-02-18 10:49:22,332: save_weights_every: 1\n",
      "2025-02-18 10:49:22,332: save_validation_results: True\n",
      "2025-02-18 10:49:22,333: data_dir: c:\\Users\\ybrot\\Desktop\\course\\UROP\\GAGEii_modeling\\data\n",
      "2025-02-18 10:49:22,333: dataset: generic\n",
      "2025-02-18 10:49:22,334: dynamic_inputs: ['dayl', 'prcp', 'srad', 'swe', 'tmax', 'tmin', 'vp']\n",
      "2025-02-18 10:49:22,334: static_attributes: ['ele_mt_sav', 'ele_mt_smn', 'ele_mt_smx', 'slp_dg_sav', 'area', 'area_fraction_used_for_aggregation', 'cly_pc_sav', 'slt_pc_sav', 'snd_pc_sav', 'soc_th_sav', 'gwt_cm_sav', 'for_pc_sse', 'wet_pc_sg1', 'wet_pc_sg2', 'crp_pc_sse', 'urb_pc_sse', 'pnv_pc_s04', 'pnv_pc_s05', 'pre_mm_syr', 'tmp_dc_syr', 'tmp_dc_smn', 'tmp_dc_smx', 'pet_mm_syr', 'ari_ix_sav', 'snw_pc_syr', 'snw_pc_smx', 'swc_pc_syr', 'wet_pc_s01', 'wet_pc_s03', 'pop_ct_usu', 'ppd_pk_sav', 'gdp_ud_sav', 'hdi_ix_sav']\n",
      "2025-02-18 10:49:22,334: target_variables: ['discharge']\n",
      "2025-02-18 10:49:22,335: number_of_basins: 399\n",
      "2025-02-18 10:49:22,335: train_dir: c:\\Users\\ybrot\\Desktop\\course\\UROP\\GAGEii_modeling\\runs\\GAGEii-ALL_US_with_static_minmax_standardized_1802_104922\\train_data\n",
      "2025-02-18 10:49:22,336: img_log_dir: c:\\Users\\ybrot\\Desktop\\course\\UROP\\GAGEii_modeling\\runs\\GAGEii-ALL_US_with_static_minmax_standardized_1802_104922\\img_log\n",
      "2025-02-18 10:49:22,347: ### Device cuda:0 will be used for training\n",
      "2025-02-18 10:49:22,390: Loading basin data into xarray data set.\n",
      "100%|██████████| 399/399 [00:05<00:00, 77.43it/s]\n",
      "2025-02-18 10:49:27,922: Create lookup table and convert to pytorch tensor\n",
      "100%|██████████| 399/399 [00:18<00:00, 21.20it/s]\n",
      "2025-02-18 10:49:46,744: These basins do not have a single valid sample in the train period: ['04021520', '04032000', '04039500', '04043140', '04043150', '04043238', '04043244', '04043275', '04072845', '04073970', '040851325', '04087070', '04087214', '04123500', '04153500', '04168580', '04179520', '04180988', '04182950', '04188337', '04188400', '04188433', '04188496', '04208460', '04220250', '04233286', '0423401815', '04237962', '04240503']\n",
      "# Epoch 1: 100%|██████████| 9465/9465 [04:07<00:00, 38.29it/s, Loss: 0.0410] \n",
      "2025-02-18 10:53:55,267: Epoch 1 average loss: avg_loss: 0.06827, avg_total_loss: 0.06827\n",
      "# Validation: 100%|██████████| 200/200 [00:42<00:00,  4.71it/s]\n",
      "2025-02-18 10:54:37,721: Stored metrics at c:\\Users\\ybrot\\Desktop\\course\\UROP\\GAGEii_modeling\\runs\\GAGEii-ALL_US_with_static_minmax_standardized_1802_104922\\validation\\model_epoch001\\validation_metrics.csv\n",
      "2025-02-18 10:54:37,744: Stored results at c:\\Users\\ybrot\\Desktop\\course\\UROP\\GAGEii_modeling\\runs\\GAGEii-ALL_US_with_static_minmax_standardized_1802_104922\\validation\\model_epoch001\\validation_results.p\n",
      "2025-02-18 10:54:37,746: Epoch 1 average validation loss: 0.05692 -- Median validation metrics: avg_loss: 0.05692, NSE: 0.56517\n",
      "# Epoch 2: 100%|██████████| 9465/9465 [04:05<00:00, 38.61it/s, Loss: 0.0326] \n",
      "2025-02-18 10:58:42,903: Epoch 2 average loss: avg_loss: 0.04165, avg_total_loss: 0.04165\n",
      "# Validation: 100%|██████████| 200/200 [00:37<00:00,  5.32it/s]\n",
      "2025-02-18 10:59:20,511: Stored metrics at c:\\Users\\ybrot\\Desktop\\course\\UROP\\GAGEii_modeling\\runs\\GAGEii-ALL_US_with_static_minmax_standardized_1802_104922\\validation\\model_epoch002\\validation_metrics.csv\n",
      "2025-02-18 10:59:20,532: Stored results at c:\\Users\\ybrot\\Desktop\\course\\UROP\\GAGEii_modeling\\runs\\GAGEii-ALL_US_with_static_minmax_standardized_1802_104922\\validation\\model_epoch002\\validation_results.p\n",
      "2025-02-18 10:59:20,534: Epoch 2 average validation loss: 0.07378 -- Median validation metrics: avg_loss: 0.07378, NSE: 0.62337\n",
      "# Epoch 3: 100%|██████████| 9465/9465 [04:05<00:00, 38.57it/s, Loss: 0.0215] \n",
      "2025-02-18 11:03:25,968: Epoch 3 average loss: avg_loss: 0.03197, avg_total_loss: 0.03197\n",
      "# Validation: 100%|██████████| 200/200 [00:36<00:00,  5.55it/s]\n",
      "2025-02-18 11:04:02,040: Stored metrics at c:\\Users\\ybrot\\Desktop\\course\\UROP\\GAGEii_modeling\\runs\\GAGEii-ALL_US_with_static_minmax_standardized_1802_104922\\validation\\model_epoch003\\validation_metrics.csv\n",
      "2025-02-18 11:04:02,061: Stored results at c:\\Users\\ybrot\\Desktop\\course\\UROP\\GAGEii_modeling\\runs\\GAGEii-ALL_US_with_static_minmax_standardized_1802_104922\\validation\\model_epoch003\\validation_results.p\n",
      "2025-02-18 11:04:02,063: Epoch 3 average validation loss: 0.12276 -- Median validation metrics: avg_loss: 0.12276, NSE: 0.63909\n",
      "# Epoch 4: 100%|██████████| 9465/9465 [04:06<00:00, 38.34it/s, Loss: 0.0188] \n",
      "2025-02-18 11:08:08,910: Epoch 4 average loss: avg_loss: 0.02675, avg_total_loss: 0.02675\n",
      "# Validation: 100%|██████████| 200/200 [00:34<00:00,  5.83it/s]\n",
      "2025-02-18 11:08:43,207: Stored metrics at c:\\Users\\ybrot\\Desktop\\course\\UROP\\GAGEii_modeling\\runs\\GAGEii-ALL_US_with_static_minmax_standardized_1802_104922\\validation\\model_epoch004\\validation_metrics.csv\n",
      "2025-02-18 11:08:43,226: Stored results at c:\\Users\\ybrot\\Desktop\\course\\UROP\\GAGEii_modeling\\runs\\GAGEii-ALL_US_with_static_minmax_standardized_1802_104922\\validation\\model_epoch004\\validation_results.p\n",
      "2025-02-18 11:08:43,229: Epoch 4 average validation loss: 0.07840 -- Median validation metrics: avg_loss: 0.07840, NSE: 0.68702\n",
      "# Epoch 5: 100%|██████████| 9465/9465 [04:07<00:00, 38.21it/s, Loss: 0.0168] \n",
      "2025-02-18 11:12:50,936: Epoch 5 average loss: avg_loss: 0.02362, avg_total_loss: 0.02362\n",
      "# Validation: 100%|██████████| 200/200 [00:34<00:00,  5.88it/s]\n",
      "2025-02-18 11:13:24,967: Stored metrics at c:\\Users\\ybrot\\Desktop\\course\\UROP\\GAGEii_modeling\\runs\\GAGEii-ALL_US_with_static_minmax_standardized_1802_104922\\validation\\model_epoch005\\validation_metrics.csv\n",
      "2025-02-18 11:13:24,988: Stored results at c:\\Users\\ybrot\\Desktop\\course\\UROP\\GAGEii_modeling\\runs\\GAGEii-ALL_US_with_static_minmax_standardized_1802_104922\\validation\\model_epoch005\\validation_results.p\n",
      "2025-02-18 11:13:24,991: Epoch 5 average validation loss: 0.11785 -- Median validation metrics: avg_loss: 0.11785, NSE: 0.60063\n",
      "# Epoch 6: 100%|██████████| 9465/9465 [04:07<00:00, 38.28it/s, Loss: 0.0125] \n",
      "2025-02-18 11:17:32,232: Epoch 6 average loss: avg_loss: 0.02141, avg_total_loss: 0.02141\n",
      "# Validation: 100%|██████████| 200/200 [00:32<00:00,  6.19it/s]\n",
      "2025-02-18 11:18:04,532: Stored metrics at c:\\Users\\ybrot\\Desktop\\course\\UROP\\GAGEii_modeling\\runs\\GAGEii-ALL_US_with_static_minmax_standardized_1802_104922\\validation\\model_epoch006\\validation_metrics.csv\n",
      "2025-02-18 11:18:04,554: Stored results at c:\\Users\\ybrot\\Desktop\\course\\UROP\\GAGEii_modeling\\runs\\GAGEii-ALL_US_with_static_minmax_standardized_1802_104922\\validation\\model_epoch006\\validation_results.p\n",
      "2025-02-18 11:18:04,556: Epoch 6 average validation loss: 0.11685 -- Median validation metrics: avg_loss: 0.11685, NSE: 0.64221\n",
      "# Epoch 7: 100%|██████████| 9465/9465 [04:06<00:00, 38.34it/s, Loss: 0.0201] \n",
      "2025-02-18 11:22:11,418: Epoch 7 average loss: avg_loss: 0.02043, avg_total_loss: 0.02043\n",
      "# Validation: 100%|██████████| 200/200 [00:32<00:00,  6.13it/s]\n",
      "2025-02-18 11:22:44,030: Stored metrics at c:\\Users\\ybrot\\Desktop\\course\\UROP\\GAGEii_modeling\\runs\\GAGEii-ALL_US_with_static_minmax_standardized_1802_104922\\validation\\model_epoch007\\validation_metrics.csv\n",
      "2025-02-18 11:22:44,051: Stored results at c:\\Users\\ybrot\\Desktop\\course\\UROP\\GAGEii_modeling\\runs\\GAGEii-ALL_US_with_static_minmax_standardized_1802_104922\\validation\\model_epoch007\\validation_results.p\n",
      "2025-02-18 11:22:44,053: Epoch 7 average validation loss: 0.09261 -- Median validation metrics: avg_loss: 0.09261, NSE: 0.67516\n",
      "# Epoch 8: 100%|██████████| 9465/9465 [04:05<00:00, 38.49it/s, Loss: 0.0151] \n",
      "2025-02-18 11:26:49,947: Epoch 8 average loss: avg_loss: 0.01890, avg_total_loss: 0.01890\n",
      "# Validation: 100%|██████████| 200/200 [00:32<00:00,  6.13it/s]\n",
      "2025-02-18 11:27:22,557: Stored metrics at c:\\Users\\ybrot\\Desktop\\course\\UROP\\GAGEii_modeling\\runs\\GAGEii-ALL_US_with_static_minmax_standardized_1802_104922\\validation\\model_epoch008\\validation_metrics.csv\n",
      "2025-02-18 11:27:22,582: Stored results at c:\\Users\\ybrot\\Desktop\\course\\UROP\\GAGEii_modeling\\runs\\GAGEii-ALL_US_with_static_minmax_standardized_1802_104922\\validation\\model_epoch008\\validation_results.p\n",
      "2025-02-18 11:27:22,585: Epoch 8 average validation loss: 0.11819 -- Median validation metrics: avg_loss: 0.11819, NSE: 0.63477\n",
      "# Epoch 9: 100%|██████████| 9465/9465 [04:08<00:00, 38.12it/s, Loss: 0.0125] \n",
      "2025-02-18 11:31:30,892: Epoch 9 average loss: avg_loss: 0.01828, avg_total_loss: 0.01828\n",
      "# Validation: 100%|██████████| 200/200 [00:32<00:00,  6.13it/s]\n",
      "2025-02-18 11:32:03,512: Stored metrics at c:\\Users\\ybrot\\Desktop\\course\\UROP\\GAGEii_modeling\\runs\\GAGEii-ALL_US_with_static_minmax_standardized_1802_104922\\validation\\model_epoch009\\validation_metrics.csv\n",
      "2025-02-18 11:32:03,533: Stored results at c:\\Users\\ybrot\\Desktop\\course\\UROP\\GAGEii_modeling\\runs\\GAGEii-ALL_US_with_static_minmax_standardized_1802_104922\\validation\\model_epoch009\\validation_results.p\n",
      "2025-02-18 11:32:03,535: Epoch 9 average validation loss: 0.07863 -- Median validation metrics: avg_loss: 0.07863, NSE: 0.67548\n",
      "# Epoch 10: 100%|██████████| 9465/9465 [04:07<00:00, 38.19it/s, Loss: 0.0307] \n",
      "2025-02-18 11:36:11,406: Epoch 10 average loss: avg_loss: 0.01761, avg_total_loss: 0.01761\n",
      "# Validation: 100%|██████████| 200/200 [00:33<00:00,  5.95it/s]\n",
      "2025-02-18 11:36:45,016: Stored metrics at c:\\Users\\ybrot\\Desktop\\course\\UROP\\GAGEii_modeling\\runs\\GAGEii-ALL_US_with_static_minmax_standardized_1802_104922\\validation\\model_epoch010\\validation_metrics.csv\n",
      "2025-02-18 11:36:45,036: Stored results at c:\\Users\\ybrot\\Desktop\\course\\UROP\\GAGEii_modeling\\runs\\GAGEii-ALL_US_with_static_minmax_standardized_1802_104922\\validation\\model_epoch010\\validation_results.p\n",
      "2025-02-18 11:36:45,039: Epoch 10 average validation loss: 0.07072 -- Median validation metrics: avg_loss: 0.07072, NSE: 0.60609\n",
      "# Epoch 11: 100%|██████████| 9465/9465 [04:06<00:00, 38.33it/s, Loss: 0.0235] \n",
      "2025-02-18 11:40:51,986: Epoch 11 average loss: avg_loss: 0.01711, avg_total_loss: 0.01711\n",
      "# Validation: 100%|██████████| 200/200 [00:33<00:00,  6.01it/s]\n",
      "2025-02-18 11:41:25,259: Stored metrics at c:\\Users\\ybrot\\Desktop\\course\\UROP\\GAGEii_modeling\\runs\\GAGEii-ALL_US_with_static_minmax_standardized_1802_104922\\validation\\model_epoch011\\validation_metrics.csv\n",
      "2025-02-18 11:41:25,279: Stored results at c:\\Users\\ybrot\\Desktop\\course\\UROP\\GAGEii_modeling\\runs\\GAGEii-ALL_US_with_static_minmax_standardized_1802_104922\\validation\\model_epoch011\\validation_results.p\n",
      "2025-02-18 11:41:25,281: Epoch 11 average validation loss: 0.06184 -- Median validation metrics: avg_loss: 0.06184, NSE: 0.60511\n",
      "# Epoch 12: 100%|██████████| 9465/9465 [04:05<00:00, 38.51it/s, Loss: 0.0181] \n",
      "2025-02-18 11:45:31,051: Epoch 12 average loss: avg_loss: 0.01662, avg_total_loss: 0.01662\n",
      "# Validation: 100%|██████████| 200/200 [00:33<00:00,  6.01it/s]\n",
      "2025-02-18 11:46:04,319: Stored metrics at c:\\Users\\ybrot\\Desktop\\course\\UROP\\GAGEii_modeling\\runs\\GAGEii-ALL_US_with_static_minmax_standardized_1802_104922\\validation\\model_epoch012\\validation_metrics.csv\n",
      "2025-02-18 11:46:04,341: Stored results at c:\\Users\\ybrot\\Desktop\\course\\UROP\\GAGEii_modeling\\runs\\GAGEii-ALL_US_with_static_minmax_standardized_1802_104922\\validation\\model_epoch012\\validation_results.p\n",
      "2025-02-18 11:46:04,344: Epoch 12 average validation loss: 0.11164 -- Median validation metrics: avg_loss: 0.11164, NSE: 0.64937\n",
      "# Epoch 13: 100%|██████████| 9465/9465 [04:05<00:00, 38.57it/s, Loss: 0.0157] \n",
      "2025-02-18 11:50:09,745: Epoch 13 average loss: avg_loss: 0.01603, avg_total_loss: 0.01603\n",
      "# Validation: 100%|██████████| 200/200 [00:33<00:00,  6.01it/s]\n",
      "2025-02-18 11:50:43,012: Stored metrics at c:\\Users\\ybrot\\Desktop\\course\\UROP\\GAGEii_modeling\\runs\\GAGEii-ALL_US_with_static_minmax_standardized_1802_104922\\validation\\model_epoch013\\validation_metrics.csv\n",
      "2025-02-18 11:50:43,034: Stored results at c:\\Users\\ybrot\\Desktop\\course\\UROP\\GAGEii_modeling\\runs\\GAGEii-ALL_US_with_static_minmax_standardized_1802_104922\\validation\\model_epoch013\\validation_results.p\n",
      "2025-02-18 11:50:43,036: Epoch 13 average validation loss: 0.08440 -- Median validation metrics: avg_loss: 0.08440, NSE: 0.61994\n",
      "# Epoch 14: 100%|██████████| 9465/9465 [04:05<00:00, 38.58it/s, Loss: 0.0104] \n",
      "2025-02-18 11:54:48,401: Epoch 14 average loss: avg_loss: 0.01550, avg_total_loss: 0.01550\n",
      "# Validation: 100%|██████████| 200/200 [00:33<00:00,  6.00it/s]\n",
      "2025-02-18 11:55:21,752: Stored metrics at c:\\Users\\ybrot\\Desktop\\course\\UROP\\GAGEii_modeling\\runs\\GAGEii-ALL_US_with_static_minmax_standardized_1802_104922\\validation\\model_epoch014\\validation_metrics.csv\n",
      "2025-02-18 11:55:21,772: Stored results at c:\\Users\\ybrot\\Desktop\\course\\UROP\\GAGEii_modeling\\runs\\GAGEii-ALL_US_with_static_minmax_standardized_1802_104922\\validation\\model_epoch014\\validation_results.p\n",
      "2025-02-18 11:55:21,774: Epoch 14 average validation loss: 0.06454 -- Median validation metrics: avg_loss: 0.06454, NSE: 0.73249\n",
      "# Epoch 15: 100%|██████████| 9465/9465 [04:06<00:00, 38.37it/s, Loss: 0.0141] \n",
      "2025-02-18 11:59:28,464: Epoch 15 average loss: avg_loss: 0.01516, avg_total_loss: 0.01516\n",
      "# Validation: 100%|██████████| 200/200 [00:32<00:00,  6.15it/s]\n",
      "2025-02-18 12:00:01,014: Stored metrics at c:\\Users\\ybrot\\Desktop\\course\\UROP\\GAGEii_modeling\\runs\\GAGEii-ALL_US_with_static_minmax_standardized_1802_104922\\validation\\model_epoch015\\validation_metrics.csv\n",
      "2025-02-18 12:00:01,037: Stored results at c:\\Users\\ybrot\\Desktop\\course\\UROP\\GAGEii_modeling\\runs\\GAGEii-ALL_US_with_static_minmax_standardized_1802_104922\\validation\\model_epoch015\\validation_results.p\n",
      "2025-02-18 12:00:01,039: Epoch 15 average validation loss: 0.11674 -- Median validation metrics: avg_loss: 0.11674, NSE: 0.67477\n",
      "# Epoch 16: 100%|██████████| 9465/9465 [03:59<00:00, 39.53it/s, Loss: 0.0131] \n",
      "2025-02-18 12:04:00,502: Epoch 16 average loss: avg_loss: 0.01504, avg_total_loss: 0.01504\n",
      "# Validation: 100%|██████████| 200/200 [00:32<00:00,  6.22it/s]\n",
      "2025-02-18 12:04:32,646: Stored metrics at c:\\Users\\ybrot\\Desktop\\course\\UROP\\GAGEii_modeling\\runs\\GAGEii-ALL_US_with_static_minmax_standardized_1802_104922\\validation\\model_epoch016\\validation_metrics.csv\n",
      "2025-02-18 12:04:32,667: Stored results at c:\\Users\\ybrot\\Desktop\\course\\UROP\\GAGEii_modeling\\runs\\GAGEii-ALL_US_with_static_minmax_standardized_1802_104922\\validation\\model_epoch016\\validation_results.p\n",
      "2025-02-18 12:04:32,669: Epoch 16 average validation loss: 0.09985 -- Median validation metrics: avg_loss: 0.09985, NSE: 0.66294\n",
      "# Epoch 17: 100%|██████████| 9465/9465 [04:02<00:00, 39.09it/s, Loss: 0.0196] \n",
      "2025-02-18 12:08:34,788: Epoch 17 average loss: avg_loss: 0.01476, avg_total_loss: 0.01476\n",
      "# Validation: 100%|██████████| 200/200 [00:32<00:00,  6.21it/s]\n",
      "2025-02-18 12:09:06,994: Stored metrics at c:\\Users\\ybrot\\Desktop\\course\\UROP\\GAGEii_modeling\\runs\\GAGEii-ALL_US_with_static_minmax_standardized_1802_104922\\validation\\model_epoch017\\validation_metrics.csv\n",
      "2025-02-18 12:09:07,015: Stored results at c:\\Users\\ybrot\\Desktop\\course\\UROP\\GAGEii_modeling\\runs\\GAGEii-ALL_US_with_static_minmax_standardized_1802_104922\\validation\\model_epoch017\\validation_results.p\n",
      "2025-02-18 12:09:07,017: Epoch 17 average validation loss: 0.06931 -- Median validation metrics: avg_loss: 0.06931, NSE: 0.64452\n",
      "# Epoch 18: 100%|██████████| 9465/9465 [04:02<00:00, 39.10it/s, Loss: 0.0114] \n",
      "2025-02-18 12:13:09,108: Epoch 18 average loss: avg_loss: 0.01494, avg_total_loss: 0.01494\n",
      "# Validation: 100%|██████████| 200/200 [00:33<00:00,  5.91it/s]\n",
      "2025-02-18 12:13:42,974: Stored metrics at c:\\Users\\ybrot\\Desktop\\course\\UROP\\GAGEii_modeling\\runs\\GAGEii-ALL_US_with_static_minmax_standardized_1802_104922\\validation\\model_epoch018\\validation_metrics.csv\n",
      "2025-02-18 12:13:42,997: Stored results at c:\\Users\\ybrot\\Desktop\\course\\UROP\\GAGEii_modeling\\runs\\GAGEii-ALL_US_with_static_minmax_standardized_1802_104922\\validation\\model_epoch018\\validation_results.p\n",
      "2025-02-18 12:13:42,999: Epoch 18 average validation loss: 0.10128 -- Median validation metrics: avg_loss: 0.10128, NSE: 0.66498\n",
      "# Epoch 19: 100%|██████████| 9465/9465 [03:59<00:00, 39.48it/s, Loss: 0.0151] \n",
      "2025-02-18 12:17:42,759: Epoch 19 average loss: avg_loss: 0.01454, avg_total_loss: 0.01454\n",
      "# Validation: 100%|██████████| 200/200 [00:31<00:00,  6.29it/s]\n",
      "2025-02-18 12:18:14,543: Stored metrics at c:\\Users\\ybrot\\Desktop\\course\\UROP\\GAGEii_modeling\\runs\\GAGEii-ALL_US_with_static_minmax_standardized_1802_104922\\validation\\model_epoch019\\validation_metrics.csv\n",
      "2025-02-18 12:18:14,564: Stored results at c:\\Users\\ybrot\\Desktop\\course\\UROP\\GAGEii_modeling\\runs\\GAGEii-ALL_US_with_static_minmax_standardized_1802_104922\\validation\\model_epoch019\\validation_results.p\n",
      "2025-02-18 12:18:14,566: Epoch 19 average validation loss: 0.11340 -- Median validation metrics: avg_loss: 0.11340, NSE: 0.65727\n",
      "# Epoch 20: 100%|██████████| 9465/9465 [03:59<00:00, 39.45it/s, Loss: 0.0099] \n",
      "2025-02-18 12:22:14,490: Epoch 20 average loss: avg_loss: 0.01412, avg_total_loss: 0.01412\n",
      "# Validation: 100%|██████████| 200/200 [00:32<00:00,  6.09it/s]\n",
      "2025-02-18 12:22:47,333: Stored metrics at c:\\Users\\ybrot\\Desktop\\course\\UROP\\GAGEii_modeling\\runs\\GAGEii-ALL_US_with_static_minmax_standardized_1802_104922\\validation\\model_epoch020\\validation_metrics.csv\n",
      "2025-02-18 12:22:47,355: Stored results at c:\\Users\\ybrot\\Desktop\\course\\UROP\\GAGEii_modeling\\runs\\GAGEii-ALL_US_with_static_minmax_standardized_1802_104922\\validation\\model_epoch020\\validation_results.p\n",
      "2025-02-18 12:22:47,357: Epoch 20 average validation loss: 0.07667 -- Median validation metrics: avg_loss: 0.07667, NSE: 0.62235\n",
      "# Epoch 21: 100%|██████████| 9465/9465 [04:01<00:00, 39.13it/s, Loss: 0.0136] \n",
      "2025-02-18 12:26:49,247: Epoch 21 average loss: avg_loss: 0.01398, avg_total_loss: 0.01398\n",
      "# Validation: 100%|██████████| 200/200 [00:32<00:00,  6.21it/s]\n",
      "2025-02-18 12:27:21,467: Stored metrics at c:\\Users\\ybrot\\Desktop\\course\\UROP\\GAGEii_modeling\\runs\\GAGEii-ALL_US_with_static_minmax_standardized_1802_104922\\validation\\model_epoch021\\validation_metrics.csv\n",
      "2025-02-18 12:27:21,487: Stored results at c:\\Users\\ybrot\\Desktop\\course\\UROP\\GAGEii_modeling\\runs\\GAGEii-ALL_US_with_static_minmax_standardized_1802_104922\\validation\\model_epoch021\\validation_results.p\n",
      "2025-02-18 12:27:21,490: Epoch 21 average validation loss: 0.13018 -- Median validation metrics: avg_loss: 0.13018, NSE: 0.67729\n",
      "# Epoch 22: 100%|██████████| 9465/9465 [04:04<00:00, 38.76it/s, Loss: 0.0119] \n",
      "2025-02-18 12:31:25,695: Epoch 22 average loss: avg_loss: 0.01403, avg_total_loss: 0.01403\n",
      "# Validation: 100%|██████████| 200/200 [00:32<00:00,  6.22it/s]\n",
      "2025-02-18 12:31:57,850: Stored metrics at c:\\Users\\ybrot\\Desktop\\course\\UROP\\GAGEii_modeling\\runs\\GAGEii-ALL_US_with_static_minmax_standardized_1802_104922\\validation\\model_epoch022\\validation_metrics.csv\n",
      "2025-02-18 12:31:57,870: Stored results at c:\\Users\\ybrot\\Desktop\\course\\UROP\\GAGEii_modeling\\runs\\GAGEii-ALL_US_with_static_minmax_standardized_1802_104922\\validation\\model_epoch022\\validation_results.p\n",
      "2025-02-18 12:31:57,873: Epoch 22 average validation loss: 0.06927 -- Median validation metrics: avg_loss: 0.06927, NSE: 0.69634\n",
      "# Epoch 23: 100%|██████████| 9465/9465 [04:02<00:00, 39.06it/s, Loss: 0.0129] \n",
      "2025-02-18 12:36:00,188: Epoch 23 average loss: avg_loss: 0.01352, avg_total_loss: 0.01352\n",
      "# Validation: 100%|██████████| 200/200 [00:32<00:00,  6.24it/s]\n",
      "2025-02-18 12:36:32,254: Stored metrics at c:\\Users\\ybrot\\Desktop\\course\\UROP\\GAGEii_modeling\\runs\\GAGEii-ALL_US_with_static_minmax_standardized_1802_104922\\validation\\model_epoch023\\validation_metrics.csv\n",
      "2025-02-18 12:36:32,274: Stored results at c:\\Users\\ybrot\\Desktop\\course\\UROP\\GAGEii_modeling\\runs\\GAGEii-ALL_US_with_static_minmax_standardized_1802_104922\\validation\\model_epoch023\\validation_results.p\n",
      "2025-02-18 12:36:32,276: Epoch 23 average validation loss: 0.08614 -- Median validation metrics: avg_loss: 0.08614, NSE: 0.64662\n",
      "# Epoch 24: 100%|██████████| 9465/9465 [04:00<00:00, 39.28it/s, Loss: 0.0124] \n",
      "2025-02-18 12:40:33,255: Epoch 24 average loss: avg_loss: 0.01403, avg_total_loss: 0.01403\n",
      "# Validation: 100%|██████████| 200/200 [00:32<00:00,  6.09it/s]\n",
      "2025-02-18 12:41:06,084: Stored metrics at c:\\Users\\ybrot\\Desktop\\course\\UROP\\GAGEii_modeling\\runs\\GAGEii-ALL_US_with_static_minmax_standardized_1802_104922\\validation\\model_epoch024\\validation_metrics.csv\n",
      "2025-02-18 12:41:06,109: Stored results at c:\\Users\\ybrot\\Desktop\\course\\UROP\\GAGEii_modeling\\runs\\GAGEii-ALL_US_with_static_minmax_standardized_1802_104922\\validation\\model_epoch024\\validation_results.p\n",
      "2025-02-18 12:41:06,112: Epoch 24 average validation loss: 0.07258 -- Median validation metrics: avg_loss: 0.07258, NSE: 0.62077\n",
      "# Epoch 25: 100%|██████████| 9465/9465 [04:02<00:00, 39.08it/s, Loss: 0.0098] \n",
      "2025-02-18 12:45:08,313: Epoch 25 average loss: avg_loss: 0.01338, avg_total_loss: 0.01338\n",
      "# Validation: 100%|██████████| 200/200 [00:33<00:00,  6.02it/s]\n",
      "2025-02-18 12:45:41,571: Stored metrics at c:\\Users\\ybrot\\Desktop\\course\\UROP\\GAGEii_modeling\\runs\\GAGEii-ALL_US_with_static_minmax_standardized_1802_104922\\validation\\model_epoch025\\validation_metrics.csv\n",
      "2025-02-18 12:45:41,598: Stored results at c:\\Users\\ybrot\\Desktop\\course\\UROP\\GAGEii_modeling\\runs\\GAGEii-ALL_US_with_static_minmax_standardized_1802_104922\\validation\\model_epoch025\\validation_results.p\n",
      "2025-02-18 12:45:41,601: Epoch 25 average validation loss: 0.10854 -- Median validation metrics: avg_loss: 0.10854, NSE: 0.66833\n",
      "# Epoch 26: 100%|██████████| 9465/9465 [04:03<00:00, 38.92it/s, Loss: 0.0102] \n",
      "2025-02-18 12:49:44,821: Epoch 26 average loss: avg_loss: 0.01360, avg_total_loss: 0.01360\n",
      "# Validation: 100%|██████████| 200/200 [00:32<00:00,  6.15it/s]\n",
      "2025-02-18 12:50:17,353: Stored metrics at c:\\Users\\ybrot\\Desktop\\course\\UROP\\GAGEii_modeling\\runs\\GAGEii-ALL_US_with_static_minmax_standardized_1802_104922\\validation\\model_epoch026\\validation_metrics.csv\n",
      "2025-02-18 12:50:17,374: Stored results at c:\\Users\\ybrot\\Desktop\\course\\UROP\\GAGEii_modeling\\runs\\GAGEii-ALL_US_with_static_minmax_standardized_1802_104922\\validation\\model_epoch026\\validation_results.p\n",
      "2025-02-18 12:50:17,376: Epoch 26 average validation loss: 0.08409 -- Median validation metrics: avg_loss: 0.08409, NSE: 0.63859\n",
      "# Epoch 27: 100%|██████████| 9465/9465 [04:02<00:00, 39.10it/s, Loss: 0.0112] \n",
      "2025-02-18 12:54:19,444: Epoch 27 average loss: avg_loss: 0.01378, avg_total_loss: 0.01378\n",
      "# Validation: 100%|██████████| 200/200 [00:31<00:00,  6.26it/s]\n",
      "2025-02-18 12:54:51,391: Stored metrics at c:\\Users\\ybrot\\Desktop\\course\\UROP\\GAGEii_modeling\\runs\\GAGEii-ALL_US_with_static_minmax_standardized_1802_104922\\validation\\model_epoch027\\validation_metrics.csv\n",
      "2025-02-18 12:54:51,411: Stored results at c:\\Users\\ybrot\\Desktop\\course\\UROP\\GAGEii_modeling\\runs\\GAGEii-ALL_US_with_static_minmax_standardized_1802_104922\\validation\\model_epoch027\\validation_results.p\n",
      "2025-02-18 12:54:51,413: Epoch 27 average validation loss: 0.11095 -- Median validation metrics: avg_loss: 0.11095, NSE: 0.69404\n",
      "# Epoch 28: 100%|██████████| 9465/9465 [04:01<00:00, 39.13it/s, Loss: 0.0097] \n",
      "2025-02-18 12:58:53,287: Epoch 28 average loss: avg_loss: 0.01307, avg_total_loss: 0.01307\n",
      "# Validation: 100%|██████████| 200/200 [00:33<00:00,  5.97it/s]\n",
      "2025-02-18 12:59:26,790: Stored metrics at c:\\Users\\ybrot\\Desktop\\course\\UROP\\GAGEii_modeling\\runs\\GAGEii-ALL_US_with_static_minmax_standardized_1802_104922\\validation\\model_epoch028\\validation_metrics.csv\n",
      "2025-02-18 12:59:26,816: Stored results at c:\\Users\\ybrot\\Desktop\\course\\UROP\\GAGEii_modeling\\runs\\GAGEii-ALL_US_with_static_minmax_standardized_1802_104922\\validation\\model_epoch028\\validation_results.p\n",
      "2025-02-18 12:59:26,819: Epoch 28 average validation loss: 0.12659 -- Median validation metrics: avg_loss: 0.12659, NSE: 0.63815\n",
      "# Epoch 29: 100%|██████████| 9465/9465 [03:59<00:00, 39.55it/s, Loss: 0.0084] \n",
      "2025-02-18 13:03:26,135: Epoch 29 average loss: avg_loss: 0.01292, avg_total_loss: 0.01292\n",
      "# Validation: 100%|██████████| 200/200 [00:32<00:00,  6.18it/s]\n",
      "2025-02-18 13:03:58,499: Stored metrics at c:\\Users\\ybrot\\Desktop\\course\\UROP\\GAGEii_modeling\\runs\\GAGEii-ALL_US_with_static_minmax_standardized_1802_104922\\validation\\model_epoch029\\validation_metrics.csv\n",
      "2025-02-18 13:03:58,522: Stored results at c:\\Users\\ybrot\\Desktop\\course\\UROP\\GAGEii_modeling\\runs\\GAGEii-ALL_US_with_static_minmax_standardized_1802_104922\\validation\\model_epoch029\\validation_results.p\n",
      "2025-02-18 13:03:58,524: Epoch 29 average validation loss: 0.06820 -- Median validation metrics: avg_loss: 0.06820, NSE: 0.68769\n",
      "# Epoch 30: 100%|██████████| 9465/9465 [04:03<00:00, 38.85it/s, Loss: 0.0114] \n",
      "2025-02-18 13:08:02,173: Epoch 30 average loss: avg_loss: 0.01351, avg_total_loss: 0.01351\n",
      "# Validation: 100%|██████████| 200/200 [00:33<00:00,  5.99it/s]\n",
      "2025-02-18 13:08:35,565: Stored metrics at c:\\Users\\ybrot\\Desktop\\course\\UROP\\GAGEii_modeling\\runs\\GAGEii-ALL_US_with_static_minmax_standardized_1802_104922\\validation\\model_epoch030\\validation_metrics.csv\n",
      "2025-02-18 13:08:35,587: Stored results at c:\\Users\\ybrot\\Desktop\\course\\UROP\\GAGEii_modeling\\runs\\GAGEii-ALL_US_with_static_minmax_standardized_1802_104922\\validation\\model_epoch030\\validation_results.p\n",
      "2025-02-18 13:08:35,589: Epoch 30 average validation loss: 0.11648 -- Median validation metrics: avg_loss: 0.11648, NSE: 0.62597\n",
      "# Epoch 31: 100%|██████████| 9465/9465 [04:03<00:00, 38.95it/s, Loss: 0.0111] \n",
      "2025-02-18 13:12:38,599: Epoch 31 average loss: avg_loss: 0.01295, avg_total_loss: 0.01295\n",
      "# Validation: 100%|██████████| 200/200 [00:31<00:00,  6.28it/s]\n",
      "2025-02-18 13:13:10,479: Stored metrics at c:\\Users\\ybrot\\Desktop\\course\\UROP\\GAGEii_modeling\\runs\\GAGEii-ALL_US_with_static_minmax_standardized_1802_104922\\validation\\model_epoch031\\validation_metrics.csv\n",
      "2025-02-18 13:13:10,499: Stored results at c:\\Users\\ybrot\\Desktop\\course\\UROP\\GAGEii_modeling\\runs\\GAGEii-ALL_US_with_static_minmax_standardized_1802_104922\\validation\\model_epoch031\\validation_results.p\n",
      "2025-02-18 13:13:10,502: Epoch 31 average validation loss: 0.05541 -- Median validation metrics: avg_loss: 0.05541, NSE: 0.70163\n",
      "# Epoch 32: 100%|██████████| 9465/9465 [04:00<00:00, 39.33it/s, Loss: 0.0104] \n",
      "2025-02-18 13:17:11,145: Epoch 32 average loss: avg_loss: 0.01410, avg_total_loss: 0.01410\n",
      "# Validation: 100%|██████████| 200/200 [00:33<00:00,  5.98it/s]\n",
      "2025-02-18 13:17:44,594: Stored metrics at c:\\Users\\ybrot\\Desktop\\course\\UROP\\GAGEii_modeling\\runs\\GAGEii-ALL_US_with_static_minmax_standardized_1802_104922\\validation\\model_epoch032\\validation_metrics.csv\n",
      "2025-02-18 13:17:44,614: Stored results at c:\\Users\\ybrot\\Desktop\\course\\UROP\\GAGEii_modeling\\runs\\GAGEii-ALL_US_with_static_minmax_standardized_1802_104922\\validation\\model_epoch032\\validation_results.p\n",
      "2025-02-18 13:17:44,616: Epoch 32 average validation loss: 0.09174 -- Median validation metrics: avg_loss: 0.09174, NSE: 0.68402\n",
      "# Epoch 33: 100%|██████████| 9465/9465 [04:01<00:00, 39.19it/s, Loss: 0.0168] \n",
      "2025-02-18 13:21:46,131: Epoch 33 average loss: avg_loss: 0.01299, avg_total_loss: 0.01299\n",
      "# Validation: 100%|██████████| 200/200 [00:31<00:00,  6.29it/s]\n",
      "2025-02-18 13:22:17,935: Stored metrics at c:\\Users\\ybrot\\Desktop\\course\\UROP\\GAGEii_modeling\\runs\\GAGEii-ALL_US_with_static_minmax_standardized_1802_104922\\validation\\model_epoch033\\validation_metrics.csv\n",
      "2025-02-18 13:22:17,957: Stored results at c:\\Users\\ybrot\\Desktop\\course\\UROP\\GAGEii_modeling\\runs\\GAGEii-ALL_US_with_static_minmax_standardized_1802_104922\\validation\\model_epoch033\\validation_results.p\n",
      "2025-02-18 13:22:17,959: Epoch 33 average validation loss: 0.11343 -- Median validation metrics: avg_loss: 0.11343, NSE: 0.65822\n",
      "# Epoch 34: 100%|██████████| 9465/9465 [04:01<00:00, 39.17it/s, Loss: 0.0119] \n",
      "2025-02-18 13:26:19,575: Epoch 34 average loss: avg_loss: 0.01266, avg_total_loss: 0.01266\n",
      "# Validation: 100%|██████████| 200/200 [00:32<00:00,  6.17it/s]\n",
      "2025-02-18 13:26:52,003: Stored metrics at c:\\Users\\ybrot\\Desktop\\course\\UROP\\GAGEii_modeling\\runs\\GAGEii-ALL_US_with_static_minmax_standardized_1802_104922\\validation\\model_epoch034\\validation_metrics.csv\n",
      "2025-02-18 13:26:52,024: Stored results at c:\\Users\\ybrot\\Desktop\\course\\UROP\\GAGEii_modeling\\runs\\GAGEii-ALL_US_with_static_minmax_standardized_1802_104922\\validation\\model_epoch034\\validation_results.p\n",
      "2025-02-18 13:26:52,026: Epoch 34 average validation loss: 0.05792 -- Median validation metrics: avg_loss: 0.05792, NSE: 0.65000\n",
      "# Epoch 35: 100%|██████████| 9465/9465 [04:02<00:00, 38.99it/s, Loss: 0.0099] \n",
      "2025-02-18 13:30:54,778: Epoch 35 average loss: avg_loss: 0.01257, avg_total_loss: 0.01257\n",
      "# Validation: 100%|██████████| 200/200 [00:33<00:00,  6.05it/s]\n",
      "2025-02-18 13:31:27,833: Stored metrics at c:\\Users\\ybrot\\Desktop\\course\\UROP\\GAGEii_modeling\\runs\\GAGEii-ALL_US_with_static_minmax_standardized_1802_104922\\validation\\model_epoch035\\validation_metrics.csv\n",
      "2025-02-18 13:31:27,854: Stored results at c:\\Users\\ybrot\\Desktop\\course\\UROP\\GAGEii_modeling\\runs\\GAGEii-ALL_US_with_static_minmax_standardized_1802_104922\\validation\\model_epoch035\\validation_results.p\n",
      "2025-02-18 13:31:27,856: Epoch 35 average validation loss: 0.08974 -- Median validation metrics: avg_loss: 0.08974, NSE: 0.64941\n",
      "# Epoch 36: 100%|██████████| 9465/9465 [04:01<00:00, 39.21it/s, Loss: 0.0127] \n",
      "2025-02-18 13:35:29,267: Epoch 36 average loss: avg_loss: 0.01324, avg_total_loss: 0.01324\n",
      "# Validation: 100%|██████████| 200/200 [00:32<00:00,  6.12it/s]\n",
      "2025-02-18 13:36:01,947: Stored metrics at c:\\Users\\ybrot\\Desktop\\course\\UROP\\GAGEii_modeling\\runs\\GAGEii-ALL_US_with_static_minmax_standardized_1802_104922\\validation\\model_epoch036\\validation_metrics.csv\n",
      "2025-02-18 13:36:01,969: Stored results at c:\\Users\\ybrot\\Desktop\\course\\UROP\\GAGEii_modeling\\runs\\GAGEii-ALL_US_with_static_minmax_standardized_1802_104922\\validation\\model_epoch036\\validation_results.p\n",
      "2025-02-18 13:36:01,971: Epoch 36 average validation loss: 0.07981 -- Median validation metrics: avg_loss: 0.07981, NSE: 0.65590\n",
      "# Epoch 37: 100%|██████████| 9465/9465 [04:01<00:00, 39.12it/s, Loss: 0.0091] \n",
      "2025-02-18 13:40:03,920: Epoch 37 average loss: avg_loss: 0.01231, avg_total_loss: 0.01231\n",
      "# Validation: 100%|██████████| 200/200 [00:32<00:00,  6.21it/s]\n",
      "2025-02-18 13:40:36,150: Stored metrics at c:\\Users\\ybrot\\Desktop\\course\\UROP\\GAGEii_modeling\\runs\\GAGEii-ALL_US_with_static_minmax_standardized_1802_104922\\validation\\model_epoch037\\validation_metrics.csv\n",
      "2025-02-18 13:40:36,171: Stored results at c:\\Users\\ybrot\\Desktop\\course\\UROP\\GAGEii_modeling\\runs\\GAGEii-ALL_US_with_static_minmax_standardized_1802_104922\\validation\\model_epoch037\\validation_results.p\n",
      "2025-02-18 13:40:36,174: Epoch 37 average validation loss: 0.11502 -- Median validation metrics: avg_loss: 0.11502, NSE: 0.68006\n",
      "# Epoch 38: 100%|██████████| 9465/9465 [04:01<00:00, 39.14it/s, Loss: 0.0085] \n",
      "2025-02-18 13:44:38,024: Epoch 38 average loss: avg_loss: 0.01257, avg_total_loss: 0.01257\n",
      "# Validation: 100%|██████████| 200/200 [00:32<00:00,  6.09it/s]\n",
      "2025-02-18 13:45:10,871: Stored metrics at c:\\Users\\ybrot\\Desktop\\course\\UROP\\GAGEii_modeling\\runs\\GAGEii-ALL_US_with_static_minmax_standardized_1802_104922\\validation\\model_epoch038\\validation_metrics.csv\n",
      "2025-02-18 13:45:10,892: Stored results at c:\\Users\\ybrot\\Desktop\\course\\UROP\\GAGEii_modeling\\runs\\GAGEii-ALL_US_with_static_minmax_standardized_1802_104922\\validation\\model_epoch038\\validation_results.p\n",
      "2025-02-18 13:45:10,894: Epoch 38 average validation loss: 0.06113 -- Median validation metrics: avg_loss: 0.06113, NSE: 0.66686\n",
      "# Epoch 39: 100%|██████████| 9465/9465 [04:02<00:00, 39.10it/s, Loss: 0.0106] \n",
      "2025-02-18 13:49:12,986: Epoch 39 average loss: avg_loss: 0.01300, avg_total_loss: 0.01300\n",
      "# Validation: 100%|██████████| 200/200 [00:31<00:00,  6.30it/s]\n",
      "2025-02-18 13:49:44,744: Stored metrics at c:\\Users\\ybrot\\Desktop\\course\\UROP\\GAGEii_modeling\\runs\\GAGEii-ALL_US_with_static_minmax_standardized_1802_104922\\validation\\model_epoch039\\validation_metrics.csv\n",
      "2025-02-18 13:49:44,765: Stored results at c:\\Users\\ybrot\\Desktop\\course\\UROP\\GAGEii_modeling\\runs\\GAGEii-ALL_US_with_static_minmax_standardized_1802_104922\\validation\\model_epoch039\\validation_results.p\n",
      "2025-02-18 13:49:44,767: Epoch 39 average validation loss: 0.10460 -- Median validation metrics: avg_loss: 0.10460, NSE: 0.66434\n",
      "# Epoch 40: 100%|██████████| 9465/9465 [04:00<00:00, 39.28it/s, Loss: 0.0102] \n",
      "2025-02-18 13:53:45,708: Epoch 40 average loss: avg_loss: 0.01393, avg_total_loss: 0.01393\n",
      "# Validation: 100%|██████████| 200/200 [00:33<00:00,  6.01it/s]\n",
      "2025-02-18 13:54:18,993: Stored metrics at c:\\Users\\ybrot\\Desktop\\course\\UROP\\GAGEii_modeling\\runs\\GAGEii-ALL_US_with_static_minmax_standardized_1802_104922\\validation\\model_epoch040\\validation_metrics.csv\n",
      "2025-02-18 13:54:19,015: Stored results at c:\\Users\\ybrot\\Desktop\\course\\UROP\\GAGEii_modeling\\runs\\GAGEii-ALL_US_with_static_minmax_standardized_1802_104922\\validation\\model_epoch040\\validation_results.p\n",
      "2025-02-18 13:54:19,017: Epoch 40 average validation loss: 0.07428 -- Median validation metrics: avg_loss: 0.07428, NSE: 0.68138\n",
      "# Epoch 41: 100%|██████████| 9465/9465 [04:01<00:00, 39.12it/s, Loss: 0.0119] \n",
      "2025-02-18 13:58:20,970: Epoch 41 average loss: avg_loss: 0.01247, avg_total_loss: 0.01247\n",
      "# Validation: 100%|██████████| 200/200 [00:32<00:00,  6.07it/s]\n",
      "2025-02-18 13:58:53,932: Stored metrics at c:\\Users\\ybrot\\Desktop\\course\\UROP\\GAGEii_modeling\\runs\\GAGEii-ALL_US_with_static_minmax_standardized_1802_104922\\validation\\model_epoch041\\validation_metrics.csv\n",
      "2025-02-18 13:58:53,956: Stored results at c:\\Users\\ybrot\\Desktop\\course\\UROP\\GAGEii_modeling\\runs\\GAGEii-ALL_US_with_static_minmax_standardized_1802_104922\\validation\\model_epoch041\\validation_results.p\n",
      "2025-02-18 13:58:53,958: Epoch 41 average validation loss: 0.12287 -- Median validation metrics: avg_loss: 0.12287, NSE: 0.66372\n",
      "# Epoch 42: 100%|██████████| 9465/9465 [04:03<00:00, 38.94it/s, Loss: 0.0129] \n",
      "2025-02-18 14:02:57,000: Epoch 42 average loss: avg_loss: 0.01298, avg_total_loss: 0.01298\n",
      "# Validation: 100%|██████████| 200/200 [00:31<00:00,  6.26it/s]\n",
      "2025-02-18 14:03:28,982: Stored metrics at c:\\Users\\ybrot\\Desktop\\course\\UROP\\GAGEii_modeling\\runs\\GAGEii-ALL_US_with_static_minmax_standardized_1802_104922\\validation\\model_epoch042\\validation_metrics.csv\n",
      "2025-02-18 14:03:29,003: Stored results at c:\\Users\\ybrot\\Desktop\\course\\UROP\\GAGEii_modeling\\runs\\GAGEii-ALL_US_with_static_minmax_standardized_1802_104922\\validation\\model_epoch042\\validation_results.p\n",
      "2025-02-18 14:03:29,005: Epoch 42 average validation loss: 0.12004 -- Median validation metrics: avg_loss: 0.12004, NSE: 0.64616\n",
      "# Epoch 43: 100%|██████████| 9465/9465 [04:03<00:00, 38.88it/s, Loss: 0.0128] \n",
      "2025-02-18 14:07:32,465: Epoch 43 average loss: avg_loss: 0.01319, avg_total_loss: 0.01319\n",
      "# Validation: 100%|██████████| 200/200 [00:32<00:00,  6.23it/s]\n",
      "2025-02-18 14:08:04,596: Stored metrics at c:\\Users\\ybrot\\Desktop\\course\\UROP\\GAGEii_modeling\\runs\\GAGEii-ALL_US_with_static_minmax_standardized_1802_104922\\validation\\model_epoch043\\validation_metrics.csv\n",
      "2025-02-18 14:08:04,617: Stored results at c:\\Users\\ybrot\\Desktop\\course\\UROP\\GAGEii_modeling\\runs\\GAGEii-ALL_US_with_static_minmax_standardized_1802_104922\\validation\\model_epoch043\\validation_results.p\n",
      "2025-02-18 14:08:04,619: Epoch 43 average validation loss: 0.06633 -- Median validation metrics: avg_loss: 0.06633, NSE: 0.64526\n",
      "# Epoch 44: 100%|██████████| 9465/9465 [04:01<00:00, 39.12it/s, Loss: 0.0132] \n",
      "2025-02-18 14:12:06,596: Epoch 44 average loss: avg_loss: 0.01338, avg_total_loss: 0.01338\n",
      "# Validation: 100%|██████████| 200/200 [00:32<00:00,  6.17it/s]\n",
      "2025-02-18 14:12:39,010: Stored metrics at c:\\Users\\ybrot\\Desktop\\course\\UROP\\GAGEii_modeling\\runs\\GAGEii-ALL_US_with_static_minmax_standardized_1802_104922\\validation\\model_epoch044\\validation_metrics.csv\n",
      "2025-02-18 14:12:39,031: Stored results at c:\\Users\\ybrot\\Desktop\\course\\UROP\\GAGEii_modeling\\runs\\GAGEii-ALL_US_with_static_minmax_standardized_1802_104922\\validation\\model_epoch044\\validation_results.p\n",
      "2025-02-18 14:12:39,033: Epoch 44 average validation loss: 0.09700 -- Median validation metrics: avg_loss: 0.09700, NSE: 0.70636\n",
      "# Epoch 45: 100%|██████████| 9465/9465 [03:59<00:00, 39.46it/s, Loss: 0.0171] \n",
      "2025-02-18 14:16:38,893: Epoch 45 average loss: avg_loss: 0.01378, avg_total_loss: 0.01378\n",
      "# Validation: 100%|██████████| 200/200 [00:32<00:00,  6.23it/s]\n",
      "2025-02-18 14:17:10,995: Stored metrics at c:\\Users\\ybrot\\Desktop\\course\\UROP\\GAGEii_modeling\\runs\\GAGEii-ALL_US_with_static_minmax_standardized_1802_104922\\validation\\model_epoch045\\validation_metrics.csv\n",
      "2025-02-18 14:17:11,016: Stored results at c:\\Users\\ybrot\\Desktop\\course\\UROP\\GAGEii_modeling\\runs\\GAGEii-ALL_US_with_static_minmax_standardized_1802_104922\\validation\\model_epoch045\\validation_results.p\n",
      "2025-02-18 14:17:11,018: Epoch 45 average validation loss: 0.07585 -- Median validation metrics: avg_loss: 0.07585, NSE: 0.68681\n",
      "# Epoch 46: 100%|██████████| 9465/9465 [04:01<00:00, 39.26it/s, Loss: 0.0109] \n",
      "2025-02-18 14:21:12,122: Epoch 46 average loss: avg_loss: 0.01405, avg_total_loss: 0.01405\n",
      "# Validation: 100%|██████████| 200/200 [00:32<00:00,  6.07it/s]\n",
      "2025-02-18 14:21:45,103: Stored metrics at c:\\Users\\ybrot\\Desktop\\course\\UROP\\GAGEii_modeling\\runs\\GAGEii-ALL_US_with_static_minmax_standardized_1802_104922\\validation\\model_epoch046\\validation_metrics.csv\n",
      "2025-02-18 14:21:45,124: Stored results at c:\\Users\\ybrot\\Desktop\\course\\UROP\\GAGEii_modeling\\runs\\GAGEii-ALL_US_with_static_minmax_standardized_1802_104922\\validation\\model_epoch046\\validation_results.p\n",
      "2025-02-18 14:21:45,127: Epoch 46 average validation loss: 0.10413 -- Median validation metrics: avg_loss: 0.10413, NSE: 0.66673\n",
      "# Epoch 47: 100%|██████████| 9465/9465 [04:02<00:00, 38.99it/s, Loss: 0.0094] \n",
      "2025-02-18 14:25:47,882: Epoch 47 average loss: avg_loss: 0.01269, avg_total_loss: 0.01269\n",
      "# Validation: 100%|██████████| 200/200 [00:33<00:00,  5.96it/s]\n",
      "2025-02-18 14:26:21,422: Stored metrics at c:\\Users\\ybrot\\Desktop\\course\\UROP\\GAGEii_modeling\\runs\\GAGEii-ALL_US_with_static_minmax_standardized_1802_104922\\validation\\model_epoch047\\validation_metrics.csv\n",
      "2025-02-18 14:26:21,443: Stored results at c:\\Users\\ybrot\\Desktop\\course\\UROP\\GAGEii_modeling\\runs\\GAGEii-ALL_US_with_static_minmax_standardized_1802_104922\\validation\\model_epoch047\\validation_results.p\n",
      "2025-02-18 14:26:21,445: Epoch 47 average validation loss: 0.08346 -- Median validation metrics: avg_loss: 0.08346, NSE: 0.67783\n",
      "# Epoch 48: 100%|██████████| 9465/9465 [04:00<00:00, 39.39it/s, Loss: 0.0100] \n",
      "2025-02-18 14:30:21,750: Epoch 48 average loss: avg_loss: 0.01360, avg_total_loss: 0.01360\n",
      "# Validation: 100%|██████████| 200/200 [00:32<00:00,  6.25it/s]\n",
      "2025-02-18 14:30:53,772: Stored metrics at c:\\Users\\ybrot\\Desktop\\course\\UROP\\GAGEii_modeling\\runs\\GAGEii-ALL_US_with_static_minmax_standardized_1802_104922\\validation\\model_epoch048\\validation_metrics.csv\n",
      "2025-02-18 14:30:53,793: Stored results at c:\\Users\\ybrot\\Desktop\\course\\UROP\\GAGEii_modeling\\runs\\GAGEii-ALL_US_with_static_minmax_standardized_1802_104922\\validation\\model_epoch048\\validation_results.p\n",
      "2025-02-18 14:30:53,795: Epoch 48 average validation loss: 0.06077 -- Median validation metrics: avg_loss: 0.06077, NSE: 0.68825\n",
      "# Epoch 49: 100%|██████████| 9465/9465 [04:01<00:00, 39.22it/s, Loss: 0.0088] \n",
      "2025-02-18 14:34:55,106: Epoch 49 average loss: avg_loss: 0.01275, avg_total_loss: 0.01275\n",
      "# Validation: 100%|██████████| 200/200 [00:32<00:00,  6.10it/s]\n",
      "2025-02-18 14:35:27,896: Stored metrics at c:\\Users\\ybrot\\Desktop\\course\\UROP\\GAGEii_modeling\\runs\\GAGEii-ALL_US_with_static_minmax_standardized_1802_104922\\validation\\model_epoch049\\validation_metrics.csv\n",
      "2025-02-18 14:35:27,916: Stored results at c:\\Users\\ybrot\\Desktop\\course\\UROP\\GAGEii_modeling\\runs\\GAGEii-ALL_US_with_static_minmax_standardized_1802_104922\\validation\\model_epoch049\\validation_results.p\n",
      "2025-02-18 14:35:27,918: Epoch 49 average validation loss: 0.08164 -- Median validation metrics: avg_loss: 0.08164, NSE: 0.65438\n",
      "2025-02-18 14:35:27,919: Setting learning rate to 0.0005\n",
      "# Epoch 50: 100%|██████████| 9465/9465 [04:00<00:00, 39.40it/s, Loss: 0.0135] \n",
      "2025-02-18 14:39:28,146: Epoch 50 average loss: avg_loss: 0.01020, avg_total_loss: 0.01020\n",
      "# Validation: 100%|██████████| 200/200 [00:32<00:00,  6.14it/s]\n",
      "2025-02-18 14:40:00,741: Stored metrics at c:\\Users\\ybrot\\Desktop\\course\\UROP\\GAGEii_modeling\\runs\\GAGEii-ALL_US_with_static_minmax_standardized_1802_104922\\validation\\model_epoch050\\validation_metrics.csv\n",
      "2025-02-18 14:40:00,761: Stored results at c:\\Users\\ybrot\\Desktop\\course\\UROP\\GAGEii_modeling\\runs\\GAGEii-ALL_US_with_static_minmax_standardized_1802_104922\\validation\\model_epoch050\\validation_results.p\n",
      "2025-02-18 14:40:00,763: Epoch 50 average validation loss: 0.07944 -- Median validation metrics: avg_loss: 0.07944, NSE: 0.67187\n",
      "# Epoch 51: 100%|██████████| 9465/9465 [04:01<00:00, 39.22it/s, Loss: 0.0282] \n",
      "2025-02-18 14:44:02,120: Epoch 51 average loss: avg_loss: 0.00948, avg_total_loss: 0.00948\n",
      "# Validation: 100%|██████████| 200/200 [00:33<00:00,  6.02it/s]\n",
      "2025-02-18 14:44:35,375: Stored metrics at c:\\Users\\ybrot\\Desktop\\course\\UROP\\GAGEii_modeling\\runs\\GAGEii-ALL_US_with_static_minmax_standardized_1802_104922\\validation\\model_epoch051\\validation_metrics.csv\n",
      "2025-02-18 14:44:35,396: Stored results at c:\\Users\\ybrot\\Desktop\\course\\UROP\\GAGEii_modeling\\runs\\GAGEii-ALL_US_with_static_minmax_standardized_1802_104922\\validation\\model_epoch051\\validation_results.p\n",
      "2025-02-18 14:44:35,398: Epoch 51 average validation loss: 0.11624 -- Median validation metrics: avg_loss: 0.11624, NSE: 0.67206\n",
      "# Epoch 52: 100%|██████████| 9465/9465 [04:03<00:00, 38.92it/s, Loss: 0.0096] \n",
      "2025-02-18 14:48:38,594: Epoch 52 average loss: avg_loss: 0.00945, avg_total_loss: 0.00945\n",
      "# Validation: 100%|██████████| 200/200 [00:32<00:00,  6.19it/s]\n",
      "2025-02-18 14:49:10,927: Stored metrics at c:\\Users\\ybrot\\Desktop\\course\\UROP\\GAGEii_modeling\\runs\\GAGEii-ALL_US_with_static_minmax_standardized_1802_104922\\validation\\model_epoch052\\validation_metrics.csv\n",
      "2025-02-18 14:49:10,949: Stored results at c:\\Users\\ybrot\\Desktop\\course\\UROP\\GAGEii_modeling\\runs\\GAGEii-ALL_US_with_static_minmax_standardized_1802_104922\\validation\\model_epoch052\\validation_results.p\n",
      "2025-02-18 14:49:10,951: Epoch 52 average validation loss: 0.09834 -- Median validation metrics: avg_loss: 0.09834, NSE: 0.68667\n",
      "# Epoch 53: 100%|██████████| 9465/9465 [04:01<00:00, 39.23it/s, Loss: 0.0055] \n",
      "2025-02-18 14:53:12,233: Epoch 53 average loss: avg_loss: 0.00927, avg_total_loss: 0.00927\n",
      "# Validation: 100%|██████████| 200/200 [00:32<00:00,  6.18it/s]\n",
      "2025-02-18 14:53:44,608: Stored metrics at c:\\Users\\ybrot\\Desktop\\course\\UROP\\GAGEii_modeling\\runs\\GAGEii-ALL_US_with_static_minmax_standardized_1802_104922\\validation\\model_epoch053\\validation_metrics.csv\n",
      "2025-02-18 14:53:44,630: Stored results at c:\\Users\\ybrot\\Desktop\\course\\UROP\\GAGEii_modeling\\runs\\GAGEii-ALL_US_with_static_minmax_standardized_1802_104922\\validation\\model_epoch053\\validation_results.p\n",
      "2025-02-18 14:53:44,632: Epoch 53 average validation loss: 0.11090 -- Median validation metrics: avg_loss: 0.11090, NSE: 0.69171\n",
      "# Epoch 54: 100%|██████████| 9465/9465 [04:02<00:00, 39.11it/s, Loss: 0.0067] \n",
      "2025-02-18 14:57:46,652: Epoch 54 average loss: avg_loss: 0.00910, avg_total_loss: 0.00910\n",
      "# Validation: 100%|██████████| 200/200 [00:32<00:00,  6.07it/s]\n",
      "2025-02-18 14:58:19,608: Stored metrics at c:\\Users\\ybrot\\Desktop\\course\\UROP\\GAGEii_modeling\\runs\\GAGEii-ALL_US_with_static_minmax_standardized_1802_104922\\validation\\model_epoch054\\validation_metrics.csv\n",
      "2025-02-18 14:58:19,629: Stored results at c:\\Users\\ybrot\\Desktop\\course\\UROP\\GAGEii_modeling\\runs\\GAGEii-ALL_US_with_static_minmax_standardized_1802_104922\\validation\\model_epoch054\\validation_results.p\n",
      "2025-02-18 14:58:19,631: Epoch 54 average validation loss: 0.09023 -- Median validation metrics: avg_loss: 0.09023, NSE: 0.71288\n",
      "# Epoch 55: 100%|██████████| 9465/9465 [04:02<00:00, 39.01it/s, Loss: 0.0059] \n",
      "2025-02-18 15:02:22,261: Epoch 55 average loss: avg_loss: 0.00894, avg_total_loss: 0.00894\n",
      "# Validation: 100%|██████████| 200/200 [00:31<00:00,  6.28it/s]\n",
      "2025-02-18 15:02:54,097: Stored metrics at c:\\Users\\ybrot\\Desktop\\course\\UROP\\GAGEii_modeling\\runs\\GAGEii-ALL_US_with_static_minmax_standardized_1802_104922\\validation\\model_epoch055\\validation_metrics.csv\n",
      "2025-02-18 15:02:54,127: Stored results at c:\\Users\\ybrot\\Desktop\\course\\UROP\\GAGEii_modeling\\runs\\GAGEii-ALL_US_with_static_minmax_standardized_1802_104922\\validation\\model_epoch055\\validation_results.p\n",
      "2025-02-18 15:02:54,129: Epoch 55 average validation loss: 0.06132 -- Median validation metrics: avg_loss: 0.06132, NSE: 0.57565\n",
      "# Epoch 56: 100%|██████████| 9465/9465 [04:01<00:00, 39.20it/s, Loss: 0.0068] \n",
      "2025-02-18 15:06:55,606: Epoch 56 average loss: avg_loss: 0.00881, avg_total_loss: 0.00881\n",
      "# Validation: 100%|██████████| 200/200 [00:32<00:00,  6.21it/s]\n",
      "2025-02-18 15:07:27,812: Stored metrics at c:\\Users\\ybrot\\Desktop\\course\\UROP\\GAGEii_modeling\\runs\\GAGEii-ALL_US_with_static_minmax_standardized_1802_104922\\validation\\model_epoch056\\validation_metrics.csv\n",
      "2025-02-18 15:07:27,833: Stored results at c:\\Users\\ybrot\\Desktop\\course\\UROP\\GAGEii_modeling\\runs\\GAGEii-ALL_US_with_static_minmax_standardized_1802_104922\\validation\\model_epoch056\\validation_results.p\n",
      "2025-02-18 15:07:27,834: Epoch 56 average validation loss: 0.06902 -- Median validation metrics: avg_loss: 0.06902, NSE: 0.69616\n",
      "# Epoch 57: 100%|██████████| 9465/9465 [04:01<00:00, 39.26it/s, Loss: 0.0130] \n",
      "2025-02-18 15:11:28,924: Epoch 57 average loss: avg_loss: 0.00880, avg_total_loss: 0.00880\n",
      "# Validation: 100%|██████████| 200/200 [00:31<00:00,  6.31it/s]\n",
      "2025-02-18 15:12:00,641: Stored metrics at c:\\Users\\ybrot\\Desktop\\course\\UROP\\GAGEii_modeling\\runs\\GAGEii-ALL_US_with_static_minmax_standardized_1802_104922\\validation\\model_epoch057\\validation_metrics.csv\n",
      "2025-02-18 15:12:00,663: Stored results at c:\\Users\\ybrot\\Desktop\\course\\UROP\\GAGEii_modeling\\runs\\GAGEii-ALL_US_with_static_minmax_standardized_1802_104922\\validation\\model_epoch057\\validation_results.p\n",
      "2025-02-18 15:12:00,665: Epoch 57 average validation loss: 0.06354 -- Median validation metrics: avg_loss: 0.06354, NSE: 0.67150\n",
      "# Epoch 58: 100%|██████████| 9465/9465 [04:00<00:00, 39.30it/s, Loss: 0.0088] \n",
      "2025-02-18 15:16:01,502: Epoch 58 average loss: avg_loss: 0.00896, avg_total_loss: 0.00896\n",
      "# Validation: 100%|██████████| 200/200 [00:31<00:00,  6.37it/s]\n",
      "2025-02-18 15:16:32,896: Stored metrics at c:\\Users\\ybrot\\Desktop\\course\\UROP\\GAGEii_modeling\\runs\\GAGEii-ALL_US_with_static_minmax_standardized_1802_104922\\validation\\model_epoch058\\validation_metrics.csv\n",
      "2025-02-18 15:16:32,916: Stored results at c:\\Users\\ybrot\\Desktop\\course\\UROP\\GAGEii_modeling\\runs\\GAGEii-ALL_US_with_static_minmax_standardized_1802_104922\\validation\\model_epoch058\\validation_results.p\n",
      "2025-02-18 15:16:32,918: Epoch 58 average validation loss: 0.09960 -- Median validation metrics: avg_loss: 0.09960, NSE: 0.64654\n",
      "# Epoch 59: 100%|██████████| 9465/9465 [04:02<00:00, 39.06it/s, Loss: 0.0078] \n",
      "2025-02-18 15:20:35,234: Epoch 59 average loss: avg_loss: 0.00856, avg_total_loss: 0.00856\n",
      "# Validation: 100%|██████████| 200/200 [00:32<00:00,  6.06it/s]\n",
      "2025-02-18 15:21:08,228: Stored metrics at c:\\Users\\ybrot\\Desktop\\course\\UROP\\GAGEii_modeling\\runs\\GAGEii-ALL_US_with_static_minmax_standardized_1802_104922\\validation\\model_epoch059\\validation_metrics.csv\n",
      "2025-02-18 15:21:08,264: Stored results at c:\\Users\\ybrot\\Desktop\\course\\UROP\\GAGEii_modeling\\runs\\GAGEii-ALL_US_with_static_minmax_standardized_1802_104922\\validation\\model_epoch059\\validation_results.p\n",
      "2025-02-18 15:21:08,267: Epoch 59 average validation loss: 0.07044 -- Median validation metrics: avg_loss: 0.07044, NSE: 0.67322\n",
      "# Epoch 60: 100%|██████████| 9465/9465 [04:03<00:00, 38.93it/s, Loss: 0.0131] \n",
      "2025-02-18 15:25:11,368: Epoch 60 average loss: avg_loss: 0.00855, avg_total_loss: 0.00855\n",
      "# Validation: 100%|██████████| 200/200 [00:31<00:00,  6.29it/s]\n",
      "2025-02-18 15:25:43,191: Stored metrics at c:\\Users\\ybrot\\Desktop\\course\\UROP\\GAGEii_modeling\\runs\\GAGEii-ALL_US_with_static_minmax_standardized_1802_104922\\validation\\model_epoch060\\validation_metrics.csv\n",
      "2025-02-18 15:25:43,213: Stored results at c:\\Users\\ybrot\\Desktop\\course\\UROP\\GAGEii_modeling\\runs\\GAGEii-ALL_US_with_static_minmax_standardized_1802_104922\\validation\\model_epoch060\\validation_results.p\n",
      "2025-02-18 15:25:43,215: Epoch 60 average validation loss: 0.05310 -- Median validation metrics: avg_loss: 0.05310, NSE: 0.72668\n",
      "# Epoch 61: 100%|██████████| 9465/9465 [04:00<00:00, 39.33it/s, Loss: 0.0069] \n",
      "2025-02-18 15:29:43,849: Epoch 61 average loss: avg_loss: 0.00865, avg_total_loss: 0.00865\n",
      "# Validation: 100%|██████████| 200/200 [00:32<00:00,  6.08it/s]\n",
      "2025-02-18 15:30:16,745: Stored metrics at c:\\Users\\ybrot\\Desktop\\course\\UROP\\GAGEii_modeling\\runs\\GAGEii-ALL_US_with_static_minmax_standardized_1802_104922\\validation\\model_epoch061\\validation_metrics.csv\n",
      "2025-02-18 15:30:16,765: Stored results at c:\\Users\\ybrot\\Desktop\\course\\UROP\\GAGEii_modeling\\runs\\GAGEii-ALL_US_with_static_minmax_standardized_1802_104922\\validation\\model_epoch061\\validation_results.p\n",
      "2025-02-18 15:30:16,768: Epoch 61 average validation loss: 0.12054 -- Median validation metrics: avg_loss: 0.12054, NSE: 0.64355\n",
      "# Epoch 62: 100%|██████████| 9465/9465 [04:03<00:00, 38.93it/s, Loss: 0.0100] \n",
      "2025-02-18 15:34:19,876: Epoch 62 average loss: avg_loss: 0.00847, avg_total_loss: 0.00847\n",
      "# Validation: 100%|██████████| 200/200 [00:32<00:00,  6.16it/s]\n",
      "2025-02-18 15:34:52,374: Stored metrics at c:\\Users\\ybrot\\Desktop\\course\\UROP\\GAGEii_modeling\\runs\\GAGEii-ALL_US_with_static_minmax_standardized_1802_104922\\validation\\model_epoch062\\validation_metrics.csv\n",
      "2025-02-18 15:34:52,394: Stored results at c:\\Users\\ybrot\\Desktop\\course\\UROP\\GAGEii_modeling\\runs\\GAGEii-ALL_US_with_static_minmax_standardized_1802_104922\\validation\\model_epoch062\\validation_results.p\n",
      "2025-02-18 15:34:52,396: Epoch 62 average validation loss: 0.07239 -- Median validation metrics: avg_loss: 0.07239, NSE: 0.67529\n",
      "# Epoch 63: 100%|██████████| 9465/9465 [04:04<00:00, 38.74it/s, Loss: 0.0179] \n",
      "2025-02-18 15:38:56,699: Epoch 63 average loss: avg_loss: 0.00853, avg_total_loss: 0.00853\n",
      "# Validation: 100%|██████████| 200/200 [00:31<00:00,  6.32it/s]\n",
      "2025-02-18 15:39:28,366: Stored metrics at c:\\Users\\ybrot\\Desktop\\course\\UROP\\GAGEii_modeling\\runs\\GAGEii-ALL_US_with_static_minmax_standardized_1802_104922\\validation\\model_epoch063\\validation_metrics.csv\n",
      "2025-02-18 15:39:28,387: Stored results at c:\\Users\\ybrot\\Desktop\\course\\UROP\\GAGEii_modeling\\runs\\GAGEii-ALL_US_with_static_minmax_standardized_1802_104922\\validation\\model_epoch063\\validation_results.p\n",
      "2025-02-18 15:39:28,389: Epoch 63 average validation loss: 0.07260 -- Median validation metrics: avg_loss: 0.07260, NSE: 0.65367\n",
      "# Epoch 64: 100%|██████████| 9465/9465 [04:02<00:00, 39.09it/s, Loss: 0.0089] \n",
      "2025-02-18 15:43:30,517: Epoch 64 average loss: avg_loss: 0.00835, avg_total_loss: 0.00835\n",
      "# Validation: 100%|██████████| 200/200 [00:31<00:00,  6.25it/s]\n",
      "2025-02-18 15:44:02,511: Stored metrics at c:\\Users\\ybrot\\Desktop\\course\\UROP\\GAGEii_modeling\\runs\\GAGEii-ALL_US_with_static_minmax_standardized_1802_104922\\validation\\model_epoch064\\validation_metrics.csv\n",
      "2025-02-18 15:44:02,531: Stored results at c:\\Users\\ybrot\\Desktop\\course\\UROP\\GAGEii_modeling\\runs\\GAGEii-ALL_US_with_static_minmax_standardized_1802_104922\\validation\\model_epoch064\\validation_results.p\n",
      "2025-02-18 15:44:02,533: Epoch 64 average validation loss: 0.07884 -- Median validation metrics: avg_loss: 0.07884, NSE: 0.69898\n",
      "# Epoch 65: 100%|██████████| 9465/9465 [04:02<00:00, 39.04it/s, Loss: 0.0082] \n",
      "2025-02-18 15:48:05,005: Epoch 65 average loss: avg_loss: 0.00829, avg_total_loss: 0.00829\n",
      "# Validation: 100%|██████████| 200/200 [00:33<00:00,  5.97it/s]\n",
      "2025-02-18 15:48:38,536: Stored metrics at c:\\Users\\ybrot\\Desktop\\course\\UROP\\GAGEii_modeling\\runs\\GAGEii-ALL_US_with_static_minmax_standardized_1802_104922\\validation\\model_epoch065\\validation_metrics.csv\n",
      "2025-02-18 15:48:38,557: Stored results at c:\\Users\\ybrot\\Desktop\\course\\UROP\\GAGEii_modeling\\runs\\GAGEii-ALL_US_with_static_minmax_standardized_1802_104922\\validation\\model_epoch065\\validation_results.p\n",
      "2025-02-18 15:48:38,559: Epoch 65 average validation loss: 0.05949 -- Median validation metrics: avg_loss: 0.05949, NSE: 0.63256\n",
      "# Epoch 66: 100%|██████████| 9465/9465 [04:02<00:00, 39.02it/s, Loss: 0.0121] \n",
      "2025-02-18 15:52:41,111: Epoch 66 average loss: avg_loss: 0.00835, avg_total_loss: 0.00835\n",
      "# Validation: 100%|██████████| 200/200 [00:32<00:00,  6.20it/s]\n",
      "2025-02-18 15:53:13,355: Stored metrics at c:\\Users\\ybrot\\Desktop\\course\\UROP\\GAGEii_modeling\\runs\\GAGEii-ALL_US_with_static_minmax_standardized_1802_104922\\validation\\model_epoch066\\validation_metrics.csv\n",
      "2025-02-18 15:53:13,375: Stored results at c:\\Users\\ybrot\\Desktop\\course\\UROP\\GAGEii_modeling\\runs\\GAGEii-ALL_US_with_static_minmax_standardized_1802_104922\\validation\\model_epoch066\\validation_results.p\n",
      "2025-02-18 15:53:13,378: Epoch 66 average validation loss: 0.06441 -- Median validation metrics: avg_loss: 0.06441, NSE: 0.71648\n",
      "# Epoch 67: 100%|██████████| 9465/9465 [04:01<00:00, 39.25it/s, Loss: 0.0076] \n",
      "2025-02-18 15:57:14,519: Epoch 67 average loss: avg_loss: 0.00816, avg_total_loss: 0.00816\n",
      "# Validation: 100%|██████████| 200/200 [00:32<00:00,  6.09it/s]\n",
      "2025-02-18 15:57:47,363: Stored metrics at c:\\Users\\ybrot\\Desktop\\course\\UROP\\GAGEii_modeling\\runs\\GAGEii-ALL_US_with_static_minmax_standardized_1802_104922\\validation\\model_epoch067\\validation_metrics.csv\n",
      "2025-02-18 15:57:47,384: Stored results at c:\\Users\\ybrot\\Desktop\\course\\UROP\\GAGEii_modeling\\runs\\GAGEii-ALL_US_with_static_minmax_standardized_1802_104922\\validation\\model_epoch067\\validation_results.p\n",
      "2025-02-18 15:57:47,386: Epoch 67 average validation loss: 0.11624 -- Median validation metrics: avg_loss: 0.11624, NSE: 0.66862\n",
      "# Epoch 68: 100%|██████████| 9465/9465 [04:03<00:00, 38.89it/s, Loss: 0.0080] \n",
      "2025-02-18 16:01:50,795: Epoch 68 average loss: avg_loss: 0.00818, avg_total_loss: 0.00818\n",
      "# Validation: 100%|██████████| 200/200 [00:33<00:00,  6.05it/s]\n",
      "2025-02-18 16:02:23,855: Stored metrics at c:\\Users\\ybrot\\Desktop\\course\\UROP\\GAGEii_modeling\\runs\\GAGEii-ALL_US_with_static_minmax_standardized_1802_104922\\validation\\model_epoch068\\validation_metrics.csv\n",
      "2025-02-18 16:02:23,875: Stored results at c:\\Users\\ybrot\\Desktop\\course\\UROP\\GAGEii_modeling\\runs\\GAGEii-ALL_US_with_static_minmax_standardized_1802_104922\\validation\\model_epoch068\\validation_results.p\n",
      "2025-02-18 16:02:23,877: Epoch 68 average validation loss: 0.07668 -- Median validation metrics: avg_loss: 0.07668, NSE: 0.68873\n",
      "# Epoch 69: 100%|██████████| 9465/9465 [04:03<00:00, 38.81it/s, Loss: 0.0169] \n",
      "2025-02-18 16:06:27,758: Epoch 69 average loss: avg_loss: 0.00831, avg_total_loss: 0.00831\n",
      "# Validation: 100%|██████████| 200/200 [00:33<00:00,  5.91it/s]\n",
      "2025-02-18 16:07:01,634: Stored metrics at c:\\Users\\ybrot\\Desktop\\course\\UROP\\GAGEii_modeling\\runs\\GAGEii-ALL_US_with_static_minmax_standardized_1802_104922\\validation\\model_epoch069\\validation_metrics.csv\n",
      "2025-02-18 16:07:01,656: Stored results at c:\\Users\\ybrot\\Desktop\\course\\UROP\\GAGEii_modeling\\runs\\GAGEii-ALL_US_with_static_minmax_standardized_1802_104922\\validation\\model_epoch069\\validation_results.p\n",
      "2025-02-18 16:07:01,659: Epoch 69 average validation loss: 0.07759 -- Median validation metrics: avg_loss: 0.07759, NSE: 0.65495\n",
      "# Epoch 70: 100%|██████████| 9465/9465 [04:01<00:00, 39.17it/s, Loss: 0.0107] \n",
      "2025-02-18 16:11:03,300: Epoch 70 average loss: avg_loss: 0.00834, avg_total_loss: 0.00834\n",
      "# Validation: 100%|██████████| 200/200 [00:32<00:00,  6.13it/s]\n",
      "2025-02-18 16:11:35,960: Stored metrics at c:\\Users\\ybrot\\Desktop\\course\\UROP\\GAGEii_modeling\\runs\\GAGEii-ALL_US_with_static_minmax_standardized_1802_104922\\validation\\model_epoch070\\validation_metrics.csv\n",
      "2025-02-18 16:11:35,983: Stored results at c:\\Users\\ybrot\\Desktop\\course\\UROP\\GAGEii_modeling\\runs\\GAGEii-ALL_US_with_static_minmax_standardized_1802_104922\\validation\\model_epoch070\\validation_results.p\n",
      "2025-02-18 16:11:35,985: Epoch 70 average validation loss: 0.11072 -- Median validation metrics: avg_loss: 0.11072, NSE: 0.66355\n",
      "# Epoch 71: 100%|██████████| 9465/9465 [04:01<00:00, 39.25it/s, Loss: 0.0060] \n",
      "2025-02-18 16:15:37,129: Epoch 71 average loss: avg_loss: 0.00817, avg_total_loss: 0.00817\n",
      "# Validation: 100%|██████████| 200/200 [00:32<00:00,  6.20it/s]\n",
      "2025-02-18 16:16:09,382: Stored metrics at c:\\Users\\ybrot\\Desktop\\course\\UROP\\GAGEii_modeling\\runs\\GAGEii-ALL_US_with_static_minmax_standardized_1802_104922\\validation\\model_epoch071\\validation_metrics.csv\n",
      "2025-02-18 16:16:09,402: Stored results at c:\\Users\\ybrot\\Desktop\\course\\UROP\\GAGEii_modeling\\runs\\GAGEii-ALL_US_with_static_minmax_standardized_1802_104922\\validation\\model_epoch071\\validation_results.p\n",
      "2025-02-18 16:16:09,404: Epoch 71 average validation loss: 0.10594 -- Median validation metrics: avg_loss: 0.10594, NSE: 0.70929\n",
      "# Epoch 72: 100%|██████████| 9465/9465 [04:03<00:00, 38.84it/s, Loss: 0.0068] \n",
      "2025-02-18 16:20:13,110: Epoch 72 average loss: avg_loss: 0.00801, avg_total_loss: 0.00801\n",
      "# Validation: 100%|██████████| 200/200 [00:32<00:00,  6.13it/s]\n",
      "2025-02-18 16:20:45,748: Stored metrics at c:\\Users\\ybrot\\Desktop\\course\\UROP\\GAGEii_modeling\\runs\\GAGEii-ALL_US_with_static_minmax_standardized_1802_104922\\validation\\model_epoch072\\validation_metrics.csv\n",
      "2025-02-18 16:20:45,768: Stored results at c:\\Users\\ybrot\\Desktop\\course\\UROP\\GAGEii_modeling\\runs\\GAGEii-ALL_US_with_static_minmax_standardized_1802_104922\\validation\\model_epoch072\\validation_results.p\n",
      "2025-02-18 16:20:45,770: Epoch 72 average validation loss: 0.11002 -- Median validation metrics: avg_loss: 0.11002, NSE: 0.68936\n",
      "# Epoch 73: 100%|██████████| 9465/9465 [04:03<00:00, 38.82it/s, Loss: 0.0126] \n",
      "2025-02-18 16:24:49,560: Epoch 73 average loss: avg_loss: 0.00800, avg_total_loss: 0.00800\n",
      "# Validation: 100%|██████████| 200/200 [00:32<00:00,  6.07it/s]\n",
      "2025-02-18 16:25:22,505: Stored metrics at c:\\Users\\ybrot\\Desktop\\course\\UROP\\GAGEii_modeling\\runs\\GAGEii-ALL_US_with_static_minmax_standardized_1802_104922\\validation\\model_epoch073\\validation_metrics.csv\n",
      "2025-02-18 16:25:22,526: Stored results at c:\\Users\\ybrot\\Desktop\\course\\UROP\\GAGEii_modeling\\runs\\GAGEii-ALL_US_with_static_minmax_standardized_1802_104922\\validation\\model_epoch073\\validation_results.p\n",
      "2025-02-18 16:25:22,528: Epoch 73 average validation loss: 0.07758 -- Median validation metrics: avg_loss: 0.07758, NSE: 0.71703\n",
      "# Epoch 74: 100%|██████████| 9465/9465 [04:02<00:00, 38.97it/s, Loss: 0.0077] \n",
      "2025-02-18 16:29:25,413: Epoch 74 average loss: avg_loss: 0.00812, avg_total_loss: 0.00812\n",
      "# Validation: 100%|██████████| 200/200 [00:32<00:00,  6.17it/s]\n",
      "2025-02-18 16:29:57,851: Stored metrics at c:\\Users\\ybrot\\Desktop\\course\\UROP\\GAGEii_modeling\\runs\\GAGEii-ALL_US_with_static_minmax_standardized_1802_104922\\validation\\model_epoch074\\validation_metrics.csv\n",
      "2025-02-18 16:29:57,872: Stored results at c:\\Users\\ybrot\\Desktop\\course\\UROP\\GAGEii_modeling\\runs\\GAGEii-ALL_US_with_static_minmax_standardized_1802_104922\\validation\\model_epoch074\\validation_results.p\n",
      "2025-02-18 16:29:57,874: Epoch 74 average validation loss: 0.10671 -- Median validation metrics: avg_loss: 0.10671, NSE: 0.68885\n",
      "# Epoch 75: 100%|██████████| 9465/9465 [04:01<00:00, 39.17it/s, Loss: 0.0078] \n",
      "2025-02-18 16:33:59,502: Epoch 75 average loss: avg_loss: 0.00800, avg_total_loss: 0.00800\n",
      "# Validation: 100%|██████████| 200/200 [00:32<00:00,  6.06it/s]\n",
      "2025-02-18 16:34:32,493: Stored metrics at c:\\Users\\ybrot\\Desktop\\course\\UROP\\GAGEii_modeling\\runs\\GAGEii-ALL_US_with_static_minmax_standardized_1802_104922\\validation\\model_epoch075\\validation_metrics.csv\n",
      "2025-02-18 16:34:32,528: Stored results at c:\\Users\\ybrot\\Desktop\\course\\UROP\\GAGEii_modeling\\runs\\GAGEii-ALL_US_with_static_minmax_standardized_1802_104922\\validation\\model_epoch075\\validation_results.p\n",
      "2025-02-18 16:34:32,530: Epoch 75 average validation loss: 0.11615 -- Median validation metrics: avg_loss: 0.11615, NSE: 0.59430\n",
      "# Epoch 76: 100%|██████████| 9465/9465 [04:03<00:00, 38.93it/s, Loss: 0.0070] \n",
      "2025-02-18 16:38:35,643: Epoch 76 average loss: avg_loss: 0.00792, avg_total_loss: 0.00792\n",
      "# Validation: 100%|██████████| 200/200 [00:31<00:00,  6.28it/s]\n",
      "2025-02-18 16:39:07,475: Stored metrics at c:\\Users\\ybrot\\Desktop\\course\\UROP\\GAGEii_modeling\\runs\\GAGEii-ALL_US_with_static_minmax_standardized_1802_104922\\validation\\model_epoch076\\validation_metrics.csv\n",
      "2025-02-18 16:39:07,497: Stored results at c:\\Users\\ybrot\\Desktop\\course\\UROP\\GAGEii_modeling\\runs\\GAGEii-ALL_US_with_static_minmax_standardized_1802_104922\\validation\\model_epoch076\\validation_results.p\n",
      "2025-02-18 16:39:07,499: Epoch 76 average validation loss: 0.10581 -- Median validation metrics: avg_loss: 0.10581, NSE: 0.66731\n",
      "# Epoch 77: 100%|██████████| 9465/9465 [04:02<00:00, 39.00it/s, Loss: 0.0052] \n",
      "2025-02-18 16:43:10,193: Epoch 77 average loss: avg_loss: 0.00789, avg_total_loss: 0.00789\n",
      "# Validation: 100%|██████████| 200/200 [00:31<00:00,  6.37it/s]\n",
      "2025-02-18 16:43:41,616: Stored metrics at c:\\Users\\ybrot\\Desktop\\course\\UROP\\GAGEii_modeling\\runs\\GAGEii-ALL_US_with_static_minmax_standardized_1802_104922\\validation\\model_epoch077\\validation_metrics.csv\n",
      "2025-02-18 16:43:41,636: Stored results at c:\\Users\\ybrot\\Desktop\\course\\UROP\\GAGEii_modeling\\runs\\GAGEii-ALL_US_with_static_minmax_standardized_1802_104922\\validation\\model_epoch077\\validation_results.p\n",
      "2025-02-18 16:43:41,639: Epoch 77 average validation loss: 0.06349 -- Median validation metrics: avg_loss: 0.06349, NSE: 0.68680\n",
      "# Epoch 78: 100%|██████████| 9465/9465 [04:01<00:00, 39.24it/s, Loss: 0.0059] \n",
      "2025-02-18 16:47:42,851: Epoch 78 average loss: avg_loss: 0.00783, avg_total_loss: 0.00783\n",
      "# Validation: 100%|██████████| 200/200 [00:32<00:00,  6.11it/s]\n",
      "2025-02-18 16:48:15,568: Stored metrics at c:\\Users\\ybrot\\Desktop\\course\\UROP\\GAGEii_modeling\\runs\\GAGEii-ALL_US_with_static_minmax_standardized_1802_104922\\validation\\model_epoch078\\validation_metrics.csv\n",
      "2025-02-18 16:48:15,588: Stored results at c:\\Users\\ybrot\\Desktop\\course\\UROP\\GAGEii_modeling\\runs\\GAGEii-ALL_US_with_static_minmax_standardized_1802_104922\\validation\\model_epoch078\\validation_results.p\n",
      "2025-02-18 16:48:15,590: Epoch 78 average validation loss: 0.10540 -- Median validation metrics: avg_loss: 0.10540, NSE: 0.69191\n",
      "# Epoch 79: 100%|██████████| 9465/9465 [04:03<00:00, 38.95it/s, Loss: 0.0076] \n",
      "2025-02-18 16:52:18,605: Epoch 79 average loss: avg_loss: 0.00792, avg_total_loss: 0.00792\n",
      "# Validation: 100%|██████████| 200/200 [00:31<00:00,  6.40it/s]\n",
      "2025-02-18 16:52:49,883: Stored metrics at c:\\Users\\ybrot\\Desktop\\course\\UROP\\GAGEii_modeling\\runs\\GAGEii-ALL_US_with_static_minmax_standardized_1802_104922\\validation\\model_epoch079\\validation_metrics.csv\n",
      "2025-02-18 16:52:49,916: Stored results at c:\\Users\\ybrot\\Desktop\\course\\UROP\\GAGEii_modeling\\runs\\GAGEii-ALL_US_with_static_minmax_standardized_1802_104922\\validation\\model_epoch079\\validation_results.p\n",
      "2025-02-18 16:52:49,919: Epoch 79 average validation loss: 0.09698 -- Median validation metrics: avg_loss: 0.09698, NSE: 0.70207\n",
      "# Epoch 80: 100%|██████████| 9465/9465 [04:02<00:00, 38.95it/s, Loss: 0.0101] \n",
      "2025-02-18 16:56:52,898: Epoch 80 average loss: avg_loss: 0.00841, avg_total_loss: 0.00841\n",
      "# Validation: 100%|██████████| 200/200 [00:32<00:00,  6.18it/s]\n",
      "2025-02-18 16:57:25,251: Stored metrics at c:\\Users\\ybrot\\Desktop\\course\\UROP\\GAGEii_modeling\\runs\\GAGEii-ALL_US_with_static_minmax_standardized_1802_104922\\validation\\model_epoch080\\validation_metrics.csv\n",
      "2025-02-18 16:57:25,284: Stored results at c:\\Users\\ybrot\\Desktop\\course\\UROP\\GAGEii_modeling\\runs\\GAGEii-ALL_US_with_static_minmax_standardized_1802_104922\\validation\\model_epoch080\\validation_results.p\n",
      "2025-02-18 16:57:25,286: Epoch 80 average validation loss: 0.08388 -- Median validation metrics: avg_loss: 0.08388, NSE: 0.63384\n",
      "# Epoch 81: 100%|██████████| 9465/9465 [04:06<00:00, 38.34it/s, Loss: 0.0079] \n",
      "2025-02-18 17:01:32,184: Epoch 81 average loss: avg_loss: 0.00817, avg_total_loss: 0.00817\n",
      "# Validation: 100%|██████████| 200/200 [00:33<00:00,  6.01it/s]\n",
      "2025-02-18 17:02:05,473: Stored metrics at c:\\Users\\ybrot\\Desktop\\course\\UROP\\GAGEii_modeling\\runs\\GAGEii-ALL_US_with_static_minmax_standardized_1802_104922\\validation\\model_epoch081\\validation_metrics.csv\n",
      "2025-02-18 17:02:05,495: Stored results at c:\\Users\\ybrot\\Desktop\\course\\UROP\\GAGEii_modeling\\runs\\GAGEii-ALL_US_with_static_minmax_standardized_1802_104922\\validation\\model_epoch081\\validation_results.p\n",
      "2025-02-18 17:02:05,497: Epoch 81 average validation loss: 0.07729 -- Median validation metrics: avg_loss: 0.07729, NSE: 0.68003\n",
      "# Epoch 82: 100%|██████████| 9465/9465 [04:09<00:00, 37.92it/s, Loss: 0.0077] \n",
      "2025-02-18 17:06:15,125: Epoch 82 average loss: avg_loss: 0.00801, avg_total_loss: 0.00801\n",
      "# Validation: 100%|██████████| 200/200 [00:33<00:00,  5.98it/s]\n",
      "2025-02-18 17:06:48,557: Stored metrics at c:\\Users\\ybrot\\Desktop\\course\\UROP\\GAGEii_modeling\\runs\\GAGEii-ALL_US_with_static_minmax_standardized_1802_104922\\validation\\model_epoch082\\validation_metrics.csv\n",
      "2025-02-18 17:06:48,577: Stored results at c:\\Users\\ybrot\\Desktop\\course\\UROP\\GAGEii_modeling\\runs\\GAGEii-ALL_US_with_static_minmax_standardized_1802_104922\\validation\\model_epoch082\\validation_results.p\n",
      "2025-02-18 17:06:48,579: Epoch 82 average validation loss: 0.10794 -- Median validation metrics: avg_loss: 0.10794, NSE: 0.68058\n",
      "# Epoch 83: 100%|█████████▉| 9461/9465 [04:04<00:00, 44.82it/s, Loss: 0.0057] "
     ]
    }
   ],
   "source": [
    "start_run(config_file=Path('config.yml'))"
   ]
  },
  {
   "cell_type": "markdown",
   "metadata": {},
   "source": []
  },
  {
   "cell_type": "code",
   "execution_count": null,
   "metadata": {},
   "outputs": [],
   "source": [
    "from resources.file_conversion import DataFrame_to_CDF\n",
    "from tqdm import tqdm\n",
    "import pandas as pd\n",
    "import os\n",
    "\n",
    "def convert_csv_to_cdf(input_folder: str, output_folder: str):\n",
    "    # Ensure the output folder exists\n",
    "    os.makedirs(output_folder, exist_ok=True)\n",
    "    \n",
    "    # Get all CSV files in the input folder\n",
    "    csv_files = [f for f in os.listdir(input_folder) if f.endswith('.csv')]\n",
    "    \n",
    "    for csv_file in tqdm(csv_files):\n",
    "        # Construct the file path for the CSV file\n",
    "        csv_file_path = os.path.join(input_folder, csv_file)\n",
    "        \n",
    "        # Read the CSV file into a DataFrame\n",
    "        df = pd.read_csv(csv_file_path, index_col='date')\n",
    "        df.index = pd.to_datetime(df.index)\n",
    "        \n",
    "        # Convert the DataFrame to a CDF file\n",
    "        basin_id = os.path.splitext(csv_file)[0]\n",
    "        DataFrame_to_CDF(df, output_folder, basin_id)\n"
   ]
  },
  {
   "cell_type": "code",
   "execution_count": null,
   "metadata": {},
   "outputs": [],
   "source": [
    "input_folder = './data/z-standardized_csv_files'\n",
    "output_folder = './data/time_series'\n",
    "convert_csv_to_cdf(input_folder, output_folder)"
   ]
  },
  {
   "cell_type": "code",
   "execution_count": null,
   "metadata": {},
   "outputs": [],
   "source": [
    "start_run(config_file=Path('config_backup.yml'))"
   ]
  },
  {
   "cell_type": "markdown",
   "metadata": {},
   "source": [
    "# Evaluation"
   ]
  },
  {
   "cell_type": "code",
   "execution_count": 50,
   "metadata": {},
   "outputs": [
    {
     "name": "stderr",
     "output_type": "stream",
     "text": [
      "C:\\Users\\ybrot\\AppData\\Local\\Packages\\PythonSoftwareFoundation.Python.3.12_qbz5n2kfra8p0\\LocalCache\\local-packages\\Python312\\site-packages\\neuralhydrology\\evaluation\\tester.py:133: FutureWarning: You are using `torch.load` with `weights_only=False` (the current default value), which uses the default pickle module implicitly. It is possible to construct malicious pickle data which will execute arbitrary code during unpickling (See https://github.com/pytorch/pytorch/blob/main/SECURITY.md#untrusted-models for more details). In a future release, the default value for `weights_only` will be flipped to `True`. This limits the functions that could be executed during unpickling. Arbitrary objects will no longer be allowed to be loaded via this mode unless they are explicitly allowlisted by the user via `torch.serialization.add_safe_globals`. We recommend you start setting `weights_only=True` for any use case where you don't have full control of the loaded file. Please open an issue on GitHub for any issues related to this experimental feature.\n",
      "  self.model.load_state_dict(torch.load(weight_file, map_location=self.device))\n"
     ]
    },
    {
     "name": "stdout",
     "output_type": "stream",
     "text": [
      "# Evaluation:   7%|▋         | 29/399 [00:07<01:30,  4.08it/s]\n"
     ]
    },
    {
     "ename": "KeyboardInterrupt",
     "evalue": "",
     "output_type": "error",
     "traceback": [
      "\u001b[1;31m---------------------------------------------------------------------------\u001b[0m",
      "\u001b[1;31mKeyboardInterrupt\u001b[0m                         Traceback (most recent call last)",
      "Cell \u001b[1;32mIn[50], line 2\u001b[0m\n\u001b[0;32m      1\u001b[0m run_dir \u001b[38;5;241m=\u001b[39m Path(\u001b[38;5;124m\"\u001b[39m\u001b[38;5;124mruns/GAGEii-ALL_US_with_static_1602_133919\u001b[39m\u001b[38;5;124m\"\u001b[39m) \n\u001b[1;32m----> 2\u001b[0m \u001b[43meval_run\u001b[49m\u001b[43m(\u001b[49m\u001b[43mrun_dir\u001b[49m\u001b[38;5;241;43m=\u001b[39;49m\u001b[43mrun_dir\u001b[49m\u001b[43m,\u001b[49m\u001b[43m \u001b[49m\u001b[43mperiod\u001b[49m\u001b[38;5;241;43m=\u001b[39;49m\u001b[38;5;124;43m\"\u001b[39;49m\u001b[38;5;124;43mtest\u001b[39;49m\u001b[38;5;124;43m\"\u001b[39;49m\u001b[43m)\u001b[49m\n\u001b[0;32m      4\u001b[0m \u001b[38;5;28;01mwith\u001b[39;00m \u001b[38;5;28mopen\u001b[39m(run_dir \u001b[38;5;241m/\u001b[39m \u001b[38;5;124m\"\u001b[39m\u001b[38;5;124mtest\u001b[39m\u001b[38;5;124m\"\u001b[39m \u001b[38;5;241m/\u001b[39m \u001b[38;5;124m\"\u001b[39m\u001b[38;5;124mmodel_epoch100\u001b[39m\u001b[38;5;124m\"\u001b[39m \u001b[38;5;241m/\u001b[39m \u001b[38;5;124m\"\u001b[39m\u001b[38;5;124mtest_results.p\u001b[39m\u001b[38;5;124m\"\u001b[39m, \u001b[38;5;124m\"\u001b[39m\u001b[38;5;124mrb\u001b[39m\u001b[38;5;124m\"\u001b[39m) \u001b[38;5;28;01mas\u001b[39;00m fp:\n\u001b[0;32m      5\u001b[0m     results \u001b[38;5;241m=\u001b[39m pickle\u001b[38;5;241m.\u001b[39mload(fp)\n",
      "File \u001b[1;32m~\\AppData\\Local\\Packages\\PythonSoftwareFoundation.Python.3.12_qbz5n2kfra8p0\\LocalCache\\local-packages\\Python312\\site-packages\\neuralhydrology\\nh_run.py:169\u001b[0m, in \u001b[0;36meval_run\u001b[1;34m(run_dir, period, epoch, gpu)\u001b[0m\n\u001b[0;32m    166\u001b[0m \u001b[38;5;28;01mif\u001b[39;00m gpu \u001b[38;5;129;01mis\u001b[39;00m \u001b[38;5;129;01mnot\u001b[39;00m \u001b[38;5;28;01mNone\u001b[39;00m \u001b[38;5;129;01mand\u001b[39;00m gpu \u001b[38;5;241m<\u001b[39m \u001b[38;5;241m0\u001b[39m:\n\u001b[0;32m    167\u001b[0m     config\u001b[38;5;241m.\u001b[39mdevice \u001b[38;5;241m=\u001b[39m \u001b[38;5;124m\"\u001b[39m\u001b[38;5;124mcpu\u001b[39m\u001b[38;5;124m\"\u001b[39m\n\u001b[1;32m--> 169\u001b[0m \u001b[43mstart_evaluation\u001b[49m\u001b[43m(\u001b[49m\u001b[43mcfg\u001b[49m\u001b[38;5;241;43m=\u001b[39;49m\u001b[43mconfig\u001b[49m\u001b[43m,\u001b[49m\u001b[43m \u001b[49m\u001b[43mrun_dir\u001b[49m\u001b[38;5;241;43m=\u001b[39;49m\u001b[43mrun_dir\u001b[49m\u001b[43m,\u001b[49m\u001b[43m \u001b[49m\u001b[43mepoch\u001b[49m\u001b[38;5;241;43m=\u001b[39;49m\u001b[43mepoch\u001b[49m\u001b[43m,\u001b[49m\u001b[43m \u001b[49m\u001b[43mperiod\u001b[49m\u001b[38;5;241;43m=\u001b[39;49m\u001b[43mperiod\u001b[49m\u001b[43m)\u001b[49m\n",
      "File \u001b[1;32m~\\AppData\\Local\\Packages\\PythonSoftwareFoundation.Python.3.12_qbz5n2kfra8p0\\LocalCache\\local-packages\\Python312\\site-packages\\neuralhydrology\\evaluation\\evaluate.py:23\u001b[0m, in \u001b[0;36mstart_evaluation\u001b[1;34m(cfg, run_dir, epoch, period)\u001b[0m\n\u001b[0;32m      8\u001b[0m \u001b[38;5;250m\u001b[39m\u001b[38;5;124;03m\"\"\"Start evaluation of a trained network\u001b[39;00m\n\u001b[0;32m      9\u001b[0m \n\u001b[0;32m     10\u001b[0m \u001b[38;5;124;03mParameters\u001b[39;00m\n\u001b[1;32m   (...)\u001b[0m\n\u001b[0;32m     20\u001b[0m \n\u001b[0;32m     21\u001b[0m \u001b[38;5;124;03m\"\"\"\u001b[39;00m\n\u001b[0;32m     22\u001b[0m tester \u001b[38;5;241m=\u001b[39m get_tester(cfg\u001b[38;5;241m=\u001b[39mcfg, run_dir\u001b[38;5;241m=\u001b[39mrun_dir, period\u001b[38;5;241m=\u001b[39mperiod, init_model\u001b[38;5;241m=\u001b[39m\u001b[38;5;28;01mTrue\u001b[39;00m)\n\u001b[1;32m---> 23\u001b[0m \u001b[43mtester\u001b[49m\u001b[38;5;241;43m.\u001b[39;49m\u001b[43mevaluate\u001b[49m\u001b[43m(\u001b[49m\u001b[43mepoch\u001b[49m\u001b[38;5;241;43m=\u001b[39;49m\u001b[43mepoch\u001b[49m\u001b[43m,\u001b[49m\u001b[43m \u001b[49m\u001b[43msave_results\u001b[49m\u001b[38;5;241;43m=\u001b[39;49m\u001b[38;5;28;43;01mTrue\u001b[39;49;00m\u001b[43m,\u001b[49m\u001b[43m \u001b[49m\u001b[43msave_all_output\u001b[49m\u001b[38;5;241;43m=\u001b[39;49m\u001b[43mcfg\u001b[49m\u001b[38;5;241;43m.\u001b[39;49m\u001b[43msave_all_output\u001b[49m\u001b[43m,\u001b[49m\u001b[43m \u001b[49m\u001b[43mmetrics\u001b[49m\u001b[38;5;241;43m=\u001b[39;49m\u001b[43mcfg\u001b[49m\u001b[38;5;241;43m.\u001b[39;49m\u001b[43mmetrics\u001b[49m\u001b[43m)\u001b[49m\n",
      "File \u001b[1;32m~\\AppData\\Local\\Packages\\PythonSoftwareFoundation.Python.3.12_qbz5n2kfra8p0\\LocalCache\\local-packages\\Python312\\site-packages\\neuralhydrology\\evaluation\\tester.py:207\u001b[0m, in \u001b[0;36mBaseTester.evaluate\u001b[1;34m(self, epoch, save_results, save_all_output, metrics, model, experiment_logger)\u001b[0m\n\u001b[0;32m    205\u001b[0m \u001b[38;5;28;01melse\u001b[39;00m:\n\u001b[0;32m    206\u001b[0m     \u001b[38;5;28;01mtry\u001b[39;00m:\n\u001b[1;32m--> 207\u001b[0m         ds \u001b[38;5;241m=\u001b[39m \u001b[38;5;28;43mself\u001b[39;49m\u001b[38;5;241;43m.\u001b[39;49m\u001b[43m_get_dataset\u001b[49m\u001b[43m(\u001b[49m\u001b[43mbasin\u001b[49m\u001b[43m)\u001b[49m\n\u001b[0;32m    208\u001b[0m     \u001b[38;5;28;01mexcept\u001b[39;00m NoEvaluationDataError \u001b[38;5;28;01mas\u001b[39;00m error:\n\u001b[0;32m    209\u001b[0m         \u001b[38;5;66;03m# skip basin\u001b[39;00m\n\u001b[0;32m    210\u001b[0m         \u001b[38;5;28;01mcontinue\u001b[39;00m\n",
      "File \u001b[1;32m~\\AppData\\Local\\Packages\\PythonSoftwareFoundation.Python.3.12_qbz5n2kfra8p0\\LocalCache\\local-packages\\Python312\\site-packages\\neuralhydrology\\evaluation\\tester.py:137\u001b[0m, in \u001b[0;36mBaseTester._get_dataset\u001b[1;34m(self, basin)\u001b[0m\n\u001b[0;32m    135\u001b[0m \u001b[38;5;28;01mdef\u001b[39;00m \u001b[38;5;21m_get_dataset\u001b[39m(\u001b[38;5;28mself\u001b[39m, basin: \u001b[38;5;28mstr\u001b[39m) \u001b[38;5;241m-\u001b[39m\u001b[38;5;241m>\u001b[39m BaseDataset:\n\u001b[0;32m    136\u001b[0m \u001b[38;5;250m    \u001b[39m\u001b[38;5;124;03m\"\"\"Get dataset for a single basin.\"\"\"\u001b[39;00m\n\u001b[1;32m--> 137\u001b[0m     ds \u001b[38;5;241m=\u001b[39m \u001b[43mget_dataset\u001b[49m\u001b[43m(\u001b[49m\u001b[43mcfg\u001b[49m\u001b[38;5;241;43m=\u001b[39;49m\u001b[38;5;28;43mself\u001b[39;49m\u001b[38;5;241;43m.\u001b[39;49m\u001b[43mcfg\u001b[49m\u001b[43m,\u001b[49m\n\u001b[0;32m    138\u001b[0m \u001b[43m                     \u001b[49m\u001b[43mis_train\u001b[49m\u001b[38;5;241;43m=\u001b[39;49m\u001b[38;5;28;43;01mFalse\u001b[39;49;00m\u001b[43m,\u001b[49m\n\u001b[0;32m    139\u001b[0m \u001b[43m                     \u001b[49m\u001b[43mperiod\u001b[49m\u001b[38;5;241;43m=\u001b[39;49m\u001b[38;5;28;43mself\u001b[39;49m\u001b[38;5;241;43m.\u001b[39;49m\u001b[43mperiod\u001b[49m\u001b[43m,\u001b[49m\n\u001b[0;32m    140\u001b[0m \u001b[43m                     \u001b[49m\u001b[43mbasin\u001b[49m\u001b[38;5;241;43m=\u001b[39;49m\u001b[43mbasin\u001b[49m\u001b[43m,\u001b[49m\n\u001b[0;32m    141\u001b[0m \u001b[43m                     \u001b[49m\u001b[43madditional_features\u001b[49m\u001b[38;5;241;43m=\u001b[39;49m\u001b[38;5;28;43mself\u001b[39;49m\u001b[38;5;241;43m.\u001b[39;49m\u001b[43madditional_features\u001b[49m\u001b[43m,\u001b[49m\n\u001b[0;32m    142\u001b[0m \u001b[43m                     \u001b[49m\u001b[43mid_to_int\u001b[49m\u001b[38;5;241;43m=\u001b[39;49m\u001b[38;5;28;43mself\u001b[39;49m\u001b[38;5;241;43m.\u001b[39;49m\u001b[43mid_to_int\u001b[49m\u001b[43m,\u001b[49m\n\u001b[0;32m    143\u001b[0m \u001b[43m                     \u001b[49m\u001b[43mscaler\u001b[49m\u001b[38;5;241;43m=\u001b[39;49m\u001b[38;5;28;43mself\u001b[39;49m\u001b[38;5;241;43m.\u001b[39;49m\u001b[43mscaler\u001b[49m\u001b[43m)\u001b[49m\n\u001b[0;32m    144\u001b[0m     \u001b[38;5;28;01mreturn\u001b[39;00m ds\n",
      "File \u001b[1;32m~\\AppData\\Local\\Packages\\PythonSoftwareFoundation.Python.3.12_qbz5n2kfra8p0\\LocalCache\\local-packages\\Python312\\site-packages\\neuralhydrology\\datasetzoo\\__init__.py:83\u001b[0m, in \u001b[0;36mget_dataset\u001b[1;34m(cfg, is_train, period, basin, additional_features, id_to_int, scaler)\u001b[0m\n\u001b[0;32m     80\u001b[0m \u001b[38;5;28;01melse\u001b[39;00m:\n\u001b[0;32m     81\u001b[0m     \u001b[38;5;28;01mraise\u001b[39;00m \u001b[38;5;167;01mNotImplementedError\u001b[39;00m(\u001b[38;5;124mf\u001b[39m\u001b[38;5;124m\"\u001b[39m\u001b[38;5;124mNo dataset class implemented for dataset \u001b[39m\u001b[38;5;132;01m{\u001b[39;00mcfg\u001b[38;5;241m.\u001b[39mdataset\u001b[38;5;132;01m}\u001b[39;00m\u001b[38;5;124m\"\u001b[39m)\n\u001b[1;32m---> 83\u001b[0m ds \u001b[38;5;241m=\u001b[39m \u001b[43mDataset\u001b[49m\u001b[43m(\u001b[49m\u001b[43mcfg\u001b[49m\u001b[38;5;241;43m=\u001b[39;49m\u001b[43mcfg\u001b[49m\u001b[43m,\u001b[49m\n\u001b[0;32m     84\u001b[0m \u001b[43m             \u001b[49m\u001b[43mis_train\u001b[49m\u001b[38;5;241;43m=\u001b[39;49m\u001b[43mis_train\u001b[49m\u001b[43m,\u001b[49m\n\u001b[0;32m     85\u001b[0m \u001b[43m             \u001b[49m\u001b[43mperiod\u001b[49m\u001b[38;5;241;43m=\u001b[39;49m\u001b[43mperiod\u001b[49m\u001b[43m,\u001b[49m\n\u001b[0;32m     86\u001b[0m \u001b[43m             \u001b[49m\u001b[43mbasin\u001b[49m\u001b[38;5;241;43m=\u001b[39;49m\u001b[43mbasin\u001b[49m\u001b[43m,\u001b[49m\n\u001b[0;32m     87\u001b[0m \u001b[43m             \u001b[49m\u001b[43madditional_features\u001b[49m\u001b[38;5;241;43m=\u001b[39;49m\u001b[43madditional_features\u001b[49m\u001b[43m,\u001b[49m\n\u001b[0;32m     88\u001b[0m \u001b[43m             \u001b[49m\u001b[43mid_to_int\u001b[49m\u001b[38;5;241;43m=\u001b[39;49m\u001b[43mid_to_int\u001b[49m\u001b[43m,\u001b[49m\n\u001b[0;32m     89\u001b[0m \u001b[43m             \u001b[49m\u001b[43mscaler\u001b[49m\u001b[38;5;241;43m=\u001b[39;49m\u001b[43mscaler\u001b[49m\u001b[43m)\u001b[49m\n\u001b[0;32m     90\u001b[0m \u001b[38;5;28;01mreturn\u001b[39;00m ds\n",
      "File \u001b[1;32m~\\AppData\\Local\\Packages\\PythonSoftwareFoundation.Python.3.12_qbz5n2kfra8p0\\LocalCache\\local-packages\\Python312\\site-packages\\neuralhydrology\\datasetzoo\\genericdataset.py:61\u001b[0m, in \u001b[0;36mGenericDataset.__init__\u001b[1;34m(self, cfg, is_train, period, basin, additional_features, id_to_int, scaler)\u001b[0m\n\u001b[0;32m     53\u001b[0m \u001b[38;5;28;01mdef\u001b[39;00m \u001b[38;5;21m__init__\u001b[39m(\u001b[38;5;28mself\u001b[39m,\n\u001b[0;32m     54\u001b[0m              cfg: Config,\n\u001b[0;32m     55\u001b[0m              is_train: \u001b[38;5;28mbool\u001b[39m,\n\u001b[1;32m   (...)\u001b[0m\n\u001b[0;32m     59\u001b[0m              id_to_int: Dict[\u001b[38;5;28mstr\u001b[39m, \u001b[38;5;28mint\u001b[39m] \u001b[38;5;241m=\u001b[39m {},\n\u001b[0;32m     60\u001b[0m              scaler: Dict[\u001b[38;5;28mstr\u001b[39m, Union[pd\u001b[38;5;241m.\u001b[39mSeries, xarray\u001b[38;5;241m.\u001b[39mDataArray]] \u001b[38;5;241m=\u001b[39m {}):\n\u001b[1;32m---> 61\u001b[0m     \u001b[38;5;28;43msuper\u001b[39;49m\u001b[43m(\u001b[49m\u001b[43mGenericDataset\u001b[49m\u001b[43m,\u001b[49m\u001b[43m \u001b[49m\u001b[38;5;28;43mself\u001b[39;49m\u001b[43m)\u001b[49m\u001b[38;5;241;43m.\u001b[39;49m\u001b[38;5;21;43m__init__\u001b[39;49m\u001b[43m(\u001b[49m\u001b[43mcfg\u001b[49m\u001b[38;5;241;43m=\u001b[39;49m\u001b[43mcfg\u001b[49m\u001b[43m,\u001b[49m\n\u001b[0;32m     62\u001b[0m \u001b[43m                                         \u001b[49m\u001b[43mis_train\u001b[49m\u001b[38;5;241;43m=\u001b[39;49m\u001b[43mis_train\u001b[49m\u001b[43m,\u001b[49m\n\u001b[0;32m     63\u001b[0m \u001b[43m                                         \u001b[49m\u001b[43mperiod\u001b[49m\u001b[38;5;241;43m=\u001b[39;49m\u001b[43mperiod\u001b[49m\u001b[43m,\u001b[49m\n\u001b[0;32m     64\u001b[0m \u001b[43m                                         \u001b[49m\u001b[43mbasin\u001b[49m\u001b[38;5;241;43m=\u001b[39;49m\u001b[43mbasin\u001b[49m\u001b[43m,\u001b[49m\n\u001b[0;32m     65\u001b[0m \u001b[43m                                         \u001b[49m\u001b[43madditional_features\u001b[49m\u001b[38;5;241;43m=\u001b[39;49m\u001b[43madditional_features\u001b[49m\u001b[43m,\u001b[49m\n\u001b[0;32m     66\u001b[0m \u001b[43m                                         \u001b[49m\u001b[43mid_to_int\u001b[49m\u001b[38;5;241;43m=\u001b[39;49m\u001b[43mid_to_int\u001b[49m\u001b[43m,\u001b[49m\n\u001b[0;32m     67\u001b[0m \u001b[43m                                         \u001b[49m\u001b[43mscaler\u001b[49m\u001b[38;5;241;43m=\u001b[39;49m\u001b[43mscaler\u001b[49m\u001b[43m)\u001b[49m\n",
      "File \u001b[1;32m~\\AppData\\Local\\Packages\\PythonSoftwareFoundation.Python.3.12_qbz5n2kfra8p0\\LocalCache\\local-packages\\Python312\\site-packages\\neuralhydrology\\datasetzoo\\basedataset.py:146\u001b[0m, in \u001b[0;36mBaseDataset.__init__\u001b[1;34m(self, cfg, is_train, period, basin, additional_features, id_to_int, scaler)\u001b[0m\n\u001b[0;32m    143\u001b[0m         \u001b[38;5;28mself\u001b[39m\u001b[38;5;241m.\u001b[39m_create_id_to_int()\n\u001b[0;32m    145\u001b[0m \u001b[38;5;66;03m# load and preprocess data\u001b[39;00m\n\u001b[1;32m--> 146\u001b[0m \u001b[38;5;28;43mself\u001b[39;49m\u001b[38;5;241;43m.\u001b[39;49m\u001b[43m_load_data\u001b[49m\u001b[43m(\u001b[49m\u001b[43m)\u001b[49m\n\u001b[0;32m    148\u001b[0m \u001b[38;5;28;01mif\u001b[39;00m \u001b[38;5;28mself\u001b[39m\u001b[38;5;241m.\u001b[39mis_train:\n\u001b[0;32m    149\u001b[0m     \u001b[38;5;28mself\u001b[39m\u001b[38;5;241m.\u001b[39m_dump_scaler()\n",
      "File \u001b[1;32m~\\AppData\\Local\\Packages\\PythonSoftwareFoundation.Python.3.12_qbz5n2kfra8p0\\LocalCache\\local-packages\\Python312\\site-packages\\neuralhydrology\\datasetzoo\\basedataset.py:733\u001b[0m, in \u001b[0;36mBaseDataset._load_data\u001b[1;34m(self)\u001b[0m\n\u001b[0;32m    730\u001b[0m \u001b[38;5;66;03m# performs normalization\u001b[39;00m\n\u001b[0;32m    731\u001b[0m xr \u001b[38;5;241m=\u001b[39m (xr \u001b[38;5;241m-\u001b[39m \u001b[38;5;28mself\u001b[39m\u001b[38;5;241m.\u001b[39mscaler[\u001b[38;5;124m\"\u001b[39m\u001b[38;5;124mxarray_feature_center\u001b[39m\u001b[38;5;124m\"\u001b[39m]) \u001b[38;5;241m/\u001b[39m \u001b[38;5;28mself\u001b[39m\u001b[38;5;241m.\u001b[39mscaler[\u001b[38;5;124m\"\u001b[39m\u001b[38;5;124mxarray_feature_scale\u001b[39m\u001b[38;5;124m\"\u001b[39m]\n\u001b[1;32m--> 733\u001b[0m \u001b[38;5;28;43mself\u001b[39;49m\u001b[38;5;241;43m.\u001b[39;49m\u001b[43m_create_lookup_table\u001b[49m\u001b[43m(\u001b[49m\u001b[43mxr\u001b[49m\u001b[43m)\u001b[49m\n",
      "File \u001b[1;32m~\\AppData\\Local\\Packages\\PythonSoftwareFoundation.Python.3.12_qbz5n2kfra8p0\\LocalCache\\local-packages\\Python312\\site-packages\\neuralhydrology\\datasetzoo\\basedataset.py:610\u001b[0m, in \u001b[0;36mBaseDataset._create_lookup_table\u001b[1;34m(self, xr)\u001b[0m\n\u001b[0;32m    607\u001b[0m valid_samples \u001b[38;5;241m=\u001b[39m np\u001b[38;5;241m.\u001b[39margwhere(flag \u001b[38;5;241m==\u001b[39m \u001b[38;5;241m1\u001b[39m)\n\u001b[0;32m    608\u001b[0m \u001b[38;5;28;01mfor\u001b[39;00m f \u001b[38;5;129;01min\u001b[39;00m valid_samples:\n\u001b[0;32m    609\u001b[0m     \u001b[38;5;66;03m# store pointer to basin and the sample's index in each frequency\u001b[39;00m\n\u001b[1;32m--> 610\u001b[0m     lookup\u001b[38;5;241m.\u001b[39mappend((basin, [frequency_maps[freq][\u001b[38;5;28mint\u001b[39m(f)] \u001b[38;5;28;01mfor\u001b[39;00m freq \u001b[38;5;129;01min\u001b[39;00m \u001b[38;5;28mself\u001b[39m\u001b[38;5;241m.\u001b[39mfrequencies]))\n\u001b[0;32m    612\u001b[0m \u001b[38;5;66;03m# only store data if this basin has at least one valid sample in the given period\u001b[39;00m\n\u001b[0;32m    613\u001b[0m \u001b[38;5;28;01mif\u001b[39;00m valid_samples\u001b[38;5;241m.\u001b[39msize \u001b[38;5;241m>\u001b[39m \u001b[38;5;241m0\u001b[39m:\n",
      "\u001b[1;31mKeyboardInterrupt\u001b[0m: "
     ]
    }
   ],
   "source": [
    "run_dir = Path(\"runs/GAGEii-ALL_US_with_static_1602_133919\") \n",
    "eval_run(run_dir=run_dir, period=\"test\")\n",
    "\n",
    "with open(run_dir / \"test\" / \"model_epoch100\" / \"test_results.p\", \"rb\") as fp:\n",
    "    results = pickle.load(fp)"
   ]
  },
  {
   "cell_type": "code",
   "execution_count": 51,
   "metadata": {},
   "outputs": [],
   "source": [
    "# Load results once and reuse\n",
    "if 'results' not in globals():\n",
    "    with open(run_dir / \"test\" / \"model_epoch100\" / \"test_results.p\", \"rb\") as fp:\n",
    "        results = pickle.load(fp)"
   ]
  },
  {
   "cell_type": "code",
   "execution_count": 52,
   "metadata": {},
   "outputs": [
    {
     "name": "stdout",
     "output_type": "stream",
     "text": [
      "Skipping 04240503 as it does not have 1D results.\n"
     ]
    },
    {
     "name": "stderr",
     "output_type": "stream",
     "text": [
      "C:\\Users\\ybrot\\AppData\\Local\\Packages\\PythonSoftwareFoundation.Python.3.12_qbz5n2kfra8p0\\LocalCache\\local-packages\\Python312\\site-packages\\pandas\\core\\nanops.py:1016: RuntimeWarning: invalid value encountered in subtract\n",
      "  sqr = _ensure_numeric((avg - values) ** 2)\n"
     ]
    }
   ],
   "source": [
    "import numpy as np\n",
    "import pandas as pd\n",
    "import matplotlib.pyplot as plt\n",
    "\n",
    "# Assuming `results` is already loaded with subbasin data.\n",
    "\n",
    "# Extract subbasin keys\n",
    "subbasin_keys = list(results.keys())\n",
    "\n",
    "# Initialize lists to store NSE values and subbasin IDs\n",
    "nse_values = []\n",
    "subbasin_ids = []\n",
    "\n",
    "# Loop through each subbasin and collect NSE values\n",
    "for key in subbasin_keys:\n",
    "    \n",
    "    if 'NSE' not in results[key]['1D']:\n",
    "        print(f\"Skipping {key} as it does not have 1D results.\")\n",
    "        continue\n",
    "    \n",
    "    nse = results[key]['1D']['NSE']\n",
    "    nse_values.append(nse)\n",
    "    subbasin_ids.append(key)\n",
    "\n",
    "# Convert to a DataFrame for easier manipulation and visualization\n",
    "nse_df = pd.DataFrame({'Subbasin': subbasin_ids, 'NSE': nse_values})\n",
    "\n",
    "# Statistical Summary\n",
    "summary_stats = nse_df['NSE'].describe()\n"
   ]
  },
  {
   "cell_type": "code",
   "execution_count": 53,
   "metadata": {},
   "outputs": [
    {
     "data": {
      "text/plain": [
       "count    398.000000\n",
       "mean           -inf\n",
       "std             NaN\n",
       "min            -inf\n",
       "25%       -8.637053\n",
       "50%        0.447354\n",
       "75%        0.737577\n",
       "max        0.892988\n",
       "Name: NSE, dtype: float64"
      ]
     },
     "execution_count": 53,
     "metadata": {},
     "output_type": "execute_result"
    }
   ],
   "source": [
    "summary_stats   "
   ]
  },
  {
   "cell_type": "code",
   "execution_count": 54,
   "metadata": {},
   "outputs": [
    {
     "data": {
      "text/plain": [
       "Performance\n",
       "Negative          161\n",
       "Good              122\n",
       "Excellent          85\n",
       "Unsatisfactory     30\n",
       "Name: count, dtype: int64"
      ]
     },
     "execution_count": 54,
     "metadata": {},
     "output_type": "execute_result"
    }
   ],
   "source": [
    "nse_df['Performance'] = nse_df['NSE'].apply(lambda x: 'Excellent' if x > 0.75 else 'Good' if x >= 0.36 else 'Unsatisfactory' if x >= 0 else 'Negative')\n",
    "nse_df['Performance'].value_counts()"
   ]
  },
  {
   "cell_type": "code",
   "execution_count": null,
   "metadata": {},
   "outputs": [
    {
     "data": {
      "image/png": "[encoded data removed]",
      "text/plain": [
       "<Figure size 1000x600 with 1 Axes>"
      ]
     },
     "metadata": {},
     "output_type": "display_data"
    },
    {
     "data": {
      "image/png": "[encoded data removed]",
      "text/plain": [
       "<Figure size 1000x600 with 1 Axes>"
      ]
     },
     "metadata": {},
     "output_type": "display_data"
    }
   ],
   "source": [
    "import matplotlib.pyplot as plt\n",
    "import numpy as np\n",
    "\n",
    "# Filter out -inf values\n",
    "nse_values = nse_df['NSE'].replace(-np.inf, np.nan).dropna()\n",
    "\n",
    "# Plot: Box plot\n",
    "plt.figure(figsize=(10, 6))\n",
    "plt.boxplot(nse_values, vert=True, patch_artist=True, labels=['NSE'])\n",
    "plt.title(\"Distribution of NSE Values Across Subbasins\")\n",
    "plt.ylabel(\"NSE\")\n",
    "plt.grid(axis='y', linestyle='--', alpha=0.7)\n",
    "plt.show()\n",
    "\n",
    "# Plot: Histogram\n",
    "plt.figure(figsize=(10, 6))\n",
    "plt.hist(nse_values, bins=15, edgecolor='black', alpha=0.7)\n",
    "plt.title(\"Histogram of NSE Values Across Subbasins\")\n",
    "plt.xlabel(\"NSE\")\n",
    "plt.ylabel(\"Frequency\")\n",
    "plt.grid(axis='y', linestyle='--', alpha=0.7)\n",
    "plt.show()"
   ]
  },
  {
   "cell_type": "code",
   "execution_count": null,
   "metadata": {},
   "outputs": [
    {
     "data": {
      "text/html": [
       "<div>\n",
       "<style scoped>\n",
       "    .dataframe tbody tr th:only-of-type {\n",
       "        vertical-align: middle;\n",
       "    }\n",
       "\n",
       "    .dataframe tbody tr th {\n",
       "        vertical-align: top;\n",
       "    }\n",
       "\n",
       "    .dataframe thead th {\n",
       "        text-align: right;\n",
       "    }\n",
       "</style>\n",
       "<table border=\"1\" class=\"dataframe\">\n",
       "  <thead>\n",
       "    <tr style=\"text-align: right;\">\n",
       "      <th></th>\n",
       "      <th>Subbasin</th>\n",
       "      <th>NSE</th>\n",
       "      <th>Performance</th>\n",
       "    </tr>\n",
       "  </thead>\n",
       "  <tbody>\n",
       "    <tr>\n",
       "      <th>11</th>\n",
       "      <td>04025500</td>\n",
       "      <td>0.348737</td>\n",
       "      <td>Unsatisfactory</td>\n",
       "    </tr>\n",
       "    <tr>\n",
       "      <th>14</th>\n",
       "      <td>04029990</td>\n",
       "      <td>0.181302</td>\n",
       "      <td>Unsatisfactory</td>\n",
       "    </tr>\n",
       "    <tr>\n",
       "      <th>29</th>\n",
       "      <td>04043150</td>\n",
       "      <td>0.275608</td>\n",
       "      <td>Unsatisfactory</td>\n",
       "    </tr>\n",
       "    <tr>\n",
       "      <th>34</th>\n",
       "      <td>04044724</td>\n",
       "      <td>0.319316</td>\n",
       "      <td>Unsatisfactory</td>\n",
       "    </tr>\n",
       "    <tr>\n",
       "      <th>40</th>\n",
       "      <td>04057800</td>\n",
       "      <td>0.267480</td>\n",
       "      <td>Unsatisfactory</td>\n",
       "    </tr>\n",
       "    <tr>\n",
       "      <th>41</th>\n",
       "      <td>04058100</td>\n",
       "      <td>0.139050</td>\n",
       "      <td>Unsatisfactory</td>\n",
       "    </tr>\n",
       "    <tr>\n",
       "      <th>46</th>\n",
       "      <td>04060500</td>\n",
       "      <td>0.008135</td>\n",
       "      <td>Unsatisfactory</td>\n",
       "    </tr>\n",
       "    <tr>\n",
       "      <th>50</th>\n",
       "      <td>04062000</td>\n",
       "      <td>0.349785</td>\n",
       "      <td>Unsatisfactory</td>\n",
       "    </tr>\n",
       "    <tr>\n",
       "      <th>72</th>\n",
       "      <td>04071765</td>\n",
       "      <td>0.012231</td>\n",
       "      <td>Unsatisfactory</td>\n",
       "    </tr>\n",
       "    <tr>\n",
       "      <th>84</th>\n",
       "      <td>04077630</td>\n",
       "      <td>0.250791</td>\n",
       "      <td>Unsatisfactory</td>\n",
       "    </tr>\n",
       "    <tr>\n",
       "      <th>100</th>\n",
       "      <td>04087030</td>\n",
       "      <td>0.315795</td>\n",
       "      <td>Unsatisfactory</td>\n",
       "    </tr>\n",
       "    <tr>\n",
       "      <th>103</th>\n",
       "      <td>04087088</td>\n",
       "      <td>0.215593</td>\n",
       "      <td>Unsatisfactory</td>\n",
       "    </tr>\n",
       "    <tr>\n",
       "      <th>104</th>\n",
       "      <td>04087119</td>\n",
       "      <td>0.018284</td>\n",
       "      <td>Unsatisfactory</td>\n",
       "    </tr>\n",
       "    <tr>\n",
       "      <th>118</th>\n",
       "      <td>04096015</td>\n",
       "      <td>0.308626</td>\n",
       "      <td>Unsatisfactory</td>\n",
       "    </tr>\n",
       "    <tr>\n",
       "      <th>148</th>\n",
       "      <td>04105700</td>\n",
       "      <td>0.046027</td>\n",
       "      <td>Unsatisfactory</td>\n",
       "    </tr>\n",
       "    <tr>\n",
       "      <th>161</th>\n",
       "      <td>04111000</td>\n",
       "      <td>0.174234</td>\n",
       "      <td>Unsatisfactory</td>\n",
       "    </tr>\n",
       "    <tr>\n",
       "      <th>171</th>\n",
       "      <td>04115265</td>\n",
       "      <td>0.122153</td>\n",
       "      <td>Unsatisfactory</td>\n",
       "    </tr>\n",
       "    <tr>\n",
       "      <th>192</th>\n",
       "      <td>04125460</td>\n",
       "      <td>0.149086</td>\n",
       "      <td>Unsatisfactory</td>\n",
       "    </tr>\n",
       "    <tr>\n",
       "      <th>196</th>\n",
       "      <td>04126740</td>\n",
       "      <td>0.090085</td>\n",
       "      <td>Unsatisfactory</td>\n",
       "    </tr>\n",
       "    <tr>\n",
       "      <th>197</th>\n",
       "      <td>04126970</td>\n",
       "      <td>0.277032</td>\n",
       "      <td>Unsatisfactory</td>\n",
       "    </tr>\n",
       "    <tr>\n",
       "      <th>203</th>\n",
       "      <td>04128990</td>\n",
       "      <td>0.070930</td>\n",
       "      <td>Unsatisfactory</td>\n",
       "    </tr>\n",
       "    <tr>\n",
       "      <th>261</th>\n",
       "      <td>04164300</td>\n",
       "      <td>0.059039</td>\n",
       "      <td>Unsatisfactory</td>\n",
       "    </tr>\n",
       "    <tr>\n",
       "      <th>264</th>\n",
       "      <td>04166000</td>\n",
       "      <td>0.161318</td>\n",
       "      <td>Unsatisfactory</td>\n",
       "    </tr>\n",
       "    <tr>\n",
       "      <th>271</th>\n",
       "      <td>04170000</td>\n",
       "      <td>0.328739</td>\n",
       "      <td>Unsatisfactory</td>\n",
       "    </tr>\n",
       "    <tr>\n",
       "      <th>285</th>\n",
       "      <td>04179520</td>\n",
       "      <td>0.279505</td>\n",
       "      <td>Unsatisfactory</td>\n",
       "    </tr>\n",
       "    <tr>\n",
       "      <th>294</th>\n",
       "      <td>04184500</td>\n",
       "      <td>0.050070</td>\n",
       "      <td>Unsatisfactory</td>\n",
       "    </tr>\n",
       "    <tr>\n",
       "      <th>308</th>\n",
       "      <td>04196000</td>\n",
       "      <td>0.134281</td>\n",
       "      <td>Unsatisfactory</td>\n",
       "    </tr>\n",
       "    <tr>\n",
       "      <th>353</th>\n",
       "      <td>04227995</td>\n",
       "      <td>0.189880</td>\n",
       "      <td>Unsatisfactory</td>\n",
       "    </tr>\n",
       "    <tr>\n",
       "      <th>367</th>\n",
       "      <td>04233286</td>\n",
       "      <td>0.271288</td>\n",
       "      <td>Unsatisfactory</td>\n",
       "    </tr>\n",
       "    <tr>\n",
       "      <th>381</th>\n",
       "      <td>04240300</td>\n",
       "      <td>0.253229</td>\n",
       "      <td>Unsatisfactory</td>\n",
       "    </tr>\n",
       "  </tbody>\n",
       "</table>\n",
       "</div>"
      ],
      "text/plain": [
       "     Subbasin       NSE     Performance\n",
       "11   04025500  0.348737  Unsatisfactory\n",
       "14   04029990  0.181302  Unsatisfactory\n",
       "29   04043150  0.275608  Unsatisfactory\n",
       "34   04044724  0.319316  Unsatisfactory\n",
       "40   04057800  0.267480  Unsatisfactory\n",
       "41   04058100  0.139050  Unsatisfactory\n",
       "46   04060500  0.008135  Unsatisfactory\n",
       "50   04062000  0.349785  Unsatisfactory\n",
       "72   04071765  0.012231  Unsatisfactory\n",
       "84   04077630  0.250791  Unsatisfactory\n",
       "100  04087030  0.315795  Unsatisfactory\n",
       "103  04087088  0.215593  Unsatisfactory\n",
       "104  04087119  0.018284  Unsatisfactory\n",
       "118  04096015  0.308626  Unsatisfactory\n",
       "148  04105700  0.046027  Unsatisfactory\n",
       "161  04111000  0.174234  Unsatisfactory\n",
       "171  04115265  0.122153  Unsatisfactory\n",
       "192  04125460  0.149086  Unsatisfactory\n",
       "196  04126740  0.090085  Unsatisfactory\n",
       "197  04126970  0.277032  Unsatisfactory\n",
       "203  04128990  0.070930  Unsatisfactory\n",
       "261  04164300  0.059039  Unsatisfactory\n",
       "264  04166000  0.161318  Unsatisfactory\n",
       "271  04170000  0.328739  Unsatisfactory\n",
       "285  04179520  0.279505  Unsatisfactory\n",
       "294  04184500  0.050070  Unsatisfactory\n",
       "308  04196000  0.134281  Unsatisfactory\n",
       "353  04227995  0.189880  Unsatisfactory\n",
       "367  04233286  0.271288  Unsatisfactory\n",
       "381  04240300  0.253229  Unsatisfactory"
      ]
     },
     "execution_count": 37,
     "metadata": {},
     "output_type": "execute_result"
    }
   ],
   "source": [
    "min_nse_row = nse_df.loc[nse_df['Performance'] == 'Unsatisfactory']\n",
    "min_nse_row"
   ]
  },
  {
   "cell_type": "code",
   "execution_count": null,
   "metadata": {},
   "outputs": [
    {
     "data": {
      "text/plain": [
       "<matplotlib.legend.Legend at 0x1cc732c8cb0>"
      ]
     },
     "execution_count": 40,
     "metadata": {},
     "output_type": "execute_result"
    },
    {
     "data": {
      "image/png": "[encoded data removed]",
      "text/plain": [
       "<Figure size 1600x1000 with 1 Axes>"
      ]
     },
     "metadata": {},
     "output_type": "display_data"
    }
   ],
   "source": [
    "# extract observations and simulations\n",
    "qobs = results['04164300']['1D']['xr']['discharge_obs']\n",
    "qsim = results['04164300']['1D']['xr']['discharge_sim']\n",
    "\n",
    "fig, ax = plt.subplots(figsize=(16,10))\n",
    "ax.plot(qobs['date'], qobs, label='Observed Discharge')\n",
    "ax.plot(qsim['date'], qsim, label='Simulated Discharge')\n",
    "ax.set_ylabel(\"Discharge (m³/s)\")\n",
    "ax.set_title(f\"Test period - NSE {results['04164300']['1D']['NSE']:.3f}\")\n",
    "ax.legend()  # Add legend to indicate which line is which"
   ]
  },
  {
   "cell_type": "code",
   "execution_count": 53,
   "metadata": {},
   "outputs": [
    {
     "data": {
      "text/plain": [
       "array([[0.9542694 ],\n",
       "       [0.96276283],\n",
       "       [0.96276283],\n",
       "       ...,\n",
       "       [0.8636551 ],\n",
       "       [0.8636551 ],\n",
       "       [0.8636551 ]], dtype=float32)"
      ]
     },
     "execution_count": 53,
     "metadata": {},
     "output_type": "execute_result"
    }
   ],
   "source": [
    " results['04043050']['1D']['xr']['discharge_obs'].values"
   ]
  },
  {
   "cell_type": "markdown",
   "metadata": {},
   "source": [
    "# Evaluation after inverse-transforming the predictions"
   ]
  },
  {
   "cell_type": "code",
   "execution_count": 68,
   "metadata": {},
   "outputs": [],
   "source": [
    "import numpy as np\n",
    "import pandas as pd\n",
    "import os\n",
    "\n",
    "def evaluate_basin_prediction(basin_id: str, run_dir: str, epoch_num: int, \n",
    "                              csv_dir: str = \"data/csv_files\",\n",
    "                              test_start_date: str = '01/01/2011',\n",
    "                              test_end_date: str = '31/12/2022',\n",
    "                              draw_graph: bool = True,\n",
    "                              min_max: bool = False,\n",
    "                              skip_eval: bool = False,\n",
    "                              apply_transformation: bool = True) -> float:\n",
    "    \n",
    "    \n",
    "    \n",
    "    run_dir = Path(\"runs/\" + run_dir)\n",
    "    \n",
    "    if not skip_eval:\n",
    "        eval_run(run_dir=run_dir, period=\"test\")\n",
    "    \n",
    "    # set the epoch number\n",
    "    epoch_num = str(epoch_num)\n",
    "    if len(epoch_num) == 1:\n",
    "        epoch_num = \"model_epoch00\" + epoch_num\n",
    "    elif len(epoch_num) == 2:\n",
    "        epoch_num = \"model_epoch0\" + epoch_num\n",
    "    else:\n",
    "        epoch_num = \"model_epoch\" + epoch_num\n",
    "    \n",
    "    # evaluation\n",
    "    with open(run_dir / \"test\" / epoch_num / \"test_results.p\", \"rb\") as fp:\n",
    "        results = pickle.load(fp)\n",
    "        \n",
    "    # simulated values\n",
    "    qsim = results[basin_id]['1D']['xr']['discharge_sim']\n",
    "    qsim_values = qsim.values\n",
    "    \n",
    "    if apply_transformation:\n",
    "        if min_max:\n",
    "            min = -13.815510557964274\n",
    "            max = 8.070835295146114\n",
    "            \n",
    "            inverted_qsim_values = qsim_values * (max - min) + min\n",
    "        else:\n",
    "            # invert the standardization\n",
    "            mean = 0.8561527661255196\n",
    "            var = 5.06157279557463\n",
    "\n",
    "            inverted_qsim_values = (qsim_values * np.sqrt(var)) + mean\n",
    "            \n",
    "        # Invert the log transformation\n",
    "        inverted_qsim_values = np.exp(inverted_qsim_values) - 1e-6\n",
    "            \n",
    "    else:\n",
    "        inverted_qsim_values = qsim_values\n",
    "    \n",
    "    \n",
    "    \n",
    "    # Read the CSV file as a dataframe\n",
    "    csv_file_path = Path(csv_dir) / f\"{basin_id}.csv\"\n",
    "    df = pd.read_csv(csv_file_path, index_col='date', parse_dates=True)\n",
    "    \n",
    "    # Filter the dataframe for the specified date range and select the \"discharge\" column\n",
    "    df_filtered = df.loc[test_start_date:test_end_date, ['discharge']]\n",
    "    \n",
    "    # Calculate NSE\n",
    "    observed_values = df_filtered['discharge'].values\n",
    "    simulated_values = inverted_qsim_values[:len(observed_values)]  # Ensure the lengths match\n",
    "    \n",
    "    mean_observed = np.mean(observed_values)\n",
    "    sum_squared_diff = sum((obs - sim) ** 2 for obs, sim in zip(observed_values, simulated_values))\n",
    "    mean_observed = np.mean(observed_values)\n",
    "    sum_squared_diff_mean = sum((obs - mean_observed) ** 2 for obs in observed_values)\n",
    "\n",
    "    if sum_squared_diff_mean == 0:\n",
    "        # Observed data is constant => no variability => NSE is undefined\n",
    "        nse = np.nan  # or some sentinel value\n",
    "    else:\n",
    "        nse = 1 - (sum_squared_diff / sum_squared_diff_mean)\n",
    "        nse = nse.item()\n",
    "    \n",
    "    if draw_graph:\n",
    "        fig, ax = plt.subplots(figsize=(16,10))\n",
    "        ax.plot(qsim['date'], observed_values, label='Observed Discharge')\n",
    "        ax.plot(qsim['date'], inverted_qsim_values, label='Simulated Discharge')\n",
    "        ax.set_ylabel(\"Discharge (m³/s)\")\n",
    "        ax.set_title(f\"Test period - NSE {nse:.3f}\")\n",
    "        ax.legend()\n",
    "    \n",
    "    return nse, observed_values, simulated_values, qsim['date']\n",
    "    \n",
    "    \n",
    "    "
   ]
  },
  {
   "cell_type": "code",
   "execution_count": 51,
   "metadata": {},
   "outputs": [
    {
     "data": {
      "image/png": "[encoded data removed]",
      "text/plain": [
       "<Figure size 1600x1000 with 1 Axes>"
      ]
     },
     "metadata": {},
     "output_type": "display_data"
    }
   ],
   "source": [
    "basin_id = \"04153500\"\n",
    "run_dir = \"GAGEii-ALL_US_with_static_minmax_standardized_1902_061410\"\n",
    "epoch_num = 100\n",
    "\n",
    "nse, obs, sim, dates = evaluate_basin_prediction(basin_id, run_dir, epoch_num, min_max=True, skip_eval=True, apply_transformation=True)"
   ]
  },
  {
   "cell_type": "code",
   "execution_count": 58,
   "metadata": {},
   "outputs": [],
   "source": [
    "basin_id = \"04034500\"\n",
    "csv_file_path = Path(\"data/csv_files\") / f\"{basin_id}.csv\"\n",
    "df = pd.read_csv(csv_file_path, index_col='date', parse_dates=True)"
   ]
  },
  {
   "cell_type": "code",
   "execution_count": 59,
   "metadata": {},
   "outputs": [
    {
     "data": {
      "application/vnd.microsoft.datawrangler.viewer.v0+json": {
       "columns": [
        {
         "name": "date",
         "rawType": "datetime64[ns]",
         "type": "datetime"
        },
        {
         "name": "discharge",
         "rawType": "float64",
         "type": "float"
        },
        {
         "name": "dayl",
         "rawType": "float64",
         "type": "float"
        },
        {
         "name": "prcp",
         "rawType": "float64",
         "type": "float"
        },
        {
         "name": "srad",
         "rawType": "float64",
         "type": "float"
        },
        {
         "name": "swe",
         "rawType": "float64",
         "type": "float"
        },
        {
         "name": "tmax",
         "rawType": "float64",
         "type": "float"
        },
        {
         "name": "tmin",
         "rawType": "float64",
         "type": "float"
        },
        {
         "name": "vp",
         "rawType": "float64",
         "type": "float"
        }
       ],
       "conversionMethod": "pd.DataFrame",
       "ref": "f298b8ec-3335-4412-9d8f-e868998baea1",
       "rows": [
        [
         "1980-01-01 00:00:00",
         "1.302562650431828",
         "30541.043",
         "0.0",
         "68.64328",
         "28.664677",
         "-1.8084115",
         "-5.2771297",
         "412.5832"
        ],
        [
         "1980-01-02 00:00:00",
         "1.2459294917174006",
         "30594.625",
         "0.0",
         "75.5797",
         "28.664677",
         "-4.9277616",
         "-8.721642",
         "316.24554"
        ],
        [
         "1980-01-03 00:00:00",
         "1.2176129123601869",
         "30652.557",
         "0.0",
         "160.34645",
         "28.664677",
         "-5.9381948",
         "-15.024441",
         "190.50478"
        ],
        [
         "1980-01-04 00:00:00",
         "1.2459294917174006",
         "30714.809",
         "0.0",
         "214.18077",
         "28.664677",
         "-8.031985",
         "-25.176805",
         "78.92706"
        ],
        [
         "1980-01-05 00:00:00",
         "1.2742460710746142",
         "30781.318",
         "4.979116",
         "147.28554",
         "33.643738",
         "-5.7391877",
         "-16.562782",
         "167.7101"
        ],
        [
         "1980-01-06 00:00:00",
         "1.2742460710746142",
         "30852.035",
         "11.65231",
         "97.89436",
         "45.29603",
         "-4.4912996",
         "-11.180703",
         "260.27887"
        ],
        [
         "1980-01-07 00:00:00",
         "1.2459294917174006",
         "30926.91",
         "1.6595486",
         "138.0717",
         "46.955597",
         "-7.6375446",
         "-15.080758",
         "189.65118"
        ],
        [
         "1980-01-08 00:00:00",
         "1.2742460710746142",
         "31005.87",
         "0.0",
         "172.85379",
         "46.955597",
         "-16.318882",
         "-25.595848",
         "76.0594"
        ],
        [
         "1980-01-09 00:00:00",
         "1.2742460710746142",
         "31088.87",
         "0.0",
         "211.39885",
         "46.955597",
         "-17.426554",
         "-30.847275",
         "46.52547"
        ],
        [
         "1980-01-10 00:00:00",
         "1.2742460710746142",
         "31175.834",
         "4.0184836",
         "176.4884",
         "50.973827",
         "-2.0540254",
         "-24.851877",
         "81.30204"
        ],
        [
         "1980-01-11 00:00:00",
         "1.2742460710746142",
         "31266.707",
         "2.7740433",
         "177.34595",
         "53.747887",
         "0.7883935",
         "-18.983917",
         "136.38448"
        ],
        [
         "1980-01-12 00:00:00",
         "1.2742460710746142",
         "31361.416",
         "2.6394405",
         "163.30255",
         "56.386826",
         "-8.264331",
         "-21.81926",
         "106.65143"
        ],
        [
         "1980-01-13 00:00:00",
         "1.2742460710746142",
         "31459.889",
         "1.8097111",
         "195.49493",
         "58.196495",
         "-1.0632491",
         "-14.5614805",
         "197.95126"
        ],
        [
         "1980-01-14 00:00:00",
         "1.2742460710746142",
         "31562.06",
         "3.2553432",
         "153.78104",
         "61.45196",
         "-1.0388808",
         "-9.909242",
         "288.1233"
        ],
        [
         "1980-01-15 00:00:00",
         "1.2742460710746142",
         "31667.863",
         "13.318394",
         "103.033676",
         "69.78317",
         "0.3228881",
         "-6.103321",
         "387.3432"
        ],
        [
         "1980-01-16 00:00:00",
         "1.2742460710746142",
         "31777.225",
         "11.294675",
         "35.263683",
         "67.884766",
         "0.3497112",
         "-1.4803609",
         "548.0029"
        ],
        [
         "1980-01-17 00:00:00",
         "1.2742460710746142",
         "31890.05",
         "0.0",
         "58.713104",
         "66.58428",
         "-0.48797828",
         "-2.9026713",
         "493.28925"
        ],
        [
         "1980-01-18 00:00:00",
         "1.2742460710746142",
         "32006.285",
         "0.0",
         "83.46053",
         "66.48879",
         "-2.2543683",
         "-5.810271",
         "396.1902"
        ],
        [
         "1980-01-19 00:00:00",
         "1.2742460710746142",
         "32125.848",
         "0.0",
         "140.12825",
         "66.48879",
         "-3.4584296",
         "-9.657003",
         "294.08862"
        ],
        [
         "1980-01-20 00:00:00",
         "1.2742460710746142",
         "32248.672",
         "0.0",
         "217.67601",
         "66.48879",
         "-5.266805",
         "-16.405323",
         "169.847"
        ],
        [
         "1980-01-21 00:00:00",
         "1.2742460710746142",
         "32374.654",
         "3.3588986",
         "189.7881",
         "69.84772",
         "-1.9894222",
         "-17.92341",
         "149.2574"
        ],
        [
         "1980-01-22 00:00:00",
         "1.2742460710746142",
         "32503.74",
         "2.7211194",
         "164.19173",
         "72.5688",
         "-4.680614",
         "-15.400324",
         "184.5119"
        ],
        [
         "1980-01-23 00:00:00",
         "1.2742460710746142",
         "32635.852",
         "1.5098555",
         "182.24553",
         "74.07867",
         "-13.10435",
         "-21.060217",
         "114.04784"
        ],
        [
         "1980-01-24 00:00:00",
         "1.2742460710746142",
         "32770.89",
         "0.0033393502",
         "228.43193",
         "74.08202",
         "-12.454188",
         "-23.374043",
         "92.84801"
        ],
        [
         "1980-01-25 00:00:00",
         "1.2742460710746142",
         "32908.8",
         "0.0",
         "220.81186",
         "74.08202",
         "-10.309169",
         "-20.428123",
         "120.336075"
        ],
        [
         "1980-01-26 00:00:00",
         "1.2742460710746142",
         "33049.5",
         "0.0",
         "155.1543",
         "74.08202",
         "-12.521173",
         "-18.726137",
         "139.52354"
        ],
        [
         "1980-01-27 00:00:00",
         "1.2742460710746142",
         "33192.906",
         "0.0",
         "201.18796",
         "74.08202",
         "-12.9826355",
         "-21.411804",
         "110.48264"
        ],
        [
         "1980-01-28 00:00:00",
         "1.2742460710746142",
         "33338.94",
         "1.2043864",
         "239.55525",
         "75.286354",
         "-10.862762",
         "-21.765055",
         "107.25256"
        ],
        [
         "1980-01-29 00:00:00",
         "1.2742460710746142",
         "33487.543",
         "0.0",
         "245.05951",
         "75.286354",
         "-12.55204",
         "-23.650887",
         "90.78311"
        ],
        [
         "1980-01-30 00:00:00",
         "1.2742460710746142",
         "33638.62",
         "0.0",
         "293.0597",
         "75.286354",
         "-11.247293",
         "-29.20498",
         "54.387222"
        ],
        [
         "1980-01-31 00:00:00",
         "1.2742460710746142",
         "33792.1",
         "0.0",
         "289.69962",
         "75.286354",
         "-10.424785",
         "-27.097094",
         "66.25468"
        ],
        [
         "1980-02-01 00:00:00",
         "1.2742460710746142",
         "33947.914",
         "0.0",
         "289.34637",
         "75.286354",
         "-9.099999",
         "-25.523937",
         "76.68837"
        ],
        [
         "1980-02-02 00:00:00",
         "1.2742460710746142",
         "34105.98",
         "0.0",
         "298.87384",
         "75.286354",
         "-7.8573284",
         "-26.085432",
         "72.6715"
        ],
        [
         "1980-02-03 00:00:00",
         "1.2742460710746142",
         "34266.242",
         "0.0",
         "291.91895",
         "75.286354",
         "-9.785777",
         "-25.681355",
         "75.415924"
        ],
        [
         "1980-02-04 00:00:00",
         "1.2742460710746142",
         "34428.613",
         "0.0",
         "315.66272",
         "75.286354",
         "-6.8829956",
         "-29.09011",
         "55.019154"
        ],
        [
         "1980-02-05 00:00:00",
         "1.2742460710746142",
         "34593.027",
         "0.0",
         "303.7531",
         "75.286354",
         "-5.791968",
         "-23.544006",
         "91.44011"
        ],
        [
         "1980-02-06 00:00:00",
         "1.2742460710746142",
         "34759.42",
         "0.0",
         "289.6974",
         "75.286354",
         "-6.0653434",
         "-21.329277",
         "111.24798"
        ],
        [
         "1980-02-07 00:00:00",
         "1.2742460710746142",
         "34927.72",
         "0.0",
         "320.151",
         "75.286354",
         "-4.899748",
         "-25.633015",
         "75.715126"
        ],
        [
         "1980-02-08 00:00:00",
         "1.2742460710746142",
         "35097.855",
         "0.0",
         "319.0783",
         "75.286354",
         "-4.9513717",
         "-24.655685",
         "82.7304"
        ],
        [
         "1980-02-09 00:00:00",
         "1.2742460710746142",
         "35269.766",
         "0.0",
         "287.0556",
         "75.286354",
         "-4.0422745",
         "-18.202131",
         "145.78569"
        ],
        [
         "1980-02-10 00:00:00",
         "1.2742460710746142",
         "35443.387",
         "1.3704873",
         "225.41508",
         "76.6568",
         "-6.33639",
         "-15.951859",
         "176.30832"
        ],
        [
         "1980-02-11 00:00:00",
         "1.2742460710746142",
         "35618.65",
         "0.97945845",
         "221.70883",
         "77.63622",
         "-4.8605776",
         "-13.670198",
         "212.82127"
        ],
        [
         "1980-02-12 00:00:00",
         "1.2742460710746142",
         "35795.5",
         "0.693195",
         "183.15723",
         "78.329475",
         "-6.841245",
         "-13.606553",
         "214.00032"
        ],
        [
         "1980-02-13 00:00:00",
         "1.2742460710746142",
         "35973.87",
         "0.0",
         "260.53894",
         "78.329475",
         "-5.78648",
         "-16.215126",
         "172.48318"
        ],
        [
         "1980-02-14 00:00:00",
         "1.2742460710746142",
         "36153.703",
         "0.0",
         "333.20343",
         "78.329475",
         "-7.010343",
         "-23.692545",
         "90.211105"
        ],
        [
         "1980-02-15 00:00:00",
         "1.2742460710746142",
         "36334.95",
         "0.30678698",
         "253.08424",
         "78.63639",
         "-7.126155",
         "-17.20767",
         "158.57312"
        ],
        [
         "1980-02-16 00:00:00",
         "1.2742460710746142",
         "36517.535",
         "0.0",
         "244.09824",
         "78.63639",
         "-9.707038",
         "-19.30009",
         "132.70255"
        ],
        [
         "1980-02-17 00:00:00",
         "1.2742460710746142",
         "36701.418",
         "0.0",
         "309.3811",
         "78.63639",
         "-5.751065",
         "-19.62038",
         "129.05858"
        ],
        [
         "1980-02-18 00:00:00",
         "1.2742460710746142",
         "36886.54",
         "0.0",
         "349.30457",
         "78.63639",
         "0.3567148",
         "-18.058142",
         "147.54381"
        ],
        [
         "1980-02-19 00:00:00",
         "1.2742460710746142",
         "37072.844",
         "1.2119133",
         "131.26715",
         "79.64772",
         "-0.67947656",
         "-6.053141",
         "388.9574"
        ]
       ],
       "shape": {
        "columns": 8,
        "rows": 16071
       }
      },
      "text/html": [
       "<div>\n",
       "<style scoped>\n",
       "    .dataframe tbody tr th:only-of-type {\n",
       "        vertical-align: middle;\n",
       "    }\n",
       "\n",
       "    .dataframe tbody tr th {\n",
       "        vertical-align: top;\n",
       "    }\n",
       "\n",
       "    .dataframe thead th {\n",
       "        text-align: right;\n",
       "    }\n",
       "</style>\n",
       "<table border=\"1\" class=\"dataframe\">\n",
       "  <thead>\n",
       "    <tr style=\"text-align: right;\">\n",
       "      <th></th>\n",
       "      <th>discharge</th>\n",
       "      <th>dayl</th>\n",
       "      <th>prcp</th>\n",
       "      <th>srad</th>\n",
       "      <th>swe</th>\n",
       "      <th>tmax</th>\n",
       "      <th>tmin</th>\n",
       "      <th>vp</th>\n",
       "    </tr>\n",
       "    <tr>\n",
       "      <th>date</th>\n",
       "      <th></th>\n",
       "      <th></th>\n",
       "      <th></th>\n",
       "      <th></th>\n",
       "      <th></th>\n",
       "      <th></th>\n",
       "      <th></th>\n",
       "      <th></th>\n",
       "    </tr>\n",
       "  </thead>\n",
       "  <tbody>\n",
       "    <tr>\n",
       "      <th>1980-01-01</th>\n",
       "      <td>1.302563</td>\n",
       "      <td>30541.043</td>\n",
       "      <td>0.000000</td>\n",
       "      <td>68.643280</td>\n",
       "      <td>28.664677</td>\n",
       "      <td>-1.808412</td>\n",
       "      <td>-5.277130</td>\n",
       "      <td>412.58320</td>\n",
       "    </tr>\n",
       "    <tr>\n",
       "      <th>1980-01-02</th>\n",
       "      <td>1.245929</td>\n",
       "      <td>30594.625</td>\n",
       "      <td>0.000000</td>\n",
       "      <td>75.579700</td>\n",
       "      <td>28.664677</td>\n",
       "      <td>-4.927762</td>\n",
       "      <td>-8.721642</td>\n",
       "      <td>316.24554</td>\n",
       "    </tr>\n",
       "    <tr>\n",
       "      <th>1980-01-03</th>\n",
       "      <td>1.217613</td>\n",
       "      <td>30652.557</td>\n",
       "      <td>0.000000</td>\n",
       "      <td>160.346450</td>\n",
       "      <td>28.664677</td>\n",
       "      <td>-5.938195</td>\n",
       "      <td>-15.024441</td>\n",
       "      <td>190.50478</td>\n",
       "    </tr>\n",
       "    <tr>\n",
       "      <th>1980-01-04</th>\n",
       "      <td>1.245929</td>\n",
       "      <td>30714.809</td>\n",
       "      <td>0.000000</td>\n",
       "      <td>214.180770</td>\n",
       "      <td>28.664677</td>\n",
       "      <td>-8.031985</td>\n",
       "      <td>-25.176805</td>\n",
       "      <td>78.92706</td>\n",
       "    </tr>\n",
       "    <tr>\n",
       "      <th>1980-01-05</th>\n",
       "      <td>1.274246</td>\n",
       "      <td>30781.318</td>\n",
       "      <td>4.979116</td>\n",
       "      <td>147.285540</td>\n",
       "      <td>33.643738</td>\n",
       "      <td>-5.739188</td>\n",
       "      <td>-16.562782</td>\n",
       "      <td>167.71010</td>\n",
       "    </tr>\n",
       "    <tr>\n",
       "      <th>...</th>\n",
       "      <td>...</td>\n",
       "      <td>...</td>\n",
       "      <td>...</td>\n",
       "      <td>...</td>\n",
       "      <td>...</td>\n",
       "      <td>...</td>\n",
       "      <td>...</td>\n",
       "      <td>...</td>\n",
       "    </tr>\n",
       "    <tr>\n",
       "      <th>2023-12-27</th>\n",
       "      <td>2.769361</td>\n",
       "      <td>30339.834</td>\n",
       "      <td>0.000000</td>\n",
       "      <td>68.957634</td>\n",
       "      <td>0.000000</td>\n",
       "      <td>1.697310</td>\n",
       "      <td>-1.777960</td>\n",
       "      <td>536.22390</td>\n",
       "    </tr>\n",
       "    <tr>\n",
       "      <th>2023-12-28</th>\n",
       "      <td>2.769361</td>\n",
       "      <td>30371.008</td>\n",
       "      <td>0.000000</td>\n",
       "      <td>66.018610</td>\n",
       "      <td>0.000000</td>\n",
       "      <td>0.767599</td>\n",
       "      <td>-2.490578</td>\n",
       "      <td>508.60898</td>\n",
       "    </tr>\n",
       "    <tr>\n",
       "      <th>2023-12-29</th>\n",
       "      <td>2.769361</td>\n",
       "      <td>30406.723</td>\n",
       "      <td>0.000000</td>\n",
       "      <td>142.806230</td>\n",
       "      <td>0.000000</td>\n",
       "      <td>3.756517</td>\n",
       "      <td>-4.390866</td>\n",
       "      <td>441.36816</td>\n",
       "    </tr>\n",
       "    <tr>\n",
       "      <th>2023-12-30</th>\n",
       "      <td>2.769361</td>\n",
       "      <td>30446.950</td>\n",
       "      <td>0.361859</td>\n",
       "      <td>156.630420</td>\n",
       "      <td>0.361859</td>\n",
       "      <td>0.485505</td>\n",
       "      <td>-8.019676</td>\n",
       "      <td>334.03226</td>\n",
       "    </tr>\n",
       "    <tr>\n",
       "      <th>2023-12-31</th>\n",
       "      <td>2.769361</td>\n",
       "      <td>30491.664</td>\n",
       "      <td>0.644819</td>\n",
       "      <td>95.241570</td>\n",
       "      <td>1.006787</td>\n",
       "      <td>-3.632166</td>\n",
       "      <td>-7.589079</td>\n",
       "      <td>345.40500</td>\n",
       "    </tr>\n",
       "  </tbody>\n",
       "</table>\n",
       "<p>16071 rows × 8 columns</p>\n",
       "</div>"
      ],
      "text/plain": [
       "            discharge       dayl      prcp        srad        swe      tmax  \\\n",
       "date                                                                          \n",
       "1980-01-01   1.302563  30541.043  0.000000   68.643280  28.664677 -1.808412   \n",
       "1980-01-02   1.245929  30594.625  0.000000   75.579700  28.664677 -4.927762   \n",
       "1980-01-03   1.217613  30652.557  0.000000  160.346450  28.664677 -5.938195   \n",
       "1980-01-04   1.245929  30714.809  0.000000  214.180770  28.664677 -8.031985   \n",
       "1980-01-05   1.274246  30781.318  4.979116  147.285540  33.643738 -5.739188   \n",
       "...               ...        ...       ...         ...        ...       ...   \n",
       "2023-12-27   2.769361  30339.834  0.000000   68.957634   0.000000  1.697310   \n",
       "2023-12-28   2.769361  30371.008  0.000000   66.018610   0.000000  0.767599   \n",
       "2023-12-29   2.769361  30406.723  0.000000  142.806230   0.000000  3.756517   \n",
       "2023-12-30   2.769361  30446.950  0.361859  156.630420   0.361859  0.485505   \n",
       "2023-12-31   2.769361  30491.664  0.644819   95.241570   1.006787 -3.632166   \n",
       "\n",
       "                 tmin         vp  \n",
       "date                              \n",
       "1980-01-01  -5.277130  412.58320  \n",
       "1980-01-02  -8.721642  316.24554  \n",
       "1980-01-03 -15.024441  190.50478  \n",
       "1980-01-04 -25.176805   78.92706  \n",
       "1980-01-05 -16.562782  167.71010  \n",
       "...               ...        ...  \n",
       "2023-12-27  -1.777960  536.22390  \n",
       "2023-12-28  -2.490578  508.60898  \n",
       "2023-12-29  -4.390866  441.36816  \n",
       "2023-12-30  -8.019676  334.03226  \n",
       "2023-12-31  -7.589079  345.40500  \n",
       "\n",
       "[16071 rows x 8 columns]"
      ]
     },
     "execution_count": 59,
     "metadata": {},
     "output_type": "execute_result"
    }
   ],
   "source": [
    "df"
   ]
  },
  {
   "cell_type": "code",
   "execution_count": 60,
   "metadata": {},
   "outputs": [
    {
     "data": {
      "text/plain": [
       "discharge    0\n",
       "dayl         0\n",
       "prcp         0\n",
       "srad         0\n",
       "swe          0\n",
       "tmax         0\n",
       "tmin         0\n",
       "vp           0\n",
       "dtype: int64"
      ]
     },
     "execution_count": 60,
     "metadata": {},
     "output_type": "execute_result"
    }
   ],
   "source": [
    "df.isnull().sum()"
   ]
  },
  {
   "cell_type": "code",
   "execution_count": 9,
   "metadata": {},
   "outputs": [
    {
     "data": {
      "text/plain": [
       "array([0.95426872, 0.9627637 , 0.9627637 , ..., 0.86365567, 0.86365567,\n",
       "       0.86365567])"
      ]
     },
     "execution_count": 9,
     "metadata": {},
     "output_type": "execute_result"
    }
   ],
   "source": [
    "obs"
   ]
  },
  {
   "cell_type": "code",
   "execution_count": 24,
   "metadata": {},
   "outputs": [
    {
     "data": {
      "text/plain": [
       "(4383,)"
      ]
     },
     "execution_count": 24,
     "metadata": {},
     "output_type": "execute_result"
    }
   ],
   "source": [
    "sim.flatten().shape"
   ]
  },
  {
   "cell_type": "code",
   "execution_count": 25,
   "metadata": {},
   "outputs": [
    {
     "data": {
      "text/plain": [
       "(4383,)"
      ]
     },
     "execution_count": 25,
     "metadata": {},
     "output_type": "execute_result"
    }
   ],
   "source": [
    "dates['date'].values.shape"
   ]
  },
  {
   "cell_type": "code",
   "execution_count": 53,
   "metadata": {},
   "outputs": [],
   "source": [
    "result_df = pd.DataFrame({\n",
    "        'date': dates['date'].values,\n",
    "        'observed': obs.flatten(),\n",
    "        'simulated': sim.flatten()\n",
    "    })"
   ]
  },
  {
   "cell_type": "code",
   "execution_count": 46,
   "metadata": {},
   "outputs": [
    {
     "data": {
      "application/vnd.microsoft.datawrangler.viewer.v0+json": {
       "columns": [
        {
         "name": "index",
         "rawType": "int64",
         "type": "integer"
        },
        {
         "name": "date",
         "rawType": "datetime64[ns]",
         "type": "datetime"
        },
        {
         "name": "observed",
         "rawType": "float64",
         "type": "float"
        },
        {
         "name": "simulated",
         "rawType": "float32",
         "type": "float"
        }
       ],
       "conversionMethod": "pd.DataFrame",
       "ref": "40fd0f26-0ffe-4b49-acc3-20c1cbb627e1",
       "rows": [
        [
         "0",
         "2011-01-01 00:00:00",
         "0.2435225824720374",
         "0.46559644"
        ],
        [
         "1",
         "2011-01-02 00:00:00",
         "0.2435225824720374",
         "0.427731"
        ],
        [
         "2",
         "2011-01-03 00:00:00",
         "0.2435225824720374",
         "0.36110547"
        ],
        [
         "3",
         "2011-01-04 00:00:00",
         "0.2435225824720374",
         "0.44934115"
        ],
        [
         "4",
         "2011-01-05 00:00:00",
         "0.2435225824720374",
         "0.5652469"
        ],
        [
         "5",
         "2011-01-06 00:00:00",
         "0.2435225824720374",
         "0.34138602"
        ],
        [
         "6",
         "2011-01-07 00:00:00",
         "0.2435225824720374",
         "0.37616163"
        ],
        [
         "7",
         "2011-01-08 00:00:00",
         "0.2435225824720374",
         "0.49150768"
        ],
        [
         "8",
         "2011-01-09 00:00:00",
         "0.2435225824720374",
         "0.48151034"
        ],
        [
         "9",
         "2011-01-10 00:00:00",
         "0.2435225824720374",
         "0.4381016"
        ],
        [
         "10",
         "2011-01-11 00:00:00",
         "0.2435225824720374",
         "0.4242765"
        ],
        [
         "11",
         "2011-01-12 00:00:00",
         "0.2435225824720374",
         "0.5756994"
        ],
        [
         "12",
         "2011-01-13 00:00:00",
         "0.2435225824720374",
         "0.61569697"
        ],
        [
         "13",
         "2011-01-14 00:00:00",
         "0.2435225824720374",
         "0.46774068"
        ],
        [
         "14",
         "2011-01-15 00:00:00",
         "0.2435225824720374",
         "0.45083618"
        ],
        [
         "15",
         "2011-01-16 00:00:00",
         "0.2435225824720374",
         "0.5590144"
        ],
        [
         "16",
         "2011-01-17 00:00:00",
         "0.2435225824720374",
         "0.32150045"
        ],
        [
         "17",
         "2011-01-18 00:00:00",
         "0.2435225824720374",
         "0.40949193"
        ],
        [
         "18",
         "2011-01-19 00:00:00",
         "0.2435225824720374",
         "0.50806296"
        ],
        [
         "19",
         "2011-01-20 00:00:00",
         "0.2435225824720374",
         "0.6918905"
        ],
        [
         "20",
         "2011-01-21 00:00:00",
         "0.2435225824720374",
         "0.6524806"
        ],
        [
         "21",
         "2011-01-22 00:00:00",
         "0.2435225824720374",
         "0.4489779"
        ],
        [
         "22",
         "2011-01-23 00:00:00",
         "0.2435225824720374",
         "0.3535781"
        ],
        [
         "23",
         "2011-01-24 00:00:00",
         "0.2435225824720374",
         "0.3568396"
        ],
        [
         "24",
         "2011-01-25 00:00:00",
         "0.2435225824720374",
         "0.46991363"
        ],
        [
         "25",
         "2011-01-26 00:00:00",
         "0.2435225824720374",
         "0.50409865"
        ],
        [
         "26",
         "2011-01-27 00:00:00",
         "0.2435225824720374",
         "0.37032235"
        ],
        [
         "27",
         "2011-01-28 00:00:00",
         "0.2435225824720374",
         "0.40887383"
        ],
        [
         "28",
         "2011-01-29 00:00:00",
         "0.2435225824720374",
         "0.5620481"
        ],
        [
         "29",
         "2011-01-30 00:00:00",
         "0.2435225824720374",
         "0.37876207"
        ],
        [
         "30",
         "2011-01-31 00:00:00",
         "0.2435225824720374",
         "0.31791458"
        ],
        [
         "31",
         "2011-02-01 00:00:00",
         "0.2435225824720374",
         "0.4474822"
        ],
        [
         "32",
         "2011-02-02 00:00:00",
         "0.2435225824720374",
         "0.59472793"
        ],
        [
         "33",
         "2011-02-03 00:00:00",
         "0.2435225824720374",
         "0.5026532"
        ],
        [
         "34",
         "2011-02-04 00:00:00",
         "0.2435225824720374",
         "0.4067786"
        ],
        [
         "35",
         "2011-02-05 00:00:00",
         "0.2435225824720374",
         "0.36706468"
        ],
        [
         "36",
         "2011-02-06 00:00:00",
         "0.2435225824720374",
         "0.5588358"
        ],
        [
         "37",
         "2011-02-07 00:00:00",
         "0.2435225824720374",
         "0.38621414"
        ],
        [
         "38",
         "2011-02-08 00:00:00",
         "0.2435225824720374",
         "0.4357681"
        ],
        [
         "39",
         "2011-02-09 00:00:00",
         "0.2435225824720374",
         "0.44777164"
        ],
        [
         "40",
         "2011-02-10 00:00:00",
         "0.2435225824720374",
         "0.30751684"
        ],
        [
         "41",
         "2011-02-11 00:00:00",
         "0.2435225824720374",
         "0.3332581"
        ],
        [
         "42",
         "2011-02-12 00:00:00",
         "0.2435225824720374",
         "0.54737663"
        ],
        [
         "43",
         "2011-02-13 00:00:00",
         "0.2435225824720374",
         "0.42395535"
        ],
        [
         "44",
         "2011-02-14 00:00:00",
         "0.2435225824720374",
         "0.35473385"
        ],
        [
         "45",
         "2011-02-15 00:00:00",
         "0.2435225824720374",
         "0.24690716"
        ],
        [
         "46",
         "2011-02-16 00:00:00",
         "0.2435225824720374",
         "0.26377198"
        ],
        [
         "47",
         "2011-02-17 00:00:00",
         "0.2435225824720374",
         "0.25090206"
        ],
        [
         "48",
         "2011-02-18 00:00:00",
         "0.2435225824720374",
         "0.33723983"
        ],
        [
         "49",
         "2011-02-19 00:00:00",
         "0.2435225824720374",
         "0.31745043"
        ]
       ],
       "shape": {
        "columns": 3,
        "rows": 4383
       }
      },
      "text/html": [
       "<div>\n",
       "<style scoped>\n",
       "    .dataframe tbody tr th:only-of-type {\n",
       "        vertical-align: middle;\n",
       "    }\n",
       "\n",
       "    .dataframe tbody tr th {\n",
       "        vertical-align: top;\n",
       "    }\n",
       "\n",
       "    .dataframe thead th {\n",
       "        text-align: right;\n",
       "    }\n",
       "</style>\n",
       "<table border=\"1\" class=\"dataframe\">\n",
       "  <thead>\n",
       "    <tr style=\"text-align: right;\">\n",
       "      <th></th>\n",
       "      <th>date</th>\n",
       "      <th>observed</th>\n",
       "      <th>simulated</th>\n",
       "    </tr>\n",
       "  </thead>\n",
       "  <tbody>\n",
       "    <tr>\n",
       "      <th>0</th>\n",
       "      <td>2011-01-01</td>\n",
       "      <td>0.243523</td>\n",
       "      <td>0.465596</td>\n",
       "    </tr>\n",
       "    <tr>\n",
       "      <th>1</th>\n",
       "      <td>2011-01-02</td>\n",
       "      <td>0.243523</td>\n",
       "      <td>0.427731</td>\n",
       "    </tr>\n",
       "    <tr>\n",
       "      <th>2</th>\n",
       "      <td>2011-01-03</td>\n",
       "      <td>0.243523</td>\n",
       "      <td>0.361105</td>\n",
       "    </tr>\n",
       "    <tr>\n",
       "      <th>3</th>\n",
       "      <td>2011-01-04</td>\n",
       "      <td>0.243523</td>\n",
       "      <td>0.449341</td>\n",
       "    </tr>\n",
       "    <tr>\n",
       "      <th>4</th>\n",
       "      <td>2011-01-05</td>\n",
       "      <td>0.243523</td>\n",
       "      <td>0.565247</td>\n",
       "    </tr>\n",
       "    <tr>\n",
       "      <th>...</th>\n",
       "      <td>...</td>\n",
       "      <td>...</td>\n",
       "      <td>...</td>\n",
       "    </tr>\n",
       "    <tr>\n",
       "      <th>4378</th>\n",
       "      <td>2022-12-27</td>\n",
       "      <td>0.243523</td>\n",
       "      <td>0.467106</td>\n",
       "    </tr>\n",
       "    <tr>\n",
       "      <th>4379</th>\n",
       "      <td>2022-12-28</td>\n",
       "      <td>0.243523</td>\n",
       "      <td>0.497841</td>\n",
       "    </tr>\n",
       "    <tr>\n",
       "      <th>4380</th>\n",
       "      <td>2022-12-29</td>\n",
       "      <td>0.243523</td>\n",
       "      <td>0.359936</td>\n",
       "    </tr>\n",
       "    <tr>\n",
       "      <th>4381</th>\n",
       "      <td>2022-12-30</td>\n",
       "      <td>0.243523</td>\n",
       "      <td>0.262606</td>\n",
       "    </tr>\n",
       "    <tr>\n",
       "      <th>4382</th>\n",
       "      <td>2022-12-31</td>\n",
       "      <td>0.243523</td>\n",
       "      <td>0.394208</td>\n",
       "    </tr>\n",
       "  </tbody>\n",
       "</table>\n",
       "<p>4383 rows × 3 columns</p>\n",
       "</div>"
      ],
      "text/plain": [
       "           date  observed  simulated\n",
       "0    2011-01-01  0.243523   0.465596\n",
       "1    2011-01-02  0.243523   0.427731\n",
       "2    2011-01-03  0.243523   0.361105\n",
       "3    2011-01-04  0.243523   0.449341\n",
       "4    2011-01-05  0.243523   0.565247\n",
       "...         ...       ...        ...\n",
       "4378 2022-12-27  0.243523   0.467106\n",
       "4379 2022-12-28  0.243523   0.497841\n",
       "4380 2022-12-29  0.243523   0.359936\n",
       "4381 2022-12-30  0.243523   0.262606\n",
       "4382 2022-12-31  0.243523   0.394208\n",
       "\n",
       "[4383 rows x 3 columns]"
      ]
     },
     "execution_count": 46,
     "metadata": {},
     "output_type": "execute_result"
    }
   ],
   "source": [
    "result_df"
   ]
  },
  {
   "cell_type": "code",
   "execution_count": 54,
   "metadata": {},
   "outputs": [
    {
     "data": {
      "text/plain": [
       "date            0\n",
       "observed     3812\n",
       "simulated       0\n",
       "dtype: int64"
      ]
     },
     "execution_count": 54,
     "metadata": {},
     "output_type": "execute_result"
    }
   ],
   "source": [
    "result_df.isna().sum()"
   ]
  },
  {
   "cell_type": "code",
   "execution_count": 55,
   "metadata": {},
   "outputs": [
    {
     "data": {
      "application/vnd.microsoft.datawrangler.viewer.v0+json": {
       "columns": [
        {
         "name": "index",
         "rawType": "int64",
         "type": "integer"
        },
        {
         "name": "date",
         "rawType": "datetime64[ns]",
         "type": "datetime"
        },
        {
         "name": "observed",
         "rawType": "float64",
         "type": "float"
        },
        {
         "name": "simulated",
         "rawType": "float32",
         "type": "float"
        }
       ],
       "conversionMethod": "pd.DataFrame",
       "ref": "317a30ee-4d04-4c76-902d-39636a002413",
       "rows": [
        [
         "3812",
         "2021-06-09 00:00:00",
         "0.6654396148945207",
         "0.8375255"
        ],
        [
         "3813",
         "2021-06-10 00:00:00",
         "0.6088064561800934",
         "0.6322798"
        ],
        [
         "3814",
         "2021-06-11 00:00:00",
         "0.651281325215914",
         "1.6703486"
        ],
        [
         "3815",
         "2021-06-12 00:00:00",
         "1.257256123460286",
         "0.36656266"
        ],
        [
         "3816",
         "2021-06-13 00:00:00",
         "2.517343904856294",
         "2.3195517"
        ],
        [
         "3817",
         "2021-06-14 00:00:00",
         "3.652838737080561",
         "1.6509421"
        ],
        [
         "3818",
         "2021-06-15 00:00:00",
         "2.132238425598188",
         "0.81649977"
        ],
        [
         "3819",
         "2021-06-16 00:00:00",
         "1.4752937845108312",
         "1.6275879"
        ],
        [
         "3820",
         "2021-06-17 00:00:00",
         "1.0760300155741187",
         "1.2022947"
        ],
        [
         "3821",
         "2021-06-18 00:00:00",
         "0.9259521449808864",
         "1.7284688"
        ],
        [
         "3822",
         "2021-06-19 00:00:00",
         "0.8296757751663599",
         "1.2635305"
        ],
        [
         "3823",
         "2021-06-20 00:00:00",
         "0.7333994053518335",
         "2.00108"
        ],
        [
         "3824",
         "2021-06-21 00:00:00",
         "0.690924536316013",
         "0.61007595"
        ],
        [
         "3825",
         "2021-06-22 00:00:00",
         "0.6626079569587994",
         "0.8882408"
        ],
        [
         "3826",
         "2021-06-23 00:00:00",
         "0.6484496672801926",
         "1.128733"
        ],
        [
         "3827",
         "2021-06-24 00:00:00",
         "0.682429562508849",
         "1.1881764"
        ],
        [
         "3828",
         "2021-06-25 00:00:00",
         "1.72164802491859",
         "1.5676514"
        ],
        [
         "3829",
         "2021-06-26 00:00:00",
         "14.073339940535185",
         "1.6060811"
        ],
        [
         "3830",
         "2021-06-27 00:00:00",
         "24.238991929774883",
         "0.74300975"
        ],
        [
         "3831",
         "2021-06-28 00:00:00",
         "13.138892821747136",
         "0.8267235"
        ],
        [
         "3832",
         "2021-06-29 00:00:00",
         "6.059747982443721",
         "1.3251857"
        ],
        [
         "3833",
         "2021-06-30 00:00:00",
         "3.964321110009911",
         "0.759946"
        ],
        [
         "3834",
         "2021-07-01 00:00:00",
         "2.7920147246212657",
         "0.94333524"
        ],
        [
         "3835",
         "2021-07-02 00:00:00",
         "2.0501203454622683",
         "1.3901435"
        ],
        [
         "3836",
         "2021-07-03 00:00:00",
         "1.5659068384539148",
         "1.533608"
        ],
        [
         "3837",
         "2021-07-04 00:00:00",
         "1.262919439331729",
         "1.3066115"
        ],
        [
         "3838",
         "2021-07-05 00:00:00",
         "1.01656519892397",
         "0.8436774"
        ],
        [
         "3839",
         "2021-07-06 00:00:00",
         "0.8636556703950163",
         "0.9191001"
        ],
        [
         "3840",
         "2021-07-07 00:00:00",
         "1.8773892113832649",
         "1.2303966"
        ],
        [
         "3841",
         "2021-07-08 00:00:00",
         "4.049270848081552",
         "0.8561376"
        ],
        [
         "3842",
         "2021-07-09 00:00:00",
         "3.171456888007929",
         "1.1629081"
        ],
        [
         "3843",
         "2021-07-10 00:00:00",
         "1.917032422483364",
         "0.99585533"
        ],
        [
         "3844",
         "2021-07-11 00:00:00",
         "1.3393742035962055",
         "0.6358723"
        ],
        [
         "3845",
         "2021-07-12 00:00:00",
         "1.0392184624097411",
         "1.1811042"
        ],
        [
         "3846",
         "2021-07-13 00:00:00",
         "1.101514936995611",
         "2.0349295"
        ],
        [
         "3847",
         "2021-07-14 00:00:00",
         "1.1836330171315306",
         "1.1362922"
        ],
        [
         "3848",
         "2021-07-15 00:00:00",
         "1.2374345179102366",
         "0.82069445"
        ],
        [
         "3849",
         "2021-07-16 00:00:00",
         "1.5998867336825713",
         "0.79248667"
        ],
        [
         "3850",
         "2021-07-17 00:00:00",
         "1.124168200481382",
         "1.1465485"
        ],
        [
         "3851",
         "2021-07-18 00:00:00",
         "0.8325074331020813",
         "0.6673023"
        ],
        [
         "3852",
         "2021-07-19 00:00:00",
         "0.6795979045731276",
         "1.164464"
        ],
        [
         "3853",
         "2021-07-20 00:00:00",
         "0.5918165085657653",
         "0.7776909"
        ],
        [
         "3854",
         "2021-07-21 00:00:00",
         "0.5181934022370098",
         "0.95629"
        ],
        [
         "3855",
         "2021-07-22 00:00:00",
         "0.4587285855868611",
         "1.2713873"
        ],
        [
         "3856",
         "2021-07-23 00:00:00",
         "0.4445702959082543",
         "1.5383599"
        ],
        [
         "3857",
         "2021-07-24 00:00:00",
         "0.8636556703950163",
         "2.152637"
        ],
        [
         "3858",
         "2021-07-25 00:00:00",
         "2.4946906413705223",
         "0.98582774"
        ],
        [
         "3859",
         "2021-07-26 00:00:00",
         "1.8264193685402803",
         "1.0048468"
        ],
        [
         "3860",
         "2021-07-27 00:00:00",
         "0.9287838029166076",
         "0.64265096"
        ],
        [
         "3861",
         "2021-07-28 00:00:00",
         "0.6795979045731276",
         "1.1970729"
        ]
       ],
       "shape": {
        "columns": 3,
        "rows": 571
       }
      },
      "text/html": [
       "<div>\n",
       "<style scoped>\n",
       "    .dataframe tbody tr th:only-of-type {\n",
       "        vertical-align: middle;\n",
       "    }\n",
       "\n",
       "    .dataframe tbody tr th {\n",
       "        vertical-align: top;\n",
       "    }\n",
       "\n",
       "    .dataframe thead th {\n",
       "        text-align: right;\n",
       "    }\n",
       "</style>\n",
       "<table border=\"1\" class=\"dataframe\">\n",
       "  <thead>\n",
       "    <tr style=\"text-align: right;\">\n",
       "      <th></th>\n",
       "      <th>date</th>\n",
       "      <th>observed</th>\n",
       "      <th>simulated</th>\n",
       "    </tr>\n",
       "  </thead>\n",
       "  <tbody>\n",
       "    <tr>\n",
       "      <th>3812</th>\n",
       "      <td>2021-06-09</td>\n",
       "      <td>0.665440</td>\n",
       "      <td>0.837525</td>\n",
       "    </tr>\n",
       "    <tr>\n",
       "      <th>3813</th>\n",
       "      <td>2021-06-10</td>\n",
       "      <td>0.608806</td>\n",
       "      <td>0.632280</td>\n",
       "    </tr>\n",
       "    <tr>\n",
       "      <th>3814</th>\n",
       "      <td>2021-06-11</td>\n",
       "      <td>0.651281</td>\n",
       "      <td>1.670349</td>\n",
       "    </tr>\n",
       "    <tr>\n",
       "      <th>3815</th>\n",
       "      <td>2021-06-12</td>\n",
       "      <td>1.257256</td>\n",
       "      <td>0.366563</td>\n",
       "    </tr>\n",
       "    <tr>\n",
       "      <th>3816</th>\n",
       "      <td>2021-06-13</td>\n",
       "      <td>2.517344</td>\n",
       "      <td>2.319552</td>\n",
       "    </tr>\n",
       "    <tr>\n",
       "      <th>...</th>\n",
       "      <td>...</td>\n",
       "      <td>...</td>\n",
       "      <td>...</td>\n",
       "    </tr>\n",
       "    <tr>\n",
       "      <th>4378</th>\n",
       "      <td>2022-12-27</td>\n",
       "      <td>0.736231</td>\n",
       "      <td>0.799603</td>\n",
       "    </tr>\n",
       "    <tr>\n",
       "      <th>4379</th>\n",
       "      <td>2022-12-28</td>\n",
       "      <td>0.756053</td>\n",
       "      <td>0.555996</td>\n",
       "    </tr>\n",
       "    <tr>\n",
       "      <th>4380</th>\n",
       "      <td>2022-12-29</td>\n",
       "      <td>0.815517</td>\n",
       "      <td>0.811662</td>\n",
       "    </tr>\n",
       "    <tr>\n",
       "      <th>4381</th>\n",
       "      <td>2022-12-30</td>\n",
       "      <td>1.245929</td>\n",
       "      <td>1.028656</td>\n",
       "    </tr>\n",
       "    <tr>\n",
       "      <th>4382</th>\n",
       "      <td>2022-12-31</td>\n",
       "      <td>2.321960</td>\n",
       "      <td>1.547791</td>\n",
       "    </tr>\n",
       "  </tbody>\n",
       "</table>\n",
       "<p>571 rows × 3 columns</p>\n",
       "</div>"
      ],
      "text/plain": [
       "           date  observed  simulated\n",
       "3812 2021-06-09  0.665440   0.837525\n",
       "3813 2021-06-10  0.608806   0.632280\n",
       "3814 2021-06-11  0.651281   1.670349\n",
       "3815 2021-06-12  1.257256   0.366563\n",
       "3816 2021-06-13  2.517344   2.319552\n",
       "...         ...       ...        ...\n",
       "4378 2022-12-27  0.736231   0.799603\n",
       "4379 2022-12-28  0.756053   0.555996\n",
       "4380 2022-12-29  0.815517   0.811662\n",
       "4381 2022-12-30  1.245929   1.028656\n",
       "4382 2022-12-31  2.321960   1.547791\n",
       "\n",
       "[571 rows x 3 columns]"
      ]
     },
     "execution_count": 55,
     "metadata": {},
     "output_type": "execute_result"
    }
   ],
   "source": [
    "result_df_cleaned = result_df.dropna()\n",
    "result_df_cleaned"
   ]
  },
  {
   "cell_type": "code",
   "execution_count": 57,
   "metadata": {},
   "outputs": [
    {
     "data": {
      "image/png": "[encoded data removed]",
      "text/plain": [
       "<Figure size 1400x700 with 1 Axes>"
      ]
     },
     "metadata": {},
     "output_type": "display_data"
    }
   ],
   "source": [
    "plt.figure(figsize=(14, 7))\n",
    "plt.plot(result_df_cleaned['date'], result_df_cleaned['observed'], label='Observed', color='blue')\n",
    "plt.plot(result_df_cleaned['date'], result_df_cleaned['simulated'], label='Simulated', color='red')\n",
    "plt.xlabel('Date')\n",
    "plt.ylabel('Discharge')\n",
    "plt.title('Observed vs Simulated Discharge Over Time')\n",
    "plt.legend()\n",
    "plt.grid(True)\n",
    "plt.show()"
   ]
  },
  {
   "cell_type": "markdown",
   "metadata": {},
   "source": [
    "### Evaluate Multiple Basins"
   ]
  },
  {
   "cell_type": "code",
   "execution_count": 69,
   "metadata": {},
   "outputs": [],
   "source": [
    "import numpy as np\n",
    "import pandas as pd\n",
    "from tqdm import tqdm\n",
    "\n",
    "def evaluate_multiple_basins(eval_list: str, run_dir: str, epoch_num: int, \n",
    "                              csv_dir: str = \"data/csv_files\",\n",
    "                              test_start_date: str = '01/01/2011',\n",
    "                              test_end_date: str = '31/12/2022',\n",
    "                              draw_graph: bool = True,\n",
    "                              min_max: bool = False,\n",
    "                              skip_eval: bool = False,\n",
    "                              apply_transformation = True) -> pd.DataFrame:\n",
    "    \n",
    "    # Read the basin IDs from the eval_list file\n",
    "    with open(eval_list, 'r') as file:\n",
    "        basin_ids = file.read().splitlines()\n",
    "    \n",
    "    nse_values = []\n",
    "    \n",
    "    evaluate_basin_prediction(basin_id=basin_ids[0], \n",
    "                              run_dir=run_dir, \n",
    "                              epoch_num=epoch_num,\n",
    "                              csv_dir=csv_dir,\n",
    "                              test_start_date=test_start_date,\n",
    "                              test_end_date=test_end_date,\n",
    "                              draw_graph=False,\n",
    "                              min_max=min_max,\n",
    "                              skip_eval=skip_eval,\n",
    "                              apply_transformation=apply_transformation)\n",
    "    \n",
    "    \n",
    "    for basin_id in tqdm(basin_ids):\n",
    "        nse, _, _, _ = evaluate_basin_prediction(basin_id, \n",
    "                              run_dir=run_dir, \n",
    "                              epoch_num=epoch_num,\n",
    "                              csv_dir=csv_dir,\n",
    "                              test_start_date=test_start_date,\n",
    "                              test_end_date=test_end_date,\n",
    "                              draw_graph=False,\n",
    "                              min_max=min_max,\n",
    "                              skip_eval=True,\n",
    "                              apply_transformation=apply_transformation)\n",
    "        nse_values.append(nse)\n",
    "        \n",
    "    nse_df = pd.DataFrame({'basin_id': basin_ids, 'NSE': nse_values})\n",
    "\n",
    "    \n",
    "    if draw_graph:\n",
    "        \n",
    "        print(f\"Summary Statistic: \\n{nse_df['NSE'].replace(-np.inf, np.nan).dropna().describe()}\\n\")\n",
    "        \n",
    "        nse_df['Performance'] = nse_df['NSE'].apply(lambda x: 'Excellent' if x > 0.75 else 'Good' if x >= 0.36 else 'Unsatisfactory' if x >= 0 else 'Negative')\n",
    "        \n",
    "        print(f\"Performance Summary: \\n{nse_df['Performance'].value_counts()}\\n\")\n",
    "        \n",
    "        \n",
    "    # Plot: Box plot\n",
    "    plt.figure(figsize=(10, 6))\n",
    "    plt.boxplot(nse_df['NSE'].replace(-np.inf, np.nan).dropna(), vert=True, patch_artist=True, labels=['NSE'])\n",
    "    plt.title(\"Distribution of NSE Values Across Subbasins\")\n",
    "    plt.ylabel(\"NSE\")\n",
    "    plt.grid(axis='y', linestyle='--', alpha=0.7)\n",
    "    plt.show()\n",
    "\n",
    "    # Plot: Histogram\n",
    "    plt.figure(figsize=(10, 6))\n",
    "    plt.hist(nse_df['NSE'].replace(-np.inf, np.nan).dropna(), bins=10, edgecolor='black', alpha=0.7)\n",
    "    plt.title(\"Histogram of NSE Values Across Subbasins\")\n",
    "    plt.xlabel(\"NSE\")\n",
    "    plt.ylabel(\"Frequency\")\n",
    "    plt.grid(axis='y', linestyle='--', alpha=0.7)\n",
    "    plt.show()\n",
    "        \n",
    "    \n",
    "    return nse_df\n",
    "    \n",
    "    \n",
    "    \n",
    "    "
   ]
  },
  {
   "cell_type": "code",
   "execution_count": 73,
   "metadata": {},
   "outputs": [
    {
     "name": "stderr",
     "output_type": "stream",
     "text": [
      "100%|██████████| 399/399 [00:33<00:00, 11.76it/s]"
     ]
    },
    {
     "name": "stdout",
     "output_type": "stream",
     "text": [
      "Summary Statistic: \n",
      "count    3.470000e+02\n",
      "mean    -1.976361e+32\n",
      "std      2.631673e+33\n",
      "min     -4.796612e+34\n",
      "25%     -2.331096e-01\n",
      "50%      6.215861e-01\n",
      "75%      7.614262e-01\n",
      "max      8.983960e-01\n",
      "Name: NSE, dtype: float64\n",
      "\n",
      "Performance Summary: \n",
      "Performance\n",
      "Negative          158\n",
      "Good              119\n",
      "Excellent          95\n",
      "Unsatisfactory     27\n",
      "Name: count, dtype: int64\n",
      "\n"
     ]
    },
    {
     "name": "stderr",
     "output_type": "stream",
     "text": [
      "\n"
     ]
    },
    {
     "data": {
      "image/png": "[encoded data removed]",
      "text/plain": [
       "<Figure size 1000x600 with 1 Axes>"
      ]
     },
     "metadata": {},
     "output_type": "display_data"
    },
    {
     "data": {
      "image/png": "[encoded data removed]",
      "text/plain": [
       "<Figure size 1000x600 with 1 Axes>"
      ]
     },
     "metadata": {},
     "output_type": "display_data"
    }
   ],
   "source": [
    "eval_list: str = r\"basin_list\\US_basin_list.txt\"\n",
    "run_dir = \"GAGEii-ALL_US_with_static_z_standardized_1902_141922\"\n",
    "epoch_num = 89\n",
    "\n",
    "df = evaluate_multiple_basins(eval_list, run_dir, epoch_num, min_max=False, skip_eval=True)"
   ]
  },
  {
   "cell_type": "code",
   "execution_count": 74,
   "metadata": {},
   "outputs": [
    {
     "data": {
      "application/vnd.microsoft.datawrangler.viewer.v0+json": {
       "columns": [
        {
         "name": "index",
         "rawType": "int64",
         "type": "integer"
        },
        {
         "name": "basin_id",
         "rawType": "object",
         "type": "string"
        },
        {
         "name": "NSE",
         "rawType": "float64",
         "type": "float"
        },
        {
         "name": "Performance",
         "rawType": "object",
         "type": "string"
        }
       ],
       "conversionMethod": "pd.DataFrame",
       "ref": "4b8531da-feb6-492c-a8b3-7da30cf3e310",
       "rows": [
        [
         "0",
         "03115973",
         "-5.588744163513184",
         "Negative"
        ],
        [
         "1",
         "04014500",
         null,
         "Negative"
        ],
        [
         "2",
         "04015330",
         "0.5398749113082886",
         "Good"
        ],
        [
         "3",
         "04015500",
         "-4.354754808483954e+29",
         "Negative"
        ],
        [
         "4",
         "04016000",
         "-2.877359620898296e+29",
         "Negative"
        ],
        [
         "5",
         "04016500",
         "-8.725748513039882e+29",
         "Negative"
        ],
        [
         "6",
         "04018750",
         "-4.721668025977363e+30",
         "Negative"
        ],
        [
         "7",
         "04021520",
         "0.27052223682403564",
         "Unsatisfactory"
        ],
        [
         "8",
         "04024000",
         "0.7916085720062256",
         "Excellent"
        ],
        [
         "9",
         "04024098",
         null,
         "Negative"
        ],
        [
         "10",
         "04024430",
         "0.70348060131073",
         "Good"
        ],
        [
         "11",
         "04025500",
         "0.14078617095947266",
         "Unsatisfactory"
        ],
        [
         "12",
         "04027000",
         "0.70921391248703",
         "Good"
        ],
        [
         "13",
         "04027500",
         "0.7038562893867493",
         "Good"
        ],
        [
         "14",
         "04029990",
         "0.08584457635879517",
         "Unsatisfactory"
        ],
        [
         "15",
         "04031000",
         "-0.02159738540649414",
         "Negative"
        ],
        [
         "16",
         "04031500",
         "-1.6982853909791604e+29",
         "Negative"
        ],
        [
         "17",
         "04032000",
         null,
         "Negative"
        ],
        [
         "18",
         "04033000",
         "0.37539738416671753",
         "Good"
        ],
        [
         "19",
         "04034500",
         "-56.30418014526367",
         "Negative"
        ],
        [
         "20",
         "04035500",
         "-5.259146471740015e+31",
         "Negative"
        ],
        [
         "21",
         "04036000",
         "0.578554093837738",
         "Good"
        ],
        [
         "22",
         "04037500",
         "0.29081660509109497",
         "Unsatisfactory"
        ],
        [
         "23",
         "04039500",
         null,
         "Negative"
        ],
        [
         "24",
         "04040000",
         "0.8249808549880981",
         "Excellent"
        ],
        [
         "25",
         "04040500",
         "0.8188079595565796",
         "Excellent"
        ],
        [
         "26",
         "04041500",
         "0.79938805103302",
         "Excellent"
        ],
        [
         "27",
         "04043050",
         "0.7830393314361572",
         "Excellent"
        ],
        [
         "28",
         "04043140",
         "-70.07615661621094",
         "Negative"
        ],
        [
         "29",
         "04043150",
         "0.12622123956680298",
         "Unsatisfactory"
        ],
        [
         "30",
         "04043238",
         "-51.5910530090332",
         "Negative"
        ],
        [
         "31",
         "04043244",
         "-43.520103454589844",
         "Negative"
        ],
        [
         "32",
         "04043275",
         "-0.8422591686248779",
         "Negative"
        ],
        [
         "33",
         "04044400",
         "-7.039900248661462e+30",
         "Negative"
        ],
        [
         "34",
         "04044724",
         "0.08039456605911255",
         "Unsatisfactory"
        ],
        [
         "35",
         "04045500",
         "0.8716147541999817",
         "Excellent"
        ],
        [
         "36",
         "04046000",
         "0.7003687024116516",
         "Good"
        ],
        [
         "37",
         "04056500",
         "0.8085732460021973",
         "Excellent"
        ],
        [
         "38",
         "04057000",
         "-1.3869394854215757e+29",
         "Negative"
        ],
        [
         "39",
         "04057510",
         "0.3532428741455078",
         "Unsatisfactory"
        ],
        [
         "40",
         "04057800",
         "0.7439676523208618",
         "Good"
        ],
        [
         "41",
         "04058100",
         "0.19310927391052246",
         "Unsatisfactory"
        ],
        [
         "42",
         "04058200",
         "0.4908760190010071",
         "Good"
        ],
        [
         "43",
         "04058500",
         null,
         "Negative"
        ],
        [
         "44",
         "04059000",
         "0.7843526601791382",
         "Excellent"
        ],
        [
         "45",
         "04059500",
         "0.7878247499465942",
         "Excellent"
        ],
        [
         "46",
         "04060500",
         "-0.1912449598312378",
         "Negative"
        ],
        [
         "47",
         "04060993",
         "0.640465259552002",
         "Good"
        ],
        [
         "48",
         "04061000",
         "-1.0639438190937793e+31",
         "Negative"
        ],
        [
         "49",
         "04061500",
         "-7.781682382681999e+31",
         "Negative"
        ]
       ],
       "shape": {
        "columns": 3,
        "rows": 399
       }
      },
      "text/html": [
       "<div>\n",
       "<style scoped>\n",
       "    .dataframe tbody tr th:only-of-type {\n",
       "        vertical-align: middle;\n",
       "    }\n",
       "\n",
       "    .dataframe tbody tr th {\n",
       "        vertical-align: top;\n",
       "    }\n",
       "\n",
       "    .dataframe thead th {\n",
       "        text-align: right;\n",
       "    }\n",
       "</style>\n",
       "<table border=\"1\" class=\"dataframe\">\n",
       "  <thead>\n",
       "    <tr style=\"text-align: right;\">\n",
       "      <th></th>\n",
       "      <th>basin_id</th>\n",
       "      <th>NSE</th>\n",
       "      <th>Performance</th>\n",
       "    </tr>\n",
       "  </thead>\n",
       "  <tbody>\n",
       "    <tr>\n",
       "      <th>0</th>\n",
       "      <td>03115973</td>\n",
       "      <td>-5.588744e+00</td>\n",
       "      <td>Negative</td>\n",
       "    </tr>\n",
       "    <tr>\n",
       "      <th>1</th>\n",
       "      <td>04014500</td>\n",
       "      <td>NaN</td>\n",
       "      <td>Negative</td>\n",
       "    </tr>\n",
       "    <tr>\n",
       "      <th>2</th>\n",
       "      <td>04015330</td>\n",
       "      <td>5.398749e-01</td>\n",
       "      <td>Good</td>\n",
       "    </tr>\n",
       "    <tr>\n",
       "      <th>3</th>\n",
       "      <td>04015500</td>\n",
       "      <td>-4.354755e+29</td>\n",
       "      <td>Negative</td>\n",
       "    </tr>\n",
       "    <tr>\n",
       "      <th>4</th>\n",
       "      <td>04016000</td>\n",
       "      <td>-2.877360e+29</td>\n",
       "      <td>Negative</td>\n",
       "    </tr>\n",
       "    <tr>\n",
       "      <th>...</th>\n",
       "      <td>...</td>\n",
       "      <td>...</td>\n",
       "      <td>...</td>\n",
       "    </tr>\n",
       "    <tr>\n",
       "      <th>394</th>\n",
       "      <td>04257000</td>\n",
       "      <td>-2.923478e+30</td>\n",
       "      <td>Negative</td>\n",
       "    </tr>\n",
       "    <tr>\n",
       "      <th>395</th>\n",
       "      <td>04258000</td>\n",
       "      <td>5.266503e-01</td>\n",
       "      <td>Good</td>\n",
       "    </tr>\n",
       "    <tr>\n",
       "      <th>396</th>\n",
       "      <td>04260500</td>\n",
       "      <td>8.484460e-01</td>\n",
       "      <td>Excellent</td>\n",
       "    </tr>\n",
       "    <tr>\n",
       "      <th>397</th>\n",
       "      <td>04263000</td>\n",
       "      <td>7.052814e-01</td>\n",
       "      <td>Good</td>\n",
       "    </tr>\n",
       "    <tr>\n",
       "      <th>398</th>\n",
       "      <td>05535070</td>\n",
       "      <td>7.008284e-01</td>\n",
       "      <td>Good</td>\n",
       "    </tr>\n",
       "  </tbody>\n",
       "</table>\n",
       "<p>399 rows × 3 columns</p>\n",
       "</div>"
      ],
      "text/plain": [
       "     basin_id           NSE Performance\n",
       "0    03115973 -5.588744e+00    Negative\n",
       "1    04014500           NaN    Negative\n",
       "2    04015330  5.398749e-01        Good\n",
       "3    04015500 -4.354755e+29    Negative\n",
       "4    04016000 -2.877360e+29    Negative\n",
       "..        ...           ...         ...\n",
       "394  04257000 -2.923478e+30    Negative\n",
       "395  04258000  5.266503e-01        Good\n",
       "396  04260500  8.484460e-01   Excellent\n",
       "397  04263000  7.052814e-01        Good\n",
       "398  05535070  7.008284e-01        Good\n",
       "\n",
       "[399 rows x 3 columns]"
      ]
     },
     "execution_count": 74,
     "metadata": {},
     "output_type": "execute_result"
    }
   ],
   "source": [
    "df"
   ]
  },
  {
   "cell_type": "code",
   "execution_count": 76,
   "metadata": {},
   "outputs": [
    {
     "data": {
      "image/png": "[encoded data removed]",
      "text/plain": [
       "<Figure size 1000x600 with 1 Axes>"
      ]
     },
     "metadata": {},
     "output_type": "display_data"
    },
    {
     "name": "stdout",
     "output_type": "stream",
     "text": [
      "    Epoch  Mean NSE  Median NSE   Max NSE\n",
      "0       1      -inf    0.578566  0.875217\n",
      "1       2      -inf    0.660511  0.883162\n",
      "2       3      -inf    0.628420  0.885251\n",
      "3       4      -inf    0.640016  0.898094\n",
      "4       5      -inf    0.596902  0.903408\n",
      "..    ...       ...         ...       ...\n",
      "95     96      -inf   -0.421969  0.678279\n",
      "96     97      -inf   -1.542073  0.542739\n",
      "97     98      -inf   -0.800277  0.373444\n",
      "98     99      -inf   -0.965816  0.315226\n",
      "99    100      -inf   -0.897385  0.327910\n",
      "\n",
      "[100 rows x 4 columns]\n"
     ]
    }
   ],
   "source": [
    "import os\n",
    "import pandas as pd\n",
    "import matplotlib.pyplot as plt\n",
    "\n",
    "def collect_nse_statistics(validation_folder, num_epochs):\n",
    "    mean_nse_values = []\n",
    "    median_nse_values = []\n",
    "    max_nse_values = []\n",
    "\n",
    "    for epoch in range(1, num_epochs + 1):\n",
    "        epoch_folder = os.path.join(validation_folder, f\"model_epoch{epoch:03d}\")\n",
    "        csv_file = os.path.join(epoch_folder, \"validation_metrics.csv\")\n",
    "\n",
    "        if os.path.exists(csv_file):\n",
    "            df = pd.read_csv(csv_file)\n",
    "            mean_nse = df[\"NSE\"].dropna().mean()\n",
    "            median_nse = df[\"NSE\"].dropna().median()\n",
    "            max_nse = df[\"NSE\"].dropna().max()\n",
    "            mean_nse_values.append(mean_nse)\n",
    "            median_nse_values.append(median_nse)\n",
    "            max_nse_values.append(max_nse)\n",
    "        else:\n",
    "            mean_nse_values.append(None)\n",
    "            median_nse_values.append(None)\n",
    "            max_nse_values.append(None)\n",
    "\n",
    "    return mean_nse_values, median_nse_values, max_nse_values\n",
    "\n",
    "def plot_nse_progress(nse_values, plot_type):\n",
    "    plt.figure(figsize=(10, 6))\n",
    "    epochs = range(1, len(nse_values) + 1)\n",
    "    plt.plot(epochs, nse_values, marker='o', label=f'{plot_type} NSE')\n",
    "    plt.xlabel(\"Epoch\")\n",
    "    plt.ylabel(f\"{plot_type} NSE\")\n",
    "    plt.title(f\"Validation {plot_type} NSE Progress\")\n",
    "    plt.grid(True)\n",
    "    plt.legend()\n",
    "    plt.show()\n",
    "\n",
    "def get_nse_dataframe(mean_nse_values, median_nse_values, max_nse_values):\n",
    "    nse_df = pd.DataFrame({\n",
    "        \"Epoch\": range(1, len(mean_nse_values) + 1),\n",
    "        \"Mean NSE\": mean_nse_values,\n",
    "        \"Median NSE\": median_nse_values,\n",
    "        \"Max NSE\": max_nse_values\n",
    "    })\n",
    "    return nse_df\n",
    "\n",
    "# Folder containing the validation subfolders\n",
    "validation_folder = \"runs/GAGEii-ALL_US_with_static_z_standardized_1902_141922/validation\"\n",
    "\n",
    "# Number of epochs (adjust this value as needed)\n",
    "num_epochs = 100\n",
    "\n",
    "# Collect NSE statistics\n",
    "mean_nse_values, median_nse_values, max_nse_values = collect_nse_statistics(validation_folder, num_epochs)\n",
    "\n",
    "# Plot NSE progress (specify which one to plot: 'Mean', 'Median', 'Max')\n",
    "plot_type = 'Median'  # Change this to 'Median' or 'Max' as needed\n",
    "if plot_type == 'Mean':\n",
    "    plot_nse_progress(mean_nse_values, plot_type)\n",
    "elif plot_type == 'Median':\n",
    "    plot_nse_progress(median_nse_values, plot_type)\n",
    "elif plot_type == 'Max':\n",
    "    plot_nse_progress(max_nse_values, plot_type)\n",
    "\n",
    "# Get NSE dataframe\n",
    "nse_df = get_nse_dataframe(mean_nse_values, median_nse_values, max_nse_values)\n",
    "\n",
    "# Display the dataframe\n",
    "print(nse_df)"
   ]
  }
 ],
 "metadata": {
  "kernelspec": {
   "display_name": "Python 3",
   "language": "python",
   "name": "python3"
  },
  "language_info": {
   "codemirror_mode": {
    "name": "ipython",
    "version": 3
   },
   "file_extension": ".py",
   "mimetype": "text/x-python",
   "name": "python",
   "nbconvert_exporter": "python",
   "pygments_lexer": "ipython3",
   "version": "3.12.9"
  }
 },
 "nbformat": 4,
 "nbformat_minor": 2
}
